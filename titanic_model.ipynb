{
 "cells": [
  {
   "cell_type": "markdown",
   "metadata": {},
   "source": [
<<<<<<< HEAD
    "## Setup, get data, plan work"
   ]
  },
  {
   "cell_type": "markdown",
   "metadata": {},
   "source": [
    "### Setup"
=======
    "## Setup and get data"
>>>>>>> e5bdd1bbbd0afed153ef38f6cc0cd509f4e3d021
   ]
  },
  {
   "cell_type": "code",
<<<<<<< HEAD
   "execution_count": 73,
   "metadata": {
    "ExecuteTime": {
     "end_time": "2021-01-26T14:48:58.132265Z",
     "start_time": "2021-01-26T14:48:58.109986Z"
=======
   "execution_count": 173,
   "metadata": {
    "ExecuteTime": {
     "end_time": "2020-11-02T09:53:21.198348Z",
     "start_time": "2020-11-02T09:53:21.072353Z"
>>>>>>> e5bdd1bbbd0afed153ef38f6cc0cd509f4e3d021
    }
   },
   "outputs": [
    {
     "name": "stdout",
     "output_type": "stream",
     "text": [
      "setup finished\n"
     ]
    }
   ],
   "source": [
<<<<<<< HEAD
    "#import libs and load data\n",
    "import pandas as pd\n",
    "import numpy as np \n",
    "import seaborn as sns \n",
    "import matplotlib.pyplot as plt\n",
    "\n",
=======
    "import pandas as pd\n",
    "import numpy as np \n",
    "\n",
    "train_data = pd.read_csv(\"../titanic/titanic_data/train.csv\")\n",
    "test_data = pd.read_csv(\"../titanic/titanic_data/test.csv\")\n",
>>>>>>> e5bdd1bbbd0afed153ef38f6cc0cd509f4e3d021
    "print(\"setup finished\")"
   ]
  },
  {
<<<<<<< HEAD
   "cell_type": "markdown",
   "metadata": {},
   "source": [
    "### Get data"
   ]
  },
  {
   "cell_type": "code",
   "execution_count": 132,
   "metadata": {
    "ExecuteTime": {
     "end_time": "2021-01-26T20:25:05.307738Z",
     "start_time": "2021-01-26T20:25:05.258215Z"
=======
   "cell_type": "code",
   "execution_count": 174,
   "metadata": {
    "ExecuteTime": {
     "end_time": "2020-11-02T09:53:22.834964Z",
     "start_time": "2020-11-02T09:53:22.794004Z"
>>>>>>> e5bdd1bbbd0afed153ef38f6cc0cd509f4e3d021
    }
   },
   "outputs": [
    {
     "name": "stdout",
     "output_type": "stream",
     "text": [
<<<<<<< HEAD
      "Train data shape (891, 12)\n",
      "Test data shape (418, 11)\n"
=======
      "(891, 12)\n",
      "(418, 11)\n"
>>>>>>> e5bdd1bbbd0afed153ef38f6cc0cd509f4e3d021
     ]
    }
   ],
   "source": [
<<<<<<< HEAD
    "#Load dataset from folder\n",
    "train_data = pd.read_csv(\"../titanic/titanic_data/train.csv\")\n",
    "test_data = pd.read_csv(\"../titanic/titanic_data/test.csv\")\n",
    "\n",
    "#Check shape of the data\n",
    "print('Train data shape {}'.format(train_data.shape))\n",
    "print('Test data shape {}'.format(test_data.shape))"
=======
    "print(train_data.shape)\n",
    "print(test_data.shape)"
>>>>>>> e5bdd1bbbd0afed153ef38f6cc0cd509f4e3d021
   ]
  },
  {
   "cell_type": "code",
<<<<<<< HEAD
   "execution_count": 133,
   "metadata": {
    "ExecuteTime": {
     "end_time": "2021-01-26T20:25:08.041036Z",
     "start_time": "2021-01-26T20:25:07.994064Z"
=======
   "execution_count": 172,
   "metadata": {
    "ExecuteTime": {
     "end_time": "2020-11-01T17:53:08.967991Z",
     "start_time": "2020-11-01T17:53:08.924544Z"
>>>>>>> e5bdd1bbbd0afed153ef38f6cc0cd509f4e3d021
    }
   },
   "outputs": [
    {
<<<<<<< HEAD
     "name": "stdout",
     "output_type": "stream",
     "text": [
      "Shape (1309, 13)\n",
      "----------------------\n",
      "Index(['PassengerId', 'Survived', 'Pclass', 'Name', 'Sex', 'Age', 'SibSp',\n",
      "       'Parch', 'Ticket', 'Fare', 'Cabin', 'Embarked', 'train_test'],\n",
      "      dtype='object')\n"
     ]
    }
   ],
   "source": [
    "#Concat data to get one full dataset \n",
    "train_data['train_test'] = 1\n",
    "test_data['train_test'] = 0\n",
    "test_data['Survived'] = np.NaN\n",
    "all_data = pd.concat([train_data,test_data])\n",
    "print('Shape', all_data.shape)\n",
    "print('----------------------')\n",
    "print(all_data.columns)"
   ]
  },
  {
   "cell_type": "markdown",
   "metadata": {},
   "source": [
    "### Plan work"
   ]
  },
  {
   "cell_type": "markdown",
   "metadata": {},
   "source": [
    "Plan of the work\n",
    "1. Setup and Load\n",
    "\n",
    "2. Explore data: \n",
    " 2.1. General\n",
    " 2.2. Hist, boxplots of num and cat data, look at the correlation\n",
    " 2.3. Explore the title in the name column\n",
    " 2.4. Explore ticket and cabin\n",
    " 2.5. Explore survival rate among features with nan values\n",
    "\n",
    "3. Data Preprocessing and feature generation\n",
    "\n",
    " 3.1. Add features to full data set\n",
    " 3.2. Fill missing data\n",
    " \n",
    " ...\n",
    " 3.x. Drop, Encode and Normalize\n",
    " 3.7. \n",
    " \n",
    "4. Model Building\n",
    " 4.1. Basic Model Validation\n",
    " 4.2. Model tuning"
=======
     "data": {
      "text/html": [
       "<div>\n",
       "<style scoped>\n",
       "    .dataframe tbody tr th:only-of-type {\n",
       "        vertical-align: middle;\n",
       "    }\n",
       "\n",
       "    .dataframe tbody tr th {\n",
       "        vertical-align: top;\n",
       "    }\n",
       "\n",
       "    .dataframe thead th {\n",
       "        text-align: right;\n",
       "    }\n",
       "</style>\n",
       "<table border=\"1\" class=\"dataframe\">\n",
       "  <thead>\n",
       "    <tr style=\"text-align: right;\">\n",
       "      <th></th>\n",
       "      <th>PassengerId</th>\n",
       "      <th>Pclass</th>\n",
       "      <th>Name</th>\n",
       "      <th>Sex</th>\n",
       "      <th>Age</th>\n",
       "      <th>SibSp</th>\n",
       "      <th>Parch</th>\n",
       "      <th>Ticket</th>\n",
       "      <th>Fare</th>\n",
       "      <th>Cabin</th>\n",
       "      <th>Embarked</th>\n",
       "    </tr>\n",
       "  </thead>\n",
       "  <tbody>\n",
       "    <tr>\n",
       "      <th>0</th>\n",
       "      <td>892</td>\n",
       "      <td>3</td>\n",
       "      <td>Kelly, Mr. James</td>\n",
       "      <td>male</td>\n",
       "      <td>34.5</td>\n",
       "      <td>0</td>\n",
       "      <td>0</td>\n",
       "      <td>330911</td>\n",
       "      <td>7.8292</td>\n",
       "      <td>NaN</td>\n",
       "      <td>Q</td>\n",
       "    </tr>\n",
       "    <tr>\n",
       "      <th>1</th>\n",
       "      <td>893</td>\n",
       "      <td>3</td>\n",
       "      <td>Wilkes, Mrs. James (Ellen Needs)</td>\n",
       "      <td>female</td>\n",
       "      <td>47.0</td>\n",
       "      <td>1</td>\n",
       "      <td>0</td>\n",
       "      <td>363272</td>\n",
       "      <td>7.0000</td>\n",
       "      <td>NaN</td>\n",
       "      <td>S</td>\n",
       "    </tr>\n",
       "    <tr>\n",
       "      <th>2</th>\n",
       "      <td>894</td>\n",
       "      <td>2</td>\n",
       "      <td>Myles, Mr. Thomas Francis</td>\n",
       "      <td>male</td>\n",
       "      <td>62.0</td>\n",
       "      <td>0</td>\n",
       "      <td>0</td>\n",
       "      <td>240276</td>\n",
       "      <td>9.6875</td>\n",
       "      <td>NaN</td>\n",
       "      <td>Q</td>\n",
       "    </tr>\n",
       "    <tr>\n",
       "      <th>3</th>\n",
       "      <td>895</td>\n",
       "      <td>3</td>\n",
       "      <td>Wirz, Mr. Albert</td>\n",
       "      <td>male</td>\n",
       "      <td>27.0</td>\n",
       "      <td>0</td>\n",
       "      <td>0</td>\n",
       "      <td>315154</td>\n",
       "      <td>8.6625</td>\n",
       "      <td>NaN</td>\n",
       "      <td>S</td>\n",
       "    </tr>\n",
       "    <tr>\n",
       "      <th>4</th>\n",
       "      <td>896</td>\n",
       "      <td>3</td>\n",
       "      <td>Hirvonen, Mrs. Alexander (Helga E Lindqvist)</td>\n",
       "      <td>female</td>\n",
       "      <td>22.0</td>\n",
       "      <td>1</td>\n",
       "      <td>1</td>\n",
       "      <td>3101298</td>\n",
       "      <td>12.2875</td>\n",
       "      <td>NaN</td>\n",
       "      <td>S</td>\n",
       "    </tr>\n",
       "  </tbody>\n",
       "</table>\n",
       "</div>"
      ],
      "text/plain": [
       "   PassengerId  Pclass                                          Name     Sex  \\\n",
       "0          892       3                              Kelly, Mr. James    male   \n",
       "1          893       3              Wilkes, Mrs. James (Ellen Needs)  female   \n",
       "2          894       2                     Myles, Mr. Thomas Francis    male   \n",
       "3          895       3                              Wirz, Mr. Albert    male   \n",
       "4          896       3  Hirvonen, Mrs. Alexander (Helga E Lindqvist)  female   \n",
       "\n",
       "    Age  SibSp  Parch   Ticket     Fare Cabin Embarked  \n",
       "0  34.5      0      0   330911   7.8292   NaN        Q  \n",
       "1  47.0      1      0   363272   7.0000   NaN        S  \n",
       "2  62.0      0      0   240276   9.6875   NaN        Q  \n",
       "3  27.0      0      0   315154   8.6625   NaN        S  \n",
       "4  22.0      1      1  3101298  12.2875   NaN        S  "
      ]
     },
     "execution_count": 172,
     "metadata": {},
     "output_type": "execute_result"
    }
   ],
   "source": [
    "test_data.head()"
>>>>>>> e5bdd1bbbd0afed153ef38f6cc0cd509f4e3d021
   ]
  },
  {
   "cell_type": "markdown",
   "metadata": {},
   "source": [
    "## Data exploring"
   ]
  },
  {
   "cell_type": "markdown",
   "metadata": {},
   "source": [
    "### General data exploring"
   ]
  },
  {
   "cell_type": "code",
   "execution_count": 4,
   "metadata": {
    "ExecuteTime": {
<<<<<<< HEAD
     "end_time": "2021-01-26T06:02:25.075041Z",
     "start_time": "2021-01-26T06:02:24.986343Z"
=======
     "end_time": "2020-10-29T17:07:37.134596Z",
     "start_time": "2020-10-29T17:07:37.020125Z"
>>>>>>> e5bdd1bbbd0afed153ef38f6cc0cd509f4e3d021
    }
   },
   "outputs": [
    {
     "data": {
      "text/html": [
       "<div>\n",
       "<style scoped>\n",
       "    .dataframe tbody tr th:only-of-type {\n",
       "        vertical-align: middle;\n",
       "    }\n",
       "\n",
       "    .dataframe tbody tr th {\n",
       "        vertical-align: top;\n",
       "    }\n",
       "\n",
       "    .dataframe thead th {\n",
       "        text-align: right;\n",
       "    }\n",
       "</style>\n",
       "<table border=\"1\" class=\"dataframe\">\n",
       "  <thead>\n",
       "    <tr style=\"text-align: right;\">\n",
       "      <th></th>\n",
       "      <th>PassengerId</th>\n",
       "      <th>Survived</th>\n",
       "      <th>Pclass</th>\n",
       "      <th>Age</th>\n",
       "      <th>SibSp</th>\n",
       "      <th>Parch</th>\n",
       "      <th>Fare</th>\n",
<<<<<<< HEAD
       "      <th>train_test</th>\n",
=======
>>>>>>> e5bdd1bbbd0afed153ef38f6cc0cd509f4e3d021
       "    </tr>\n",
       "  </thead>\n",
       "  <tbody>\n",
       "    <tr>\n",
       "      <th>count</th>\n",
       "      <td>891.000000</td>\n",
       "      <td>891.000000</td>\n",
       "      <td>891.000000</td>\n",
       "      <td>714.000000</td>\n",
       "      <td>891.000000</td>\n",
       "      <td>891.000000</td>\n",
       "      <td>891.000000</td>\n",
<<<<<<< HEAD
       "      <td>891.0</td>\n",
=======
>>>>>>> e5bdd1bbbd0afed153ef38f6cc0cd509f4e3d021
       "    </tr>\n",
       "    <tr>\n",
       "      <th>mean</th>\n",
       "      <td>446.000000</td>\n",
       "      <td>0.383838</td>\n",
       "      <td>2.308642</td>\n",
       "      <td>29.699118</td>\n",
       "      <td>0.523008</td>\n",
       "      <td>0.381594</td>\n",
       "      <td>32.204208</td>\n",
<<<<<<< HEAD
       "      <td>1.0</td>\n",
=======
>>>>>>> e5bdd1bbbd0afed153ef38f6cc0cd509f4e3d021
       "    </tr>\n",
       "    <tr>\n",
       "      <th>std</th>\n",
       "      <td>257.353842</td>\n",
       "      <td>0.486592</td>\n",
       "      <td>0.836071</td>\n",
       "      <td>14.526497</td>\n",
       "      <td>1.102743</td>\n",
       "      <td>0.806057</td>\n",
       "      <td>49.693429</td>\n",
<<<<<<< HEAD
       "      <td>0.0</td>\n",
=======
>>>>>>> e5bdd1bbbd0afed153ef38f6cc0cd509f4e3d021
       "    </tr>\n",
       "    <tr>\n",
       "      <th>min</th>\n",
       "      <td>1.000000</td>\n",
       "      <td>0.000000</td>\n",
       "      <td>1.000000</td>\n",
       "      <td>0.420000</td>\n",
       "      <td>0.000000</td>\n",
       "      <td>0.000000</td>\n",
       "      <td>0.000000</td>\n",
<<<<<<< HEAD
       "      <td>1.0</td>\n",
=======
>>>>>>> e5bdd1bbbd0afed153ef38f6cc0cd509f4e3d021
       "    </tr>\n",
       "    <tr>\n",
       "      <th>25%</th>\n",
       "      <td>223.500000</td>\n",
       "      <td>0.000000</td>\n",
       "      <td>2.000000</td>\n",
       "      <td>20.125000</td>\n",
       "      <td>0.000000</td>\n",
       "      <td>0.000000</td>\n",
       "      <td>7.910400</td>\n",
<<<<<<< HEAD
       "      <td>1.0</td>\n",
=======
>>>>>>> e5bdd1bbbd0afed153ef38f6cc0cd509f4e3d021
       "    </tr>\n",
       "    <tr>\n",
       "      <th>50%</th>\n",
       "      <td>446.000000</td>\n",
       "      <td>0.000000</td>\n",
       "      <td>3.000000</td>\n",
       "      <td>28.000000</td>\n",
       "      <td>0.000000</td>\n",
       "      <td>0.000000</td>\n",
       "      <td>14.454200</td>\n",
<<<<<<< HEAD
       "      <td>1.0</td>\n",
=======
>>>>>>> e5bdd1bbbd0afed153ef38f6cc0cd509f4e3d021
       "    </tr>\n",
       "    <tr>\n",
       "      <th>75%</th>\n",
       "      <td>668.500000</td>\n",
       "      <td>1.000000</td>\n",
       "      <td>3.000000</td>\n",
       "      <td>38.000000</td>\n",
       "      <td>1.000000</td>\n",
       "      <td>0.000000</td>\n",
       "      <td>31.000000</td>\n",
<<<<<<< HEAD
       "      <td>1.0</td>\n",
=======
>>>>>>> e5bdd1bbbd0afed153ef38f6cc0cd509f4e3d021
       "    </tr>\n",
       "    <tr>\n",
       "      <th>max</th>\n",
       "      <td>891.000000</td>\n",
       "      <td>1.000000</td>\n",
       "      <td>3.000000</td>\n",
       "      <td>80.000000</td>\n",
       "      <td>8.000000</td>\n",
       "      <td>6.000000</td>\n",
       "      <td>512.329200</td>\n",
<<<<<<< HEAD
       "      <td>1.0</td>\n",
=======
>>>>>>> e5bdd1bbbd0afed153ef38f6cc0cd509f4e3d021
       "    </tr>\n",
       "  </tbody>\n",
       "</table>\n",
       "</div>"
      ],
      "text/plain": [
       "       PassengerId    Survived      Pclass         Age       SibSp  \\\n",
       "count   891.000000  891.000000  891.000000  714.000000  891.000000   \n",
       "mean    446.000000    0.383838    2.308642   29.699118    0.523008   \n",
       "std     257.353842    0.486592    0.836071   14.526497    1.102743   \n",
       "min       1.000000    0.000000    1.000000    0.420000    0.000000   \n",
       "25%     223.500000    0.000000    2.000000   20.125000    0.000000   \n",
       "50%     446.000000    0.000000    3.000000   28.000000    0.000000   \n",
       "75%     668.500000    1.000000    3.000000   38.000000    1.000000   \n",
       "max     891.000000    1.000000    3.000000   80.000000    8.000000   \n",
       "\n",
<<<<<<< HEAD
       "            Parch        Fare  train_test  \n",
       "count  891.000000  891.000000       891.0  \n",
       "mean     0.381594   32.204208         1.0  \n",
       "std      0.806057   49.693429         0.0  \n",
       "min      0.000000    0.000000         1.0  \n",
       "25%      0.000000    7.910400         1.0  \n",
       "50%      0.000000   14.454200         1.0  \n",
       "75%      0.000000   31.000000         1.0  \n",
       "max      6.000000  512.329200         1.0  "
=======
       "            Parch        Fare  \n",
       "count  891.000000  891.000000  \n",
       "mean     0.381594   32.204208  \n",
       "std      0.806057   49.693429  \n",
       "min      0.000000    0.000000  \n",
       "25%      0.000000    7.910400  \n",
       "50%      0.000000   14.454200  \n",
       "75%      0.000000   31.000000  \n",
       "max      6.000000  512.329200  "
>>>>>>> e5bdd1bbbd0afed153ef38f6cc0cd509f4e3d021
      ]
     },
     "execution_count": 4,
     "metadata": {},
     "output_type": "execute_result"
    }
   ],
   "source": [
    "'''\n",
    "SibSp - siblings and spouse\n",
    "Parch - parents and children\n",
    "'''\n",
    "train_data.describe()"
   ]
  },
  {
   "cell_type": "code",
   "execution_count": 5,
   "metadata": {
    "ExecuteTime": {
<<<<<<< HEAD
     "end_time": "2021-01-26T06:02:29.205704Z",
     "start_time": "2021-01-26T06:02:29.190314Z"
=======
     "end_time": "2020-10-29T17:07:46.253303Z",
     "start_time": "2020-10-29T17:07:46.239247Z"
>>>>>>> e5bdd1bbbd0afed153ef38f6cc0cd509f4e3d021
    }
   },
   "outputs": [
    {
     "data": {
      "text/plain": [
       "Index(['PassengerId', 'Survived', 'Pclass', 'Name', 'Sex', 'Age', 'SibSp',\n",
<<<<<<< HEAD
       "       'Parch', 'Ticket', 'Fare', 'Cabin', 'Embarked', 'train_test'],\n",
=======
       "       'Parch', 'Ticket', 'Fare', 'Cabin', 'Embarked'],\n",
>>>>>>> e5bdd1bbbd0afed153ef38f6cc0cd509f4e3d021
       "      dtype='object')"
      ]
     },
     "execution_count": 5,
     "metadata": {},
     "output_type": "execute_result"
    }
   ],
   "source": [
    "# data columns\n",
    "train_data.columns"
   ]
  },
  {
   "cell_type": "code",
   "execution_count": 6,
   "metadata": {
    "ExecuteTime": {
<<<<<<< HEAD
     "end_time": "2021-01-26T06:02:34.018853Z",
     "start_time": "2021-01-26T06:02:33.988962Z"
    }
   },
   "outputs": [
    {
     "data": {
      "text/html": [
       "<div>\n",
       "<style scoped>\n",
       "    .dataframe tbody tr th:only-of-type {\n",
       "        vertical-align: middle;\n",
       "    }\n",
       "\n",
       "    .dataframe tbody tr th {\n",
       "        vertical-align: top;\n",
       "    }\n",
       "\n",
       "    .dataframe thead th {\n",
       "        text-align: right;\n",
       "    }\n",
       "</style>\n",
       "<table border=\"1\" class=\"dataframe\">\n",
       "  <thead>\n",
       "    <tr style=\"text-align: right;\">\n",
       "      <th></th>\n",
       "      <th>PassengerId</th>\n",
       "      <th>Survived</th>\n",
       "      <th>Pclass</th>\n",
       "      <th>Name</th>\n",
       "      <th>Sex</th>\n",
       "      <th>Age</th>\n",
       "      <th>SibSp</th>\n",
       "      <th>Parch</th>\n",
       "      <th>Ticket</th>\n",
       "      <th>Fare</th>\n",
       "      <th>Cabin</th>\n",
       "      <th>Embarked</th>\n",
       "      <th>train_test</th>\n",
       "    </tr>\n",
       "  </thead>\n",
       "  <tbody>\n",
       "    <tr>\n",
       "      <th>0</th>\n",
       "      <td>1</td>\n",
       "      <td>0.0</td>\n",
       "      <td>3</td>\n",
       "      <td>Braund, Mr. Owen Harris</td>\n",
       "      <td>male</td>\n",
       "      <td>22.0</td>\n",
       "      <td>1</td>\n",
       "      <td>0</td>\n",
       "      <td>A/5 21171</td>\n",
       "      <td>7.2500</td>\n",
       "      <td>NaN</td>\n",
       "      <td>S</td>\n",
       "      <td>1</td>\n",
       "    </tr>\n",
       "    <tr>\n",
       "      <th>1</th>\n",
       "      <td>2</td>\n",
       "      <td>1.0</td>\n",
       "      <td>1</td>\n",
       "      <td>Cumings, Mrs. John Bradley (Florence Briggs Th...</td>\n",
       "      <td>female</td>\n",
       "      <td>38.0</td>\n",
       "      <td>1</td>\n",
       "      <td>0</td>\n",
       "      <td>PC 17599</td>\n",
       "      <td>71.2833</td>\n",
       "      <td>C85</td>\n",
       "      <td>C</td>\n",
       "      <td>1</td>\n",
       "    </tr>\n",
       "    <tr>\n",
       "      <th>2</th>\n",
       "      <td>3</td>\n",
       "      <td>1.0</td>\n",
       "      <td>3</td>\n",
       "      <td>Heikkinen, Miss. Laina</td>\n",
       "      <td>female</td>\n",
       "      <td>26.0</td>\n",
       "      <td>0</td>\n",
       "      <td>0</td>\n",
       "      <td>STON/O2. 3101282</td>\n",
       "      <td>7.9250</td>\n",
       "      <td>NaN</td>\n",
       "      <td>S</td>\n",
       "      <td>1</td>\n",
       "    </tr>\n",
       "    <tr>\n",
       "      <th>3</th>\n",
       "      <td>4</td>\n",
       "      <td>1.0</td>\n",
       "      <td>1</td>\n",
       "      <td>Futrelle, Mrs. Jacques Heath (Lily May Peel)</td>\n",
       "      <td>female</td>\n",
       "      <td>35.0</td>\n",
       "      <td>1</td>\n",
       "      <td>0</td>\n",
       "      <td>113803</td>\n",
       "      <td>53.1000</td>\n",
       "      <td>C123</td>\n",
       "      <td>S</td>\n",
       "      <td>1</td>\n",
       "    </tr>\n",
       "    <tr>\n",
       "      <th>4</th>\n",
       "      <td>5</td>\n",
       "      <td>0.0</td>\n",
       "      <td>3</td>\n",
       "      <td>Allen, Mr. William Henry</td>\n",
       "      <td>male</td>\n",
       "      <td>35.0</td>\n",
       "      <td>0</td>\n",
       "      <td>0</td>\n",
       "      <td>373450</td>\n",
       "      <td>8.0500</td>\n",
       "      <td>NaN</td>\n",
       "      <td>S</td>\n",
       "      <td>1</td>\n",
       "    </tr>\n",
       "  </tbody>\n",
       "</table>\n",
       "</div>"
      ],
      "text/plain": [
       "   PassengerId  Survived  Pclass  \\\n",
       "0            1       0.0       3   \n",
       "1            2       1.0       1   \n",
       "2            3       1.0       3   \n",
       "3            4       1.0       1   \n",
       "4            5       0.0       3   \n",
       "\n",
       "                                                Name     Sex   Age  SibSp  \\\n",
       "0                            Braund, Mr. Owen Harris    male  22.0      1   \n",
       "1  Cumings, Mrs. John Bradley (Florence Briggs Th...  female  38.0      1   \n",
       "2                             Heikkinen, Miss. Laina  female  26.0      0   \n",
       "3       Futrelle, Mrs. Jacques Heath (Lily May Peel)  female  35.0      1   \n",
       "4                           Allen, Mr. William Henry    male  35.0      0   \n",
       "\n",
       "   Parch            Ticket     Fare Cabin Embarked  train_test  \n",
       "0      0         A/5 21171   7.2500   NaN        S           1  \n",
       "1      0          PC 17599  71.2833   C85        C           1  \n",
       "2      0  STON/O2. 3101282   7.9250   NaN        S           1  \n",
       "3      0            113803  53.1000  C123        S           1  \n",
       "4      0            373450   8.0500   NaN        S           1  "
      ]
     },
     "execution_count": 6,
     "metadata": {},
     "output_type": "execute_result"
    }
   ],
   "source": [
    "all_data.head()"
   ]
  },
  {
   "cell_type": "code",
   "execution_count": 10,
   "metadata": {
    "ExecuteTime": {
     "end_time": "2021-01-26T06:03:02.320354Z",
     "start_time": "2021-01-26T06:03:02.304372Z"
    }
   },
   "outputs": [
    {
     "name": "stdout",
     "output_type": "stream",
     "text": [
      "<class 'pandas.core.frame.DataFrame'>\n",
      "Int64Index: 1309 entries, 0 to 417\n",
      "Data columns (total 13 columns):\n",
      " #   Column       Non-Null Count  Dtype  \n",
      "---  ------       --------------  -----  \n",
      " 0   PassengerId  1309 non-null   int64  \n",
      " 1   Survived     891 non-null    float64\n",
      " 2   Pclass       1309 non-null   int64  \n",
      " 3   Name         1309 non-null   object \n",
      " 4   Sex          1309 non-null   object \n",
      " 5   Age          1046 non-null   float64\n",
      " 6   SibSp        1309 non-null   int64  \n",
      " 7   Parch        1309 non-null   int64  \n",
      " 8   Ticket       1309 non-null   object \n",
      " 9   Fare         1308 non-null   float64\n",
      " 10  Cabin        295 non-null    object \n",
      " 11  Embarked     1307 non-null   object \n",
      " 12  train_test   1309 non-null   int64  \n",
      "dtypes: float64(3), int64(5), object(5)\n",
      "memory usage: 143.2+ KB\n"
     ]
    }
   ],
   "source": [
    "all_data.info()"
   ]
  },
  {
   "cell_type": "code",
   "execution_count": 7,
   "metadata": {
    "ExecuteTime": {
     "end_time": "2021-01-20T15:25:03.210073Z",
     "start_time": "2021-01-20T15:25:03.202491Z"
=======
     "end_time": "2020-10-29T17:07:50.321333Z",
     "start_time": "2020-10-29T17:07:50.245384Z"
    }
   },
   "outputs": [
    {
     "name": "stdout",
     "output_type": "stream",
     "text": [
      "<class 'pandas.core.frame.DataFrame'>\n",
      "RangeIndex: 891 entries, 0 to 890\n",
      "Data columns (total 12 columns):\n",
      " #   Column       Non-Null Count  Dtype  \n",
      "---  ------       --------------  -----  \n",
      " 0   PassengerId  891 non-null    int64  \n",
      " 1   Survived     891 non-null    int64  \n",
      " 2   Pclass       891 non-null    int64  \n",
      " 3   Name         891 non-null    object \n",
      " 4   Sex          891 non-null    object \n",
      " 5   Age          714 non-null    float64\n",
      " 6   SibSp        891 non-null    int64  \n",
      " 7   Parch        891 non-null    int64  \n",
      " 8   Ticket       891 non-null    object \n",
      " 9   Fare         891 non-null    float64\n",
      " 10  Cabin        204 non-null    object \n",
      " 11  Embarked     889 non-null    object \n",
      "dtypes: float64(2), int64(5), object(5)\n",
      "memory usage: 83.7+ KB\n"
     ]
    }
   ],
   "source": [
    "train_data.info()"
   ]
  },
  {
   "cell_type": "code",
   "execution_count": 7,
   "metadata": {
    "ExecuteTime": {
     "end_time": "2020-10-29T17:07:54.225823Z",
     "start_time": "2020-10-29T17:07:54.205159Z"
>>>>>>> e5bdd1bbbd0afed153ef38f6cc0cd509f4e3d021
    }
   },
   "outputs": [
    {
     "data": {
      "text/plain": [
       "148"
      ]
     },
     "execution_count": 7,
     "metadata": {},
     "output_type": "execute_result"
    }
   ],
   "source": [
<<<<<<< HEAD
    "#how many unique Cabins are\n",
=======
>>>>>>> e5bdd1bbbd0afed153ef38f6cc0cd509f4e3d021
    "len(train_data.Cabin.unique())"
   ]
  },
  {
   "cell_type": "code",
<<<<<<< HEAD
   "execution_count": 9,
   "metadata": {
    "ExecuteTime": {
     "end_time": "2021-01-26T06:02:57.230286Z",
     "start_time": "2021-01-26T06:02:57.207212Z"
=======
   "execution_count": 8,
   "metadata": {
    "ExecuteTime": {
     "end_time": "2020-10-29T17:08:00.665084Z",
     "start_time": "2020-10-29T17:08:00.642765Z"
>>>>>>> e5bdd1bbbd0afed153ef38f6cc0cd509f4e3d021
    }
   },
   "outputs": [
    {
     "data": {
      "text/plain": [
       "PassengerId      0\n",
       "Survived         0\n",
       "Pclass           0\n",
       "Name             0\n",
       "Sex              0\n",
       "Age            177\n",
       "SibSp            0\n",
       "Parch            0\n",
       "Ticket           0\n",
       "Fare             0\n",
       "Cabin          687\n",
       "Embarked         2\n",
<<<<<<< HEAD
       "train_test       0\n",
       "dtype: int64"
      ]
     },
     "execution_count": 9,
=======
       "dtype: int64"
      ]
     },
     "execution_count": 8,
>>>>>>> e5bdd1bbbd0afed153ef38f6cc0cd509f4e3d021
     "metadata": {},
     "output_type": "execute_result"
    }
   ],
   "source": [
<<<<<<< HEAD
    "#null values in the train dataset\n",
=======
>>>>>>> e5bdd1bbbd0afed153ef38f6cc0cd509f4e3d021
    "train_data.isnull().sum()"
   ]
  },
  {
   "cell_type": "code",
   "execution_count": 9,
   "metadata": {
    "ExecuteTime": {
<<<<<<< HEAD
     "end_time": "2020-11-14T14:31:37.102062Z",
     "start_time": "2020-11-14T14:31:37.080274Z"
=======
     "end_time": "2020-10-29T17:08:04.624071Z",
     "start_time": "2020-10-29T17:08:04.592913Z"
>>>>>>> e5bdd1bbbd0afed153ef38f6cc0cd509f4e3d021
    }
   },
   "outputs": [
    {
     "data": {
      "text/plain": [
       "PassengerId      0\n",
       "Pclass           0\n",
       "Name             0\n",
       "Sex              0\n",
       "Age             86\n",
       "SibSp            0\n",
       "Parch            0\n",
       "Ticket           0\n",
       "Fare             1\n",
       "Cabin          327\n",
       "Embarked         0\n",
       "dtype: int64"
      ]
     },
     "execution_count": 9,
     "metadata": {},
     "output_type": "execute_result"
    }
   ],
   "source": [
<<<<<<< HEAD
    "#null values in the test dataset\n",
=======
>>>>>>> e5bdd1bbbd0afed153ef38f6cc0cd509f4e3d021
    "test_data.isnull().sum()"
   ]
  },
  {
   "cell_type": "code",
   "execution_count": 10,
   "metadata": {
    "ExecuteTime": {
<<<<<<< HEAD
     "end_time": "2020-11-14T14:31:46.259152Z",
     "start_time": "2020-11-14T14:31:46.231168Z"
=======
     "end_time": "2020-10-29T17:08:11.734309Z",
     "start_time": "2020-10-29T17:08:11.644149Z"
>>>>>>> e5bdd1bbbd0afed153ef38f6cc0cd509f4e3d021
    }
   },
   "outputs": [
    {
     "data": {
      "text/plain": [
       "PassengerId    0.000000\n",
       "Survived       0.000000\n",
       "Pclass         0.000000\n",
       "Name           0.000000\n",
       "Sex            0.000000\n",
       "Age            0.198653\n",
       "SibSp          0.000000\n",
       "Parch          0.000000\n",
       "Ticket         0.000000\n",
       "Fare           0.000000\n",
       "Cabin          0.771044\n",
       "Embarked       0.002245\n",
       "dtype: float64"
      ]
     },
     "execution_count": 10,
     "metadata": {},
     "output_type": "execute_result"
    }
   ],
   "source": [
    "# percentage of missing data\n",
    "train_data.isnull().sum() / train_data.shape[0]"
   ]
  },
  {
   "cell_type": "markdown",
   "metadata": {},
   "source": [
<<<<<<< HEAD
    "### Separate numerical and categorical data exploring"
   ]
  },
  {
   "cell_type": "code",
   "execution_count": 11,
   "metadata": {
    "ExecuteTime": {
     "end_time": "2021-01-26T06:03:23.143619Z",
     "start_time": "2021-01-26T06:03:23.119960Z"
    }
   },
   "outputs": [
    {
     "data": {
      "text/plain": [
       "Index(['PassengerId', 'Survived', 'Pclass', 'Age', 'SibSp', 'Parch', 'Fare',\n",
       "       'train_test'],\n",
       "      dtype='object')"
      ]
     },
     "execution_count": 11,
     "metadata": {},
     "output_type": "execute_result"
    }
   ],
   "source": [
    "#Find num data\n",
    "train_data.describe().columns"
=======
    "### Explore name column and title "
>>>>>>> e5bdd1bbbd0afed153ef38f6cc0cd509f4e3d021
   ]
  },
  {
   "cell_type": "code",
<<<<<<< HEAD
   "execution_count": 12,
   "metadata": {
    "ExecuteTime": {
     "end_time": "2021-01-26T06:03:30.577193Z",
     "start_time": "2021-01-26T06:03:30.558568Z"
=======
   "execution_count": 190,
   "metadata": {
    "ExecuteTime": {
     "end_time": "2020-09-20T11:35:14.179769Z",
     "start_time": "2020-09-20T11:35:14.145859Z"
>>>>>>> e5bdd1bbbd0afed153ef38f6cc0cd509f4e3d021
    }
   },
   "outputs": [],
   "source": [
<<<<<<< HEAD
    "# look at numeric and categorical values separately \n",
    "df_num = train_data[['Age','SibSp','Parch','Fare']]\n",
    "df_cat = train_data[['Survived','Pclass','Sex','Ticket','Cabin','Embarked']]"
   ]
  },
  {
   "cell_type": "code",
   "execution_count": 13,
   "metadata": {
    "ExecuteTime": {
     "end_time": "2021-01-26T06:03:33.392295Z",
     "start_time": "2021-01-26T06:03:32.444274Z"
    }
   },
   "outputs": [
    {
     "data": {
      "image/png": "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\n",
      "text/plain": [
       "<Figure size 432x288 with 1 Axes>"
      ]
     },
     "metadata": {
      "needs_background": "light"
     },
     "output_type": "display_data"
    },
    {
     "data": {
      "image/png": "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\n",
      "text/plain": [
       "<Figure size 432x288 with 1 Axes>"
      ]
     },
     "metadata": {
      "needs_background": "light"
     },
     "output_type": "display_data"
    },
    {
     "data": {
      "image/png": "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\n",
      "text/plain": [
       "<Figure size 432x288 with 1 Axes>"
      ]
     },
     "metadata": {
      "needs_background": "light"
     },
     "output_type": "display_data"
    },
    {
     "data": {
      "image/png": "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\n",
      "text/plain": [
       "<Figure size 432x288 with 1 Axes>"
      ]
     },
     "metadata": {
      "needs_background": "light"
     },
     "output_type": "display_data"
    }
   ],
   "source": [
    "#distributions for all numeric variables \n",
    "for i in df_num.columns:\n",
    "    plt.hist(df_num[i])\n",
    "    plt.title(i)\n",
    "    plt.show()"
=======
    "#Iterate through Names and accumulate new type of titles in indx_other.append(i).\n",
    "#Createing a new cat. or merging to existant\n",
    "\n",
    "indx_Mr = []\n",
    "indx_Mrs = []\n",
    "indx_Miss = []\n",
    "indx_Mstr = []\n",
    "indx_Mjr = []\n",
    "indx_Rev = []\n",
    "indx_Dr = []\n",
    "indx_Ms = []\n",
    "indx_Col = []\n",
    "\n",
    "# 'Dona' is equal to Mrs, in test_data = no sblsp, no parch, age = 39, 1 line,\n",
    "\n",
    "indx_other = []\n",
    "\n",
    "for i,name in enumerate(train_data['Name']):\n",
    "    if 'Mrs.' in name:\n",
    "        indx_Mrs.append(i)\n",
    "    elif 'Dona.' in name:\n",
    "        indx_Mrs.append(i) \n",
    "    elif 'Mme.' in name:\n",
    "        indx_Mrs.append(i)\n",
    "    elif 'Lady.' in name:\n",
    "        indx_Mrs.append(i)         \n",
    "    elif 'Mr.' in name:\n",
    "        indx_Mr.append(i)\n",
    "    elif 'Sir.' in name:\n",
    "        indx_Mr.append(i)\n",
    "    elif 'Don.' in name:\n",
    "        indx_Mr.append(i)        \n",
    "    elif 'Jonkheer.' in name:\n",
    "        indx_Mr.append(i) \n",
    "    elif 'Master.' in name:\n",
    "        indx_Mstr.append(i)\n",
    "    elif 'Miss.' in name:\n",
    "        indx_Miss.append(i) \n",
    "    elif 'Mlle.' in name:\n",
    "        indx_Miss.append(i)\n",
    "    elif 'Rev.' in name:\n",
    "        indx_Rev.append(i)\n",
    "    elif 'Dr.' in name:\n",
    "        indx_Dr.append(i)        \n",
    "    elif 'Major.' in name:\n",
    "        indx_Mjr.append(i) \n",
    "    elif 'Col.' in name:\n",
    "        indx_Col.append(i)\n",
    "    elif 'Capt.' in name:\n",
    "        indx_Col.append(i)\n",
    "    elif 'Ms.' in name:\n",
    "        indx_Ms.append(i)        \n",
    "    else:\n",
    "        indx_other.append(i)"
   ]
  },
  {
   "cell_type": "code",
   "execution_count": 191,
   "metadata": {
    "ExecuteTime": {
     "end_time": "2020-09-20T11:35:17.348380Z",
     "start_time": "2020-09-20T11:35:17.337460Z"
    }
   },
   "outputs": [],
   "source": [
    "other_names = train_data.iloc[indx_other]"
>>>>>>> e5bdd1bbbd0afed153ef38f6cc0cd509f4e3d021
   ]
  },
  {
   "cell_type": "code",
<<<<<<< HEAD
   "execution_count": 14,
   "metadata": {
    "ExecuteTime": {
     "end_time": "2021-01-21T16:10:50.163301Z",
     "start_time": "2021-01-21T16:10:49.642509Z"
    }
   },
   "outputs": [
    {
     "name": "stdout",
     "output_type": "stream",
     "text": [
      "            Age     SibSp     Parch      Fare\n",
      "Age    1.000000 -0.308247 -0.189119  0.096067\n",
      "SibSp -0.308247  1.000000  0.414838  0.159651\n",
      "Parch -0.189119  0.414838  1.000000  0.216225\n",
      "Fare   0.096067  0.159651  0.216225  1.000000\n"
     ]
    },
    {
     "data": {
      "text/plain": [
       "<AxesSubplot:>"
      ]
     },
     "execution_count": 14,
     "metadata": {},
     "output_type": "execute_result"
    },
    {
     "data": {
      "image/png": "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\n",
      "text/plain": [
       "<Figure size 432x288 with 2 Axes>"
      ]
     },
     "metadata": {
      "needs_background": "light"
     },
     "output_type": "display_data"
    }
   ],
   "source": [
    "# Explore correlation\n",
    "print(df_num.corr())\n",
    "sns.heatmap(df_num.corr())"
=======
   "execution_count": 161,
   "metadata": {
    "ExecuteTime": {
     "end_time": "2020-09-20T11:15:38.029842Z",
     "start_time": "2020-09-20T11:15:38.019876Z"
    }
   },
   "outputs": [],
   "source": [
    "other_names_test = test_data.iloc[indx_other]"
>>>>>>> e5bdd1bbbd0afed153ef38f6cc0cd509f4e3d021
   ]
  },
  {
   "cell_type": "code",
<<<<<<< HEAD
   "execution_count": 15,
   "metadata": {
    "ExecuteTime": {
     "end_time": "2021-01-21T16:16:16.597331Z",
     "start_time": "2021-01-21T16:16:16.541989Z"
=======
   "execution_count": 200,
   "metadata": {
    "ExecuteTime": {
     "end_time": "2020-09-20T11:36:58.288137Z",
     "start_time": "2020-09-20T11:36:58.258237Z"
>>>>>>> e5bdd1bbbd0afed153ef38f6cc0cd509f4e3d021
    }
   },
   "outputs": [
    {
     "data": {
      "text/html": [
       "<div>\n",
       "<style scoped>\n",
       "    .dataframe tbody tr th:only-of-type {\n",
       "        vertical-align: middle;\n",
       "    }\n",
       "\n",
       "    .dataframe tbody tr th {\n",
       "        vertical-align: top;\n",
       "    }\n",
       "\n",
       "    .dataframe thead th {\n",
       "        text-align: right;\n",
       "    }\n",
       "</style>\n",
       "<table border=\"1\" class=\"dataframe\">\n",
       "  <thead>\n",
       "    <tr style=\"text-align: right;\">\n",
       "      <th></th>\n",
<<<<<<< HEAD
       "      <th>Age</th>\n",
       "      <th>Fare</th>\n",
       "      <th>Parch</th>\n",
       "      <th>SibSp</th>\n",
       "    </tr>\n",
       "    <tr>\n",
       "      <th>Survived</th>\n",
       "      <th></th>\n",
       "      <th></th>\n",
       "      <th></th>\n",
       "      <th></th>\n",
=======
       "      <th>PassengerId</th>\n",
       "      <th>Survived</th>\n",
       "      <th>Pclass</th>\n",
       "      <th>Age</th>\n",
       "      <th>SibSp</th>\n",
       "      <th>Parch</th>\n",
       "      <th>Fare</th>\n",
>>>>>>> e5bdd1bbbd0afed153ef38f6cc0cd509f4e3d021
       "    </tr>\n",
       "  </thead>\n",
       "  <tbody>\n",
       "    <tr>\n",
<<<<<<< HEAD
       "      <th>0</th>\n",
       "      <td>30.626179</td>\n",
       "      <td>22.117887</td>\n",
       "      <td>0.329690</td>\n",
       "      <td>0.553734</td>\n",
       "    </tr>\n",
       "    <tr>\n",
       "      <th>1</th>\n",
       "      <td>28.343690</td>\n",
       "      <td>48.395408</td>\n",
       "      <td>0.464912</td>\n",
       "      <td>0.473684</td>\n",
       "    </tr>\n",
       "  </tbody>\n",
       "</table>\n",
       "</div>"
      ],
      "text/plain": [
       "                Age       Fare     Parch     SibSp\n",
       "Survived                                          \n",
       "0         30.626179  22.117887  0.329690  0.553734\n",
       "1         28.343690  48.395408  0.464912  0.473684"
      ]
     },
     "execution_count": 15,
     "metadata": {},
     "output_type": "execute_result"
    }
   ],
   "source": [
    "# compare survival rate across Age, SibSp, Parch, and Fare \n",
    "pd.pivot_table(train_data, index='Survived', values=['Age','SibSp','Parch','Fare'])"
   ]
  },
  {
   "cell_type": "code",
   "execution_count": 33,
   "metadata": {
    "ExecuteTime": {
     "end_time": "2021-01-21T18:42:34.717154Z",
     "start_time": "2021-01-21T18:42:14.431146Z"
    }
   },
   "outputs": [
    {
     "data": {
      "image/png": "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\n",
      "text/plain": [
       "<Figure size 432x288 with 1 Axes>"
      ]
     },
     "metadata": {
      "needs_background": "light"
     },
     "output_type": "display_data"
    },
    {
     "data": {
      "image/png": "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\n",
      "text/plain": [
       "<Figure size 432x288 with 1 Axes>"
      ]
     },
     "metadata": {
      "needs_background": "light"
     },
     "output_type": "display_data"
    },
    {
     "data": {
      "image/png": "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\n",
      "text/plain": [
       "<Figure size 432x288 with 1 Axes>"
      ]
     },
     "metadata": {
      "needs_background": "light"
     },
     "output_type": "display_data"
    },
    {
     "data": {
      "image/png": "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\n",
      "text/plain": [
       "<Figure size 432x288 with 1 Axes>"
      ]
     },
     "metadata": {
      "needs_background": "light"
     },
     "output_type": "display_data"
    },
    {
     "data": {
      "image/png": "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\n",
      "text/plain": [
       "<Figure size 432x288 with 1 Axes>"
      ]
     },
     "metadata": {
      "needs_background": "light"
     },
     "output_type": "display_data"
    },
    {
     "data": {
      "image/png": "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\n",
      "text/plain": [
       "<Figure size 432x288 with 1 Axes>"
      ]
     },
     "metadata": {
      "needs_background": "light"
     },
     "output_type": "display_data"
    }
   ],
   "source": [
    "#cat variables\n",
    "for i in df_cat.columns:\n",
    "    sns.barplot(x=df_cat[i].value_counts().index,y=df_cat[i].value_counts())\n",
    "    plt.show()"
=======
       "      <th>count</th>\n",
       "      <td>7.000000</td>\n",
       "      <td>7.000000</td>\n",
       "      <td>7.000000</td>\n",
       "      <td>6.000000</td>\n",
       "      <td>7.000000</td>\n",
       "      <td>7.0</td>\n",
       "      <td>7.000000</td>\n",
       "    </tr>\n",
       "    <tr>\n",
       "      <th>mean</th>\n",
       "      <td>545.857143</td>\n",
       "      <td>0.428571</td>\n",
       "      <td>1.285714</td>\n",
       "      <td>42.000000</td>\n",
       "      <td>0.571429</td>\n",
       "      <td>0.0</td>\n",
       "      <td>49.168457</td>\n",
       "    </tr>\n",
       "    <tr>\n",
       "      <th>std</th>\n",
       "      <td>222.196931</td>\n",
       "      <td>0.534522</td>\n",
       "      <td>0.487950</td>\n",
       "      <td>12.016655</td>\n",
       "      <td>0.975900</td>\n",
       "      <td>0.0</td>\n",
       "      <td>45.673745</td>\n",
       "    </tr>\n",
       "    <tr>\n",
       "      <th>min</th>\n",
       "      <td>246.000000</td>\n",
       "      <td>0.000000</td>\n",
       "      <td>1.000000</td>\n",
       "      <td>23.000000</td>\n",
       "      <td>0.000000</td>\n",
       "      <td>0.0</td>\n",
       "      <td>10.500000</td>\n",
       "    </tr>\n",
       "    <tr>\n",
       "      <th>25%</th>\n",
       "      <td>358.500000</td>\n",
       "      <td>0.000000</td>\n",
       "      <td>1.000000</td>\n",
       "      <td>35.000000</td>\n",
       "      <td>0.000000</td>\n",
       "      <td>0.0</td>\n",
       "      <td>19.964600</td>\n",
       "    </tr>\n",
       "    <tr>\n",
       "      <th>50%</th>\n",
       "      <td>633.000000</td>\n",
       "      <td>0.000000</td>\n",
       "      <td>1.000000</td>\n",
       "      <td>46.500000</td>\n",
       "      <td>0.000000</td>\n",
       "      <td>0.0</td>\n",
       "      <td>30.500000</td>\n",
       "    </tr>\n",
       "    <tr>\n",
       "      <th>75%</th>\n",
       "      <td>714.000000</td>\n",
       "      <td>1.000000</td>\n",
       "      <td>1.500000</td>\n",
       "      <td>49.750000</td>\n",
       "      <td>1.000000</td>\n",
       "      <td>0.0</td>\n",
       "      <td>64.800000</td>\n",
       "    </tr>\n",
       "    <tr>\n",
       "      <th>max</th>\n",
       "      <td>797.000000</td>\n",
       "      <td>1.000000</td>\n",
       "      <td>2.000000</td>\n",
       "      <td>54.000000</td>\n",
       "      <td>2.000000</td>\n",
       "      <td>0.0</td>\n",
       "      <td>133.650000</td>\n",
       "    </tr>\n",
       "  </tbody>\n",
       "</table>\n",
       "</div>"
      ],
      "text/plain": [
       "       PassengerId  Survived    Pclass        Age     SibSp  Parch        Fare\n",
       "count     7.000000  7.000000  7.000000   6.000000  7.000000    7.0    7.000000\n",
       "mean    545.857143  0.428571  1.285714  42.000000  0.571429    0.0   49.168457\n",
       "std     222.196931  0.534522  0.487950  12.016655  0.975900    0.0   45.673745\n",
       "min     246.000000  0.000000  1.000000  23.000000  0.000000    0.0   10.500000\n",
       "25%     358.500000  0.000000  1.000000  35.000000  0.000000    0.0   19.964600\n",
       "50%     633.000000  0.000000  1.000000  46.500000  0.000000    0.0   30.500000\n",
       "75%     714.000000  1.000000  1.500000  49.750000  1.000000    0.0   64.800000\n",
       "max     797.000000  1.000000  2.000000  54.000000  2.000000    0.0  133.650000"
      ]
     },
     "execution_count": 200,
     "metadata": {},
     "output_type": "execute_result"
    }
   ],
   "source": [
    "Miss = train_data.iloc[indx_Dr]\n",
    "#Mrs = train_data.iloc[indx_Mrs]\n",
    "Miss.describe()"
   ]
  },
  {
   "cell_type": "markdown",
   "metadata": {},
   "source": [
    "### Explore survival rate among features with nan values"
   ]
  },
  {
   "cell_type": "markdown",
   "metadata": {},
   "source": [
    "#### nan cabin"
>>>>>>> e5bdd1bbbd0afed153ef38f6cc0cd509f4e3d021
   ]
  },
  {
   "cell_type": "code",
<<<<<<< HEAD
   "execution_count": 34,
   "metadata": {
    "ExecuteTime": {
     "end_time": "2021-01-22T12:56:41.078301Z",
     "start_time": "2021-01-22T12:56:41.019678Z"
=======
   "execution_count": 175,
   "metadata": {
    "ExecuteTime": {
     "end_time": "2020-11-02T10:05:04.917503Z",
     "start_time": "2020-11-02T10:05:04.871794Z"
    }
   },
   "outputs": [],
   "source": [
    "nancabin_passengers = train_data.loc[train_data.Cabin.isnull()]"
   ]
  },
  {
   "cell_type": "code",
   "execution_count": 176,
   "metadata": {
    "ExecuteTime": {
     "end_time": "2020-11-02T10:05:06.591628Z",
     "start_time": "2020-11-02T10:05:06.577989Z"
>>>>>>> e5bdd1bbbd0afed153ef38f6cc0cd509f4e3d021
    }
   },
   "outputs": [
    {
<<<<<<< HEAD
     "name": "stdout",
     "output_type": "stream",
     "text": [
      "Pclass      1   2    3\n",
      "Survived              \n",
      "0          80  97  372\n",
      "1         136  87  119\n",
      "\n",
      "Sex       female  male\n",
      "Survived              \n",
      "0             81   468\n",
      "1            233   109\n",
      "\n",
      "Embarked   C   Q    S\n",
      "Survived             \n",
      "0         75  47  427\n",
      "1         93  30  217\n"
     ]
    }
   ],
   "source": [
    "# Comparing survival and each of these categorical variables \n",
    "print(pd.pivot_table(train_data, index = 'Survived', columns = 'Pclass', values = 'Ticket' ,aggfunc ='count'))\n",
    "print()\n",
    "print(pd.pivot_table(train_data, index = 'Survived', columns = 'Sex', values = 'Ticket' ,aggfunc ='count'))\n",
    "print()\n",
    "print(pd.pivot_table(train_data, index = 'Survived', columns = 'Embarked', values = 'Ticket' ,aggfunc ='count'))"
=======
     "data": {
      "text/plain": [
       "0    481\n",
       "1    206\n",
       "Name: Survived, dtype: int64"
      ]
     },
     "execution_count": 176,
     "metadata": {},
     "output_type": "execute_result"
    }
   ],
   "source": [
    "nancabin_passengers.Survived.value_counts()"
>>>>>>> e5bdd1bbbd0afed153ef38f6cc0cd509f4e3d021
   ]
  },
  {
   "cell_type": "markdown",
   "metadata": {},
   "source": [
<<<<<<< HEAD
    "### Explore name column and title "
=======
    "aha. wec can see that around 70% of nan cabin passengers had not survived. could be additional criteria.  We will create a binary feature \"nan_cabin\" which tells the model about that fact"
   ]
  },
  {
   "cell_type": "code",
   "execution_count": 181,
   "metadata": {
    "ExecuteTime": {
     "end_time": "2020-11-02T10:13:58.585521Z",
     "start_time": "2020-11-02T10:13:58.570899Z"
    }
   },
   "outputs": [],
   "source": [
    "# Just want to check in nan cabin passengers had specific tickets\n",
    "ticket_nancabin = nancabin_passengers.Ticket"
>>>>>>> e5bdd1bbbd0afed153ef38f6cc0cd509f4e3d021
   ]
  },
  {
   "cell_type": "code",
<<<<<<< HEAD
   "execution_count": 82,
   "metadata": {
    "ExecuteTime": {
     "end_time": "2021-01-24T15:29:53.804812Z",
     "start_time": "2021-01-24T15:29:53.773967Z"
=======
   "execution_count": 183,
   "metadata": {
    "ExecuteTime": {
     "end_time": "2020-11-02T10:14:24.065294Z",
     "start_time": "2020-11-02T10:14:24.039414Z"
>>>>>>> e5bdd1bbbd0afed153ef38f6cc0cd509f4e3d021
    }
   },
   "outputs": [
    {
<<<<<<< HEAD
     "data": {
      "text/plain": [
       "0                              Braund, Mr. Owen Harris\n",
       "1    Cumings, Mrs. John Bradley (Florence Briggs Th...\n",
       "2                               Heikkinen, Miss. Laina\n",
       "3         Futrelle, Mrs. Jacques Heath (Lily May Peel)\n",
       "4                             Allen, Mr. William Henry\n",
       "Name: Name, dtype: object"
      ]
     },
     "execution_count": 82,
     "metadata": {},
     "output_type": "execute_result"
    }
   ],
   "source": [
    "train_data.Name.head()"
=======
     "name": "stdout",
     "output_type": "stream",
     "text": [
      "0             A/5 21171\n",
      "2      STON/O2. 3101282\n",
      "4                373450\n",
      "5                330877\n",
      "7                349909\n",
      "             ...       \n",
      "884     SOTON/OQ 392076\n",
      "885              382652\n",
      "886              211536\n",
      "888          W./C. 6607\n",
      "890              370376\n",
      "Name: Ticket, Length: 687, dtype: object\n"
     ]
    }
   ],
   "source": [
    "print(ticket_nancabin)"
   ]
  },
  {
   "cell_type": "markdown",
   "metadata": {},
   "source": [
    "no specific tickets for that group"
   ]
  },
  {
   "cell_type": "markdown",
   "metadata": {},
   "source": [
    "#### nan Age"
>>>>>>> e5bdd1bbbd0afed153ef38f6cc0cd509f4e3d021
   ]
  },
  {
   "cell_type": "code",
<<<<<<< HEAD
   "execution_count": 84,
   "metadata": {
    "ExecuteTime": {
     "end_time": "2021-01-24T15:31:43.004586Z",
     "start_time": "2021-01-24T15:31:42.950766Z"
=======
   "execution_count": 177,
   "metadata": {
    "ExecuteTime": {
     "end_time": "2020-11-02T10:05:08.495358Z",
     "start_time": "2020-11-02T10:05:08.446811Z"
>>>>>>> e5bdd1bbbd0afed153ef38f6cc0cd509f4e3d021
    }
   },
   "outputs": [],
   "source": [
<<<<<<< HEAD
    "#Study person's title\n",
    "#feature engineering on person's title \n",
    "train_data['name_title_all'] = train_data.Name.apply(lambda x: x.split(',')[1].split('.')[0].strip())\n",
    "#mr., ms., master. etc"
=======
    "nanage_passengers = train_data.loc[train_data.Age.isnull()]"
>>>>>>> e5bdd1bbbd0afed153ef38f6cc0cd509f4e3d021
   ]
  },
  {
   "cell_type": "code",
<<<<<<< HEAD
   "execution_count": 86,
   "metadata": {
    "ExecuteTime": {
     "end_time": "2021-01-24T15:32:04.768840Z",
     "start_time": "2021-01-24T15:32:04.750153Z"
=======
   "execution_count": 179,
   "metadata": {
    "ExecuteTime": {
     "end_time": "2020-11-02T10:05:18.645551Z",
     "start_time": "2020-11-02T10:05:18.612397Z"
>>>>>>> e5bdd1bbbd0afed153ef38f6cc0cd509f4e3d021
    }
   },
   "outputs": [
    {
     "data": {
      "text/plain": [
<<<<<<< HEAD
       "Mr              517\n",
       "Miss            182\n",
       "Mrs             125\n",
       "Master           40\n",
       "Dr                7\n",
       "Rev               6\n",
       "Col               2\n",
       "Major             2\n",
       "Mlle              2\n",
       "Lady              1\n",
       "Ms                1\n",
       "Don               1\n",
       "Sir               1\n",
       "Jonkheer          1\n",
       "the Countess      1\n",
       "Capt              1\n",
       "Mme               1\n",
       "Name: name_title_all, dtype: int64"
      ]
     },
     "execution_count": 86,
=======
       "0    125\n",
       "1     52\n",
       "Name: Survived, dtype: int64"
      ]
     },
     "execution_count": 179,
>>>>>>> e5bdd1bbbd0afed153ef38f6cc0cd509f4e3d021
     "metadata": {},
     "output_type": "execute_result"
    }
   ],
   "source": [
<<<<<<< HEAD
    "train_data['name_title_all'].value_counts()"
=======
    "nanage_passengers.Survived.value_counts()"
   ]
  },
  {
   "cell_type": "markdown",
   "metadata": {},
   "source": [
    "aha. wec can see that more than 60% of nan Age passengers had not survived. could be additional criteria.  We will create a binary feature \"nanage\" which tells the model about that fact"
   ]
  },
  {
   "cell_type": "markdown",
   "metadata": {},
   "source": [
    "### Explore ticket"
>>>>>>> e5bdd1bbbd0afed153ef38f6cc0cd509f4e3d021
   ]
  },
  {
   "cell_type": "code",
<<<<<<< HEAD
   "execution_count": 87,
   "metadata": {
    "ExecuteTime": {
     "end_time": "2021-01-24T15:48:19.851085Z",
     "start_time": "2021-01-24T15:48:19.757892Z"
=======
   "execution_count": 47,
   "metadata": {
    "ExecuteTime": {
     "end_time": "2020-09-24T18:52:55.603071Z",
     "start_time": "2020-09-24T18:52:55.582825Z"
>>>>>>> e5bdd1bbbd0afed153ef38f6cc0cd509f4e3d021
    }
   },
   "outputs": [
    {
<<<<<<< HEAD
     "name": "stdout",
     "output_type": "stream",
     "text": [
      "name_title_all  Capt  Col  Don   Dr  Jonkheer  Lady  Major  Master   Miss  \\\n",
      "Survived                                                                    \n",
      "0                1.0  1.0  1.0  4.0       1.0   NaN    1.0    17.0   55.0   \n",
      "1                NaN  1.0  NaN  3.0       NaN   1.0    1.0    23.0  127.0   \n",
      "\n",
      "name_title_all  Mlle  Mme     Mr   Mrs   Ms  Rev  Sir  the Countess  \n",
      "Survived                                                             \n",
      "0                NaN  NaN  436.0  26.0  NaN  6.0  NaN           NaN  \n",
      "1                2.0  1.0   81.0  99.0  1.0  NaN  1.0           1.0  \n"
     ]
    }
   ],
   "source": [
    "# Comparing survival and each of these title\n",
    "print(pd.pivot_table(train_data, index = 'Survived', columns = 'name_title_all', values = 'Name' ,aggfunc ='count'))"
=======
     "data": {
      "text/plain": [
       "array(['A/5 21171', 'PC 17599', 'STON/O2. 3101282', '113803', '373450',\n",
       "       '330877', '17463', '349909', '347742', '237736', 'PP 9549',\n",
       "       '113783', 'A/5. 2151', '347082', '350406', '248706', '382652',\n",
       "       '244373', '345763', '2649', '239865', '248698', '330923', '113788',\n",
       "       '347077', '2631', '19950', '330959', '349216', 'PC 17601',\n",
       "       'PC 17569', '335677', 'C.A. 24579', 'PC 17604', '113789', '2677',\n",
       "       'A./5. 2152', '345764', '2651', '7546', '11668', '349253',\n",
       "       'SC/Paris 2123', '330958', 'S.C./A.4. 23567', '370371', '14311',\n",
       "       '2662', '349237', '3101295', 'A/4. 39886', 'PC 17572', '2926',\n",
       "       '113509', '19947', 'C.A. 31026', '2697', 'C.A. 34651', 'CA 2144',\n",
       "       '2669', '36973', '347088', 'PC 17605', '2661', 'C.A. 29395',\n",
       "       'S.P. 3464', '3101281', '315151', 'C.A. 33111', 'S.O.C. 14879',\n",
       "       '2680', '1601', '348123', '349208', '374746', '248738', '364516',\n",
       "       '345767', '345779', '330932', '113059', 'SO/C 14885', '3101278',\n",
       "       'W./C. 6608', 'SOTON/OQ 392086', '343275', '343276', '347466',\n",
       "       'W.E.P. 5734', 'C.A. 2315', '364500', '374910', 'PC 17754',\n",
       "       'PC 17759', '231919', '244367', '349245', '349215', '35281',\n",
       "       '7540', '3101276', '349207', '343120', '312991', '349249',\n",
       "       '371110', '110465', '2665', '324669', '4136', '2627',\n",
       "       'STON/O 2. 3101294', '370369', 'PC 17558', 'A4. 54510', '27267',\n",
       "       '370372', 'C 17369', '2668', '347061', '349241',\n",
       "       'SOTON/O.Q. 3101307', 'A/5. 3337', '228414', 'C.A. 29178',\n",
       "       'SC/PARIS 2133', '11752', '7534', 'PC 17593', '2678', '347081',\n",
       "       'STON/O2. 3101279', '365222', '231945', 'C.A. 33112', '350043',\n",
       "       '230080', '244310', 'S.O.P. 1166', '113776', 'A.5. 11206',\n",
       "       'A/5. 851', 'Fa 265302', 'PC 17597', '35851', 'SOTON/OQ 392090',\n",
       "       '315037', 'CA. 2343', '371362', 'C.A. 33595', '347068', '315093',\n",
       "       '363291', '113505', 'PC 17318', '111240', 'STON/O 2. 3101280',\n",
       "       '17764', '350404', '4133', 'PC 17595', '250653', 'LINE',\n",
       "       'SC/PARIS 2131', '230136', '315153', '113767', '370365', '111428',\n",
       "       '364849', '349247', '234604', '28424', '350046', 'PC 17610',\n",
       "       '368703', '4579', '370370', '248747', '345770', '3101264', '2628',\n",
       "       'A/5 3540', '347054', '2699', '367231', '112277',\n",
       "       'SOTON/O.Q. 3101311', 'F.C.C. 13528', 'A/5 21174', '250646',\n",
       "       '367229', '35273', 'STON/O2. 3101283', '243847', '11813',\n",
       "       'W/C 14208', 'SOTON/OQ 392089', '220367', '21440', '349234',\n",
       "       '19943', 'PP 4348', 'SW/PP 751', 'A/5 21173', '236171', '347067',\n",
       "       '237442', 'C.A. 29566', 'W./C. 6609', '26707', 'C.A. 31921',\n",
       "       '28665', 'SCO/W 1585', '367230', 'W./C. 14263',\n",
       "       'STON/O 2. 3101275', '2694', '19928', '347071', '250649', '11751',\n",
       "       '244252', '362316', '113514', 'A/5. 3336', '370129', '2650',\n",
       "       'PC 17585', '110152', 'PC 17755', '230433', '384461', '110413',\n",
       "       '112059', '382649', 'C.A. 17248', '347083', 'PC 17582', 'PC 17760',\n",
       "       '113798', '250644', 'PC 17596', '370375', '13502', '347073',\n",
       "       '239853', 'C.A. 2673', '336439', '347464', '345778', 'A/5. 10482',\n",
       "       '113056', '349239', '345774', '349206', '237798', '370373',\n",
       "       '19877', '11967', 'SC/Paris 2163', '349236', '349233', 'PC 17612',\n",
       "       '2693', '113781', '19988', '9234', '367226', '226593', 'A/5 2466',\n",
       "       '17421', 'PC 17758', 'P/PP 3381', 'PC 17485', '11767', 'PC 17608',\n",
       "       '250651', '349243', 'F.C.C. 13529', '347470', '29011', '36928',\n",
       "       '16966', 'A/5 21172', '349219', '234818', '345364', '28551',\n",
       "       '111361', '113043', 'PC 17611', '349225', '7598', '113784',\n",
       "       '248740', '244361', '229236', '248733', '31418', '386525',\n",
       "       'C.A. 37671', '315088', '7267', '113510', '2695', '2647', '345783',\n",
       "       '237671', '330931', '330980', 'SC/PARIS 2167', '2691',\n",
       "       'SOTON/O.Q. 3101310', 'C 7076', '110813', '2626', '14313',\n",
       "       'PC 17477', '11765', '3101267', '323951', 'C 7077', '113503',\n",
       "       '2648', '347069', 'PC 17757', '2653', 'STON/O 2. 3101293',\n",
       "       '349227', '27849', '367655', 'SC 1748', '113760', '350034',\n",
       "       '3101277', '350052', '350407', '28403', '244278', '240929',\n",
       "       'STON/O 2. 3101289', '341826', '4137', '315096', '28664', '347064',\n",
       "       '29106', '312992', '349222', '394140', 'STON/O 2. 3101269',\n",
       "       '343095', '28220', '250652', '28228', '345773', '349254',\n",
       "       'A/5. 13032', '315082', '347080', 'A/4. 34244', '2003', '250655',\n",
       "       '364851', 'SOTON/O.Q. 392078', '110564', '376564', 'SC/AH 3085',\n",
       "       'STON/O 2. 3101274', '13507', 'C.A. 18723', '345769', '347076',\n",
       "       '230434', '65306', '33638', '113794', '2666', '113786', '65303',\n",
       "       '113051', '17453', 'A/5 2817', '349240', '13509', '17464',\n",
       "       'F.C.C. 13531', '371060', '19952', '364506', '111320', '234360',\n",
       "       'A/S 2816', 'SOTON/O.Q. 3101306', '113792', '36209', '323592',\n",
       "       '315089', 'SC/AH Basle 541', '7553', '31027', '3460', '350060',\n",
       "       '3101298', '239854', 'A/5 3594', '4134', '11771', 'A.5. 18509',\n",
       "       '65304', 'SOTON/OQ 3101317', '113787', 'PC 17609', 'A/4 45380',\n",
       "       '36947', 'C.A. 6212', '350035', '315086', '364846', '330909',\n",
       "       '4135', '26360', '111427', 'C 4001', '382651', 'SOTON/OQ 3101316',\n",
       "       'PC 17473', 'PC 17603', '349209', '36967', 'C.A. 34260', '226875',\n",
       "       '349242', '12749', '349252', '2624', '2700', '367232',\n",
       "       'W./C. 14258', 'PC 17483', '3101296', '29104', '2641', '2690',\n",
       "       '315084', '113050', 'PC 17761', '364498', '13568', 'WE/P 5735',\n",
       "       '2908', '693', 'SC/PARIS 2146', '244358', '330979', '2620',\n",
       "       '347085', '113807', '11755', '345572', '372622', '349251',\n",
       "       '218629', 'SOTON/OQ 392082', 'SOTON/O.Q. 392087', 'A/4 48871',\n",
       "       '349205', '2686', '350417', 'S.W./PP 752', '11769', 'PC 17474',\n",
       "       '14312', 'A/4. 20589', '358585', '243880', '2689',\n",
       "       'STON/O 2. 3101286', '237789', '13049', '3411', '237565', '13567',\n",
       "       '14973', 'A./5. 3235', 'STON/O 2. 3101273', 'A/5 3902', '364848',\n",
       "       'SC/AH 29037', '248727', '2664', '349214', '113796', '364511',\n",
       "       '111426', '349910', '349246', '113804', 'SOTON/O.Q. 3101305',\n",
       "       '370377', '364512', '220845', '31028', '2659', '11753', '350029',\n",
       "       '54636', '36963', '219533', '349224', '334912', '27042', '347743',\n",
       "       '13214', '112052', '237668', 'STON/O 2. 3101292', '350050',\n",
       "       '349231', '13213', 'S.O./P.P. 751', 'CA. 2314', '349221', '8475',\n",
       "       '330919', '365226', '349223', '29751', '2623', '5727', '349210',\n",
       "       'STON/O 2. 3101285', '234686', '312993', 'A/5 3536', '19996',\n",
       "       '29750', 'F.C. 12750', 'C.A. 24580', '244270', '239856', '349912',\n",
       "       '342826', '4138', '330935', '6563', '349228', '350036', '24160',\n",
       "       '17474', '349256', '2672', '113800', '248731', '363592', '35852',\n",
       "       '348121', 'PC 17475', '36864', '350025', '223596', 'PC 17476',\n",
       "       'PC 17482', '113028', '7545', '250647', '348124', '34218', '36568',\n",
       "       '347062', '350048', '12233', '250643', '113806', '315094', '36866',\n",
       "       '236853', 'STON/O2. 3101271', '239855', '28425', '233639',\n",
       "       '349201', '349218', '16988', '376566', 'STON/O 2. 3101288',\n",
       "       '250648', '113773', '335097', '29103', '392096', '345780',\n",
       "       '349204', '350042', '29108', '363294', 'SOTON/O2 3101272', '2663',\n",
       "       '347074', '112379', '364850', '8471', '345781', '350047',\n",
       "       'S.O./P.P. 3', '2674', '29105', '347078', '383121', '36865',\n",
       "       '2687', '113501', 'W./C. 6607', 'SOTON/O.Q. 3101312', '374887',\n",
       "       '3101265', '12460', 'PC 17600', '349203', '28213', '17465',\n",
       "       '349244', '2685', '2625', '347089', '347063', '112050', '347087',\n",
       "       '248723', '3474', '28206', '364499', '112058', 'STON/O2. 3101290',\n",
       "       'S.C./PARIS 2079', 'C 7075', '315098', '19972', '368323', '367228',\n",
       "       '2671', '347468', '2223', 'PC 17756', '315097', '392092', '11774',\n",
       "       'SOTON/O2 3101287', '2683', '315090', 'C.A. 5547', '349213',\n",
       "       '347060', 'PC 17592', '392091', '113055', '2629', '350026',\n",
       "       '28134', '17466', '233866', '236852', 'SC/PARIS 2149', 'PC 17590',\n",
       "       '345777', '349248', '695', '345765', '2667', '349212', '349217',\n",
       "       '349257', '7552', 'C.A./SOTON 34068', 'SOTON/OQ 392076', '211536',\n",
       "       '112053', '111369', '370376'], dtype=object)"
      ]
     },
     "execution_count": 47,
     "metadata": {},
     "output_type": "execute_result"
    }
   ],
   "source": [
    "train_data.Ticket.unique()"
>>>>>>> e5bdd1bbbd0afed153ef38f6cc0cd509f4e3d021
   ]
  },
  {
   "cell_type": "markdown",
   "metadata": {},
   "source": [
<<<<<<< HEAD
    "### Explore ticket and cabin"
   ]
  },
  {
   "cell_type": "code",
   "execution_count": 108,
   "metadata": {
    "ExecuteTime": {
     "end_time": "2021-01-24T16:48:36.958599Z",
     "start_time": "2021-01-24T16:48:36.942337Z"
    },
    "scrolled": false
   },
   "outputs": [],
   "source": [
    "#train_data.Ticket.unique()"
=======
    "## Data Preprocessing and feature generation"
   ]
  },
  {
   "cell_type": "markdown",
   "metadata": {},
   "source": [
    "### Exrtract name title"
>>>>>>> e5bdd1bbbd0afed153ef38f6cc0cd509f4e3d021
   ]
  },
  {
   "cell_type": "code",
<<<<<<< HEAD
   "execution_count": 109,
   "metadata": {
    "ExecuteTime": {
     "end_time": "2021-01-24T16:48:41.987859Z",
     "start_time": "2021-01-24T16:48:41.971631Z"
=======
   "execution_count": 185,
   "metadata": {
    "ExecuteTime": {
     "end_time": "2020-11-02T11:26:55.547401Z",
     "start_time": "2020-11-02T11:26:55.497986Z"
>>>>>>> e5bdd1bbbd0afed153ef38f6cc0cd509f4e3d021
    }
   },
   "outputs": [],
   "source": [
<<<<<<< HEAD
    "#train_data.Cabin.unique()"
=======
    "\n",
    "# add Title column\n",
    "#sLength = len(X_train['Name'])\n",
    "#X_train = X_train.assign(Title = pd.Series(np.random.randn(sLength)).values)\n",
    "\n",
    "\n",
    "#fill Title column according to Names\n",
    "def fill_title(df):\n",
    "    title = []\n",
    "    ind = []\n",
    "    for index, row in df.iterrows():\n",
    "        name = row['Name']\n",
    "        start = name.find(', ') + 2\n",
    "        end = name.find('.', start)\n",
    "        sub_name = name[start:end]\n",
    "        if sub_name in ['Dona', 'Mme', 'Lady', 'the Countess']:\n",
    "            sub_name = 'Mrs'\n",
    "        if sub_name in ['Sir', 'Don', 'Jonkheer']:\n",
    "            sub_name = 'Mr'\n",
    "        if sub_name in ['Capt']:\n",
    "            sub_name = 'Col'\n",
    "        if sub_name in ['Mlle']:\n",
    "            sub_name = 'Miss'\n",
    "    \n",
    "        title.append(sub_name)\n",
    "        ind.append(index)\n",
    "       \n",
    "    return pd.Series(title, index = ind, name = 'Title')\n",
    "\n"
>>>>>>> e5bdd1bbbd0afed153ef38f6cc0cd509f4e3d021
   ]
  },
  {
   "cell_type": "markdown",
   "metadata": {},
   "source": [
<<<<<<< HEAD
    "#### Cabin studying"
=======
    "### Fill missing Age values based on title"
>>>>>>> e5bdd1bbbd0afed153ef38f6cc0cd509f4e3d021
   ]
  },
  {
   "cell_type": "code",
<<<<<<< HEAD
   "execution_count": 57,
   "metadata": {
    "ExecuteTime": {
     "end_time": "2021-01-23T09:30:20.716666Z",
     "start_time": "2021-01-23T09:30:20.691047Z"
=======
   "execution_count": 186,
   "metadata": {
    "ExecuteTime": {
     "end_time": "2020-11-02T11:26:57.988050Z",
     "start_time": "2020-11-02T11:26:57.976058Z"
>>>>>>> e5bdd1bbbd0afed153ef38f6cc0cd509f4e3d021
    }
   },
   "outputs": [],
   "source": [
<<<<<<< HEAD
    "# Split cabin to a letter and number\n",
    "df_cat.Cabin\n",
    "train_data['cabin_multiple'] = train_data.Cabin.apply(lambda x: 0 if pd.isna(x) else len(x.split(' ')))"
=======
    "# a function to replace Nan Age values with mean from pre-calculated table\n",
    "def fill_age (df, mean_table):\n",
    "    \n",
    "    df['Age'] = df.apply(\n",
    "    lambda row: mean_table[row['Title']] if np.isnan(row['Age']) else row['Age'],\n",
    "    axis=1\n",
    "    )    \n",
    "    return df\n"
>>>>>>> e5bdd1bbbd0afed153ef38f6cc0cd509f4e3d021
   ]
  },
  {
   "cell_type": "code",
<<<<<<< HEAD
   "execution_count": 58,
   "metadata": {
    "ExecuteTime": {
     "end_time": "2021-01-23T09:30:24.808289Z",
     "start_time": "2021-01-23T09:30:24.785740Z"
    }
   },
   "outputs": [
    {
     "data": {
      "text/plain": [
       "0    687\n",
       "1    180\n",
       "2     16\n",
       "3      6\n",
       "4      2\n",
       "Name: cabin_multiple, dtype: int64"
      ]
     },
     "execution_count": 58,
     "metadata": {},
     "output_type": "execute_result"
    }
   ],
   "source": [
    "# after looking at this, we may want to look at cabin by letter or by number. Let's create some categories for this \n",
    "# letters \n",
    "# multiple letters \n",
    "train_data['cabin_multiple'].value_counts()"
   ]
  },
  {
   "cell_type": "code",
   "execution_count": 59,
   "metadata": {
    "ExecuteTime": {
     "end_time": "2021-01-23T14:06:43.601059Z",
     "start_time": "2021-01-23T14:06:43.494041Z"
=======
   "execution_count": 187,
   "metadata": {
    "ExecuteTime": {
     "end_time": "2020-11-02T11:27:00.137152Z",
     "start_time": "2020-11-02T11:26:59.980072Z"
>>>>>>> e5bdd1bbbd0afed153ef38f6cc0cd509f4e3d021
    }
   },
   "outputs": [
    {
     "data": {
      "text/html": [
       "<div>\n",
       "<style scoped>\n",
       "    .dataframe tbody tr th:only-of-type {\n",
       "        vertical-align: middle;\n",
       "    }\n",
       "\n",
       "    .dataframe tbody tr th {\n",
       "        vertical-align: top;\n",
       "    }\n",
       "\n",
       "    .dataframe thead th {\n",
       "        text-align: right;\n",
       "    }\n",
       "</style>\n",
       "<table border=\"1\" class=\"dataframe\">\n",
       "  <thead>\n",
       "    <tr style=\"text-align: right;\">\n",
<<<<<<< HEAD
       "      <th>cabin_multiple</th>\n",
       "      <th>0</th>\n",
       "      <th>1</th>\n",
       "      <th>2</th>\n",
       "      <th>3</th>\n",
       "      <th>4</th>\n",
       "    </tr>\n",
       "    <tr>\n",
       "      <th>Survived</th>\n",
       "      <th></th>\n",
       "      <th></th>\n",
       "      <th></th>\n",
       "      <th></th>\n",
       "      <th></th>\n",
=======
       "      <th></th>\n",
       "      <th>Age</th>\n",
       "      <th>SibSp</th>\n",
       "      <th>Parch</th>\n",
       "      <th>Title</th>\n",
>>>>>>> e5bdd1bbbd0afed153ef38f6cc0cd509f4e3d021
       "    </tr>\n",
       "  </thead>\n",
       "  <tbody>\n",
       "    <tr>\n",
       "      <th>0</th>\n",
<<<<<<< HEAD
       "      <td>481.0</td>\n",
       "      <td>58.0</td>\n",
       "      <td>7.0</td>\n",
       "      <td>3.0</td>\n",
       "      <td>NaN</td>\n",
       "    </tr>\n",
       "    <tr>\n",
       "      <th>1</th>\n",
       "      <td>206.0</td>\n",
       "      <td>122.0</td>\n",
       "      <td>9.0</td>\n",
       "      <td>3.0</td>\n",
       "      <td>2.0</td>\n",
=======
       "      <td>22.0</td>\n",
       "      <td>1</td>\n",
       "      <td>0</td>\n",
       "      <td>Mr</td>\n",
       "    </tr>\n",
       "    <tr>\n",
       "      <th>1</th>\n",
       "      <td>38.0</td>\n",
       "      <td>1</td>\n",
       "      <td>0</td>\n",
       "      <td>Mrs</td>\n",
       "    </tr>\n",
       "    <tr>\n",
       "      <th>2</th>\n",
       "      <td>26.0</td>\n",
       "      <td>0</td>\n",
       "      <td>0</td>\n",
       "      <td>Miss</td>\n",
       "    </tr>\n",
       "    <tr>\n",
       "      <th>3</th>\n",
       "      <td>35.0</td>\n",
       "      <td>1</td>\n",
       "      <td>0</td>\n",
       "      <td>Mrs</td>\n",
       "    </tr>\n",
       "    <tr>\n",
       "      <th>4</th>\n",
       "      <td>35.0</td>\n",
       "      <td>0</td>\n",
       "      <td>0</td>\n",
       "      <td>Mr</td>\n",
>>>>>>> e5bdd1bbbd0afed153ef38f6cc0cd509f4e3d021
       "    </tr>\n",
       "  </tbody>\n",
       "</table>\n",
       "</div>"
      ],
      "text/plain": [
<<<<<<< HEAD
       "cabin_multiple      0      1    2    3    4\n",
       "Survived                                   \n",
       "0               481.0   58.0  7.0  3.0  NaN\n",
       "1               206.0  122.0  9.0  3.0  2.0"
      ]
     },
     "execution_count": 59,
=======
       "    Age  SibSp  Parch Title\n",
       "0  22.0      1      0    Mr\n",
       "1  38.0      1      0   Mrs\n",
       "2  26.0      0      0  Miss\n",
       "3  35.0      1      0   Mrs\n",
       "4  35.0      0      0    Mr"
      ]
     },
     "execution_count": 187,
>>>>>>> e5bdd1bbbd0afed153ef38f6cc0cd509f4e3d021
     "metadata": {},
     "output_type": "execute_result"
    }
   ],
   "source": [
<<<<<<< HEAD
    "pd.pivot_table(train_data, index = 'Survived', columns = 'cabin_multiple', values = 'Ticket' , aggfunc ='count')"
=======
    "#create separated title column and loc columns for Age calc\n",
    "train_data_title_column = fill_title(train_data)\n",
    "train_data_age_columns = train_data.loc[:,['Age','SibSp','Parch']]\n",
    "train_data_age_fill = train_data_age_columns.join(train_data_title_column)\n",
    "train_data_age_fill.head()"
>>>>>>> e5bdd1bbbd0afed153ef38f6cc0cd509f4e3d021
   ]
  },
  {
   "cell_type": "code",
<<<<<<< HEAD
   "execution_count": 61,
   "metadata": {
    "ExecuteTime": {
     "end_time": "2021-01-23T14:22:50.089277Z",
     "start_time": "2021-01-23T14:22:50.068709Z"
    }
   },
   "outputs": [],
   "source": [
    "#creates categories based on the cabin letter (n stands for null)\n",
    "#in this case we will treat null values like it's own category\n",
    "\n",
    "train_data['cabin_adv'] = train_data.Cabin.apply(lambda x: str(x)[0])"
=======
   "execution_count": 188,
   "metadata": {
    "ExecuteTime": {
     "end_time": "2020-11-02T11:27:02.332486Z",
     "start_time": "2020-11-02T11:27:02.276496Z"
    }
   },
   "outputs": [
    {
     "name": "stdout",
     "output_type": "stream",
     "text": [
      "Title\n",
      "Col       62.000000\n",
      "Dr        42.000000\n",
      "Major     48.500000\n",
      "Master     4.574167\n",
      "Miss      21.804054\n",
      "Mr        32.442643\n",
      "Mrs       35.873874\n",
      "Ms        28.000000\n",
      "Rev       43.166667\n",
      "Name: Age, dtype: float64\n"
     ]
    }
   ],
   "source": [
    "mean_age_by_title = train_data_age_fill.groupby(['Title']).mean().loc[:,'Age']\n",
    "print(mean_age_by_title)"
>>>>>>> e5bdd1bbbd0afed153ef38f6cc0cd509f4e3d021
   ]
  },
  {
   "cell_type": "code",
<<<<<<< HEAD
   "execution_count": 64,
   "metadata": {
    "ExecuteTime": {
     "end_time": "2021-01-23T14:32:23.395518Z",
     "start_time": "2021-01-23T14:32:23.331601Z"
=======
   "execution_count": 194,
   "metadata": {
    "ExecuteTime": {
     "end_time": "2020-11-02T12:47:02.355420Z",
     "start_time": "2020-11-02T12:47:02.315246Z"
>>>>>>> e5bdd1bbbd0afed153ef38f6cc0cd509f4e3d021
    }
   },
   "outputs": [
    {
     "name": "stdout",
     "output_type": "stream",
     "text": [
<<<<<<< HEAD
      "n    687\n",
      "C     59\n",
      "B     47\n",
      "D     33\n",
      "E     32\n",
      "A     15\n",
      "F     13\n",
      "G      4\n",
      "T      1\n",
      "Name: cabin_adv, dtype: int64\n"
     ]
    },
=======
      "<class 'pandas.core.frame.DataFrame'>\n",
      "RangeIndex: 891 entries, 0 to 890\n",
      "Data columns (total 4 columns):\n",
      " #   Column  Non-Null Count  Dtype  \n",
      "---  ------  --------------  -----  \n",
      " 0   Age     714 non-null    float64\n",
      " 1   SibSp   891 non-null    int64  \n",
      " 2   Parch   891 non-null    int64  \n",
      " 3   Title   891 non-null    object \n",
      "dtypes: float64(1), int64(2), object(1)\n",
      "memory usage: 28.0+ KB\n"
     ]
    }
   ],
   "source": [
    "#Also usefull to evaluate the variance of the age estimate\n",
    "train_data_age_fill.info()"
   ]
  },
  {
   "cell_type": "code",
   "execution_count": 189,
   "metadata": {
    "ExecuteTime": {
     "end_time": "2020-11-02T11:27:06.634327Z",
     "start_time": "2020-11-02T11:27:06.518390Z"
    }
   },
   "outputs": [],
   "source": [
    "#Estimate mean age for missing data.\n",
    "\n",
    "train_data = train_data.join(train_data_title_column)\n",
    "train_data = fill_age(train_data,mean_age_by_title)"
   ]
  },
  {
   "cell_type": "code",
   "execution_count": 190,
   "metadata": {
    "ExecuteTime": {
     "end_time": "2020-11-02T11:27:15.445332Z",
     "start_time": "2020-11-02T11:27:15.323940Z"
    }
   },
   "outputs": [
>>>>>>> e5bdd1bbbd0afed153ef38f6cc0cd509f4e3d021
    {
     "data": {
      "text/html": [
       "<div>\n",
       "<style scoped>\n",
       "    .dataframe tbody tr th:only-of-type {\n",
       "        vertical-align: middle;\n",
       "    }\n",
       "\n",
       "    .dataframe tbody tr th {\n",
       "        vertical-align: top;\n",
       "    }\n",
       "\n",
       "    .dataframe thead th {\n",
       "        text-align: right;\n",
       "    }\n",
       "</style>\n",
       "<table border=\"1\" class=\"dataframe\">\n",
       "  <thead>\n",
       "    <tr style=\"text-align: right;\">\n",
<<<<<<< HEAD
       "      <th>cabin_adv</th>\n",
       "      <th>A</th>\n",
       "      <th>B</th>\n",
       "      <th>C</th>\n",
       "      <th>D</th>\n",
       "      <th>E</th>\n",
       "      <th>F</th>\n",
       "      <th>G</th>\n",
       "      <th>T</th>\n",
       "      <th>n</th>\n",
       "    </tr>\n",
       "    <tr>\n",
       "      <th>Survived</th>\n",
       "      <th></th>\n",
       "      <th></th>\n",
       "      <th></th>\n",
       "      <th></th>\n",
       "      <th></th>\n",
       "      <th></th>\n",
       "      <th></th>\n",
       "      <th></th>\n",
       "      <th></th>\n",
=======
       "      <th></th>\n",
       "      <th>PassengerId</th>\n",
       "      <th>Survived</th>\n",
       "      <th>Pclass</th>\n",
       "      <th>Name</th>\n",
       "      <th>Sex</th>\n",
       "      <th>Age</th>\n",
       "      <th>SibSp</th>\n",
       "      <th>Parch</th>\n",
       "      <th>Ticket</th>\n",
       "      <th>Fare</th>\n",
       "      <th>Cabin</th>\n",
       "      <th>Embarked</th>\n",
       "      <th>Title</th>\n",
>>>>>>> e5bdd1bbbd0afed153ef38f6cc0cd509f4e3d021
       "    </tr>\n",
       "  </thead>\n",
       "  <tbody>\n",
       "    <tr>\n",
       "      <th>0</th>\n",
<<<<<<< HEAD
       "      <td>8.0</td>\n",
       "      <td>12.0</td>\n",
       "      <td>24.0</td>\n",
       "      <td>8.0</td>\n",
       "      <td>8.0</td>\n",
       "      <td>5.0</td>\n",
       "      <td>2.0</td>\n",
       "      <td>1.0</td>\n",
       "      <td>481.0</td>\n",
       "    </tr>\n",
       "    <tr>\n",
       "      <th>1</th>\n",
       "      <td>7.0</td>\n",
       "      <td>35.0</td>\n",
       "      <td>35.0</td>\n",
       "      <td>25.0</td>\n",
       "      <td>24.0</td>\n",
       "      <td>8.0</td>\n",
       "      <td>2.0</td>\n",
       "      <td>NaN</td>\n",
       "      <td>206.0</td>\n",
=======
       "      <td>1</td>\n",
       "      <td>0</td>\n",
       "      <td>3</td>\n",
       "      <td>Braund, Mr. Owen Harris</td>\n",
       "      <td>male</td>\n",
       "      <td>22.0</td>\n",
       "      <td>1</td>\n",
       "      <td>0</td>\n",
       "      <td>A/5 21171</td>\n",
       "      <td>7.2500</td>\n",
       "      <td>NaN</td>\n",
       "      <td>S</td>\n",
       "      <td>Mr</td>\n",
       "    </tr>\n",
       "    <tr>\n",
       "      <th>1</th>\n",
       "      <td>2</td>\n",
       "      <td>1</td>\n",
       "      <td>1</td>\n",
       "      <td>Cumings, Mrs. John Bradley (Florence Briggs Th...</td>\n",
       "      <td>female</td>\n",
       "      <td>38.0</td>\n",
       "      <td>1</td>\n",
       "      <td>0</td>\n",
       "      <td>PC 17599</td>\n",
       "      <td>71.2833</td>\n",
       "      <td>C85</td>\n",
       "      <td>C</td>\n",
       "      <td>Mrs</td>\n",
       "    </tr>\n",
       "    <tr>\n",
       "      <th>2</th>\n",
       "      <td>3</td>\n",
       "      <td>1</td>\n",
       "      <td>3</td>\n",
       "      <td>Heikkinen, Miss. Laina</td>\n",
       "      <td>female</td>\n",
       "      <td>26.0</td>\n",
       "      <td>0</td>\n",
       "      <td>0</td>\n",
       "      <td>STON/O2. 3101282</td>\n",
       "      <td>7.9250</td>\n",
       "      <td>NaN</td>\n",
       "      <td>S</td>\n",
       "      <td>Miss</td>\n",
       "    </tr>\n",
       "    <tr>\n",
       "      <th>3</th>\n",
       "      <td>4</td>\n",
       "      <td>1</td>\n",
       "      <td>1</td>\n",
       "      <td>Futrelle, Mrs. Jacques Heath (Lily May Peel)</td>\n",
       "      <td>female</td>\n",
       "      <td>35.0</td>\n",
       "      <td>1</td>\n",
       "      <td>0</td>\n",
       "      <td>113803</td>\n",
       "      <td>53.1000</td>\n",
       "      <td>C123</td>\n",
       "      <td>S</td>\n",
       "      <td>Mrs</td>\n",
       "    </tr>\n",
       "    <tr>\n",
       "      <th>4</th>\n",
       "      <td>5</td>\n",
       "      <td>0</td>\n",
       "      <td>3</td>\n",
       "      <td>Allen, Mr. William Henry</td>\n",
       "      <td>male</td>\n",
       "      <td>35.0</td>\n",
       "      <td>0</td>\n",
       "      <td>0</td>\n",
       "      <td>373450</td>\n",
       "      <td>8.0500</td>\n",
       "      <td>NaN</td>\n",
       "      <td>S</td>\n",
       "      <td>Mr</td>\n",
>>>>>>> e5bdd1bbbd0afed153ef38f6cc0cd509f4e3d021
       "    </tr>\n",
       "  </tbody>\n",
       "</table>\n",
       "</div>"
      ],
      "text/plain": [
<<<<<<< HEAD
       "cabin_adv    A     B     C     D     E    F    G    T      n\n",
       "Survived                                                    \n",
       "0          8.0  12.0  24.0   8.0   8.0  5.0  2.0  1.0  481.0\n",
       "1          7.0  35.0  35.0  25.0  24.0  8.0  2.0  NaN  206.0"
      ]
     },
     "execution_count": 64,
=======
       "   PassengerId  Survived  Pclass  \\\n",
       "0            1         0       3   \n",
       "1            2         1       1   \n",
       "2            3         1       3   \n",
       "3            4         1       1   \n",
       "4            5         0       3   \n",
       "\n",
       "                                                Name     Sex   Age  SibSp  \\\n",
       "0                            Braund, Mr. Owen Harris    male  22.0      1   \n",
       "1  Cumings, Mrs. John Bradley (Florence Briggs Th...  female  38.0      1   \n",
       "2                             Heikkinen, Miss. Laina  female  26.0      0   \n",
       "3       Futrelle, Mrs. Jacques Heath (Lily May Peel)  female  35.0      1   \n",
       "4                           Allen, Mr. William Henry    male  35.0      0   \n",
       "\n",
       "   Parch            Ticket     Fare Cabin Embarked Title  \n",
       "0      0         A/5 21171   7.2500   NaN        S    Mr  \n",
       "1      0          PC 17599  71.2833   C85        C   Mrs  \n",
       "2      0  STON/O2. 3101282   7.9250   NaN        S  Miss  \n",
       "3      0            113803  53.1000  C123        S   Mrs  \n",
       "4      0            373450   8.0500   NaN        S    Mr  "
      ]
     },
     "execution_count": 190,
>>>>>>> e5bdd1bbbd0afed153ef38f6cc0cd509f4e3d021
     "metadata": {},
     "output_type": "execute_result"
    }
   ],
   "source": [
<<<<<<< HEAD
    "#comparing surivial rate by cabin\n",
    "print(train_data.cabin_adv.value_counts())\n",
    "pd.pivot_table(train_data,index='Survived',columns='cabin_adv', values = 'Name', aggfunc='count')"
=======
    "train_data .head()"
>>>>>>> e5bdd1bbbd0afed153ef38f6cc0cd509f4e3d021
   ]
  },
  {
   "cell_type": "markdown",
   "metadata": {},
   "source": [
<<<<<<< HEAD
    "#### Ticket studying"
=======
    "### Define average Fare based on Pclass"
>>>>>>> e5bdd1bbbd0afed153ef38f6cc0cd509f4e3d021
   ]
  },
  {
   "cell_type": "code",
<<<<<<< HEAD
   "execution_count": 65,
   "metadata": {
    "ExecuteTime": {
     "end_time": "2021-01-23T15:32:20.276383Z",
     "start_time": "2021-01-23T15:32:20.248391Z"
    }
   },
   "outputs": [],
   "source": [
    "#understand ticket values better \n",
    "#numeric vs non numeric \n",
    "train_data['numeric_ticket'] = train_data.Ticket.apply(lambda x: 1 if x.isnumeric() else 0)\n",
    "train_data['ticket_letters'] = train_data.Ticket.apply(lambda x: ''.join(x.split(' ')[:-1]).replace('.','').replace('/','').lower() if len(x.split(' ')[:-1]) >0 else 0)"
=======
   "execution_count": 44,
   "metadata": {
    "ExecuteTime": {
     "end_time": "2020-10-30T10:51:43.642865Z",
     "start_time": "2020-10-30T10:51:43.587102Z"
    }
   },
   "outputs": [
    {
     "name": "stdout",
     "output_type": "stream",
     "text": [
      "Pclass\n",
      "1    84.154687\n",
      "2    20.662183\n",
      "3    13.675550\n",
      "Name: Fare, dtype: float64\n"
     ]
    }
   ],
   "source": [
    "train_average_fare = train_data.groupby(['Pclass']).mean().loc[:,'Fare']\n",
    "print(train_average_fare)"
>>>>>>> e5bdd1bbbd0afed153ef38f6cc0cd509f4e3d021
   ]
  },
  {
   "cell_type": "code",
<<<<<<< HEAD
   "execution_count": 67,
   "metadata": {
    "ExecuteTime": {
     "end_time": "2021-01-23T15:32:45.504514Z",
     "start_time": "2021-01-23T15:32:45.476800Z"
    }
   },
   "outputs": [
    {
     "data": {
      "text/plain": [
       "1    661\n",
       "0    230\n",
       "Name: numeric_ticket, dtype: int64"
      ]
     },
     "execution_count": 67,
     "metadata": {},
     "output_type": "execute_result"
    }
   ],
   "source": [
    "train_data['numeric_ticket'].value_counts()"
=======
   "execution_count": 47,
   "metadata": {
    "ExecuteTime": {
     "end_time": "2020-10-30T14:13:52.177879Z",
     "start_time": "2020-10-30T14:13:52.159286Z"
    }
   },
   "outputs": [],
   "source": [
    "fare_dic = train_average_fare.to_dict()"
>>>>>>> e5bdd1bbbd0afed153ef38f6cc0cd509f4e3d021
   ]
  },
  {
   "cell_type": "code",
<<<<<<< HEAD
   "execution_count": 70,
   "metadata": {
    "ExecuteTime": {
     "end_time": "2021-01-23T15:34:03.088472Z",
     "start_time": "2021-01-23T15:34:03.052177Z"
=======
   "execution_count": 50,
   "metadata": {
    "ExecuteTime": {
     "end_time": "2020-10-30T14:14:11.335290Z",
     "start_time": "2020-10-30T14:14:11.315291Z"
>>>>>>> e5bdd1bbbd0afed153ef38f6cc0cd509f4e3d021
    }
   },
   "outputs": [
    {
     "data": {
      "text/plain": [
<<<<<<< HEAD
       "0            665\n",
       "pc            60\n",
       "ca            41\n",
       "a5            21\n",
       "stono2        18\n",
       "sotonoq       15\n",
       "scparis       11\n",
       "wc            10\n",
       "a4             7\n",
       "soc            6\n",
       "c              5\n",
       "fcc            5\n",
       "sopp           3\n",
       "wep            3\n",
       "pp             3\n",
       "ppp            2\n",
       "swpp           2\n",
       "scah           2\n",
       "sotono2        2\n",
       "fa             1\n",
       "as             1\n",
       "scahbasle      1\n",
       "sca4           1\n",
       "casoton        1\n",
       "sc             1\n",
       "scow           1\n",
       "sop            1\n",
       "fc             1\n",
       "sp             1\n",
       "Name: ticket_letters, dtype: int64"
      ]
     },
     "execution_count": 70,
=======
       "20.66218315217391"
      ]
     },
     "execution_count": 50,
>>>>>>> e5bdd1bbbd0afed153ef38f6cc0cd509f4e3d021
     "metadata": {},
     "output_type": "execute_result"
    }
   ],
   "source": [
<<<<<<< HEAD
    "pd.set_option(\"max_rows\", None)\n",
    "train_data['ticket_letters'].value_counts()"
=======
    "fare_dic[2]"
   ]
  },
  {
   "cell_type": "markdown",
   "metadata": {},
   "source": [
    "### Create parent attrubute feature"
>>>>>>> e5bdd1bbbd0afed153ef38f6cc0cd509f4e3d021
   ]
  },
  {
   "cell_type": "code",
<<<<<<< HEAD
   "execution_count": 77,
   "metadata": {
    "ExecuteTime": {
     "end_time": "2021-01-23T16:30:04.510662Z",
     "start_time": "2021-01-23T16:30:04.474624Z"
    }
   },
   "outputs": [
    {
     "data": {
      "text/html": [
       "<div>\n",
       "<style scoped>\n",
       "    .dataframe tbody tr th:only-of-type {\n",
       "        vertical-align: middle;\n",
       "    }\n",
       "\n",
       "    .dataframe tbody tr th {\n",
       "        vertical-align: top;\n",
       "    }\n",
       "\n",
       "    .dataframe thead th {\n",
       "        text-align: right;\n",
       "    }\n",
       "</style>\n",
       "<table border=\"1\" class=\"dataframe\">\n",
       "  <thead>\n",
       "    <tr style=\"text-align: right;\">\n",
       "      <th>numeric_ticket</th>\n",
       "      <th>0</th>\n",
       "      <th>1</th>\n",
       "    </tr>\n",
       "    <tr>\n",
       "      <th>Survived</th>\n",
       "      <th></th>\n",
       "      <th></th>\n",
       "    </tr>\n",
       "  </thead>\n",
       "  <tbody>\n",
       "    <tr>\n",
       "      <th>0</th>\n",
       "      <td>142</td>\n",
       "      <td>407</td>\n",
       "    </tr>\n",
       "    <tr>\n",
       "      <th>1</th>\n",
       "      <td>88</td>\n",
       "      <td>254</td>\n",
       "    </tr>\n",
       "  </tbody>\n",
       "</table>\n",
       "</div>"
      ],
      "text/plain": [
       "numeric_ticket    0    1\n",
       "Survived                \n",
       "0               142  407\n",
       "1                88  254"
      ]
     },
     "execution_count": 77,
     "metadata": {},
     "output_type": "execute_result"
    }
   ],
   "source": [
    "#difference in numeric vs non-numeric tickets in survival rate \n",
    "pd.pivot_table(train_data, columns='numeric_ticket', index='Survived', values='Name', aggfunc='count')"
=======
   "execution_count": 184,
   "metadata": {
    "ExecuteTime": {
     "end_time": "2020-11-02T11:25:28.165160Z",
     "start_time": "2020-11-02T11:25:28.082156Z"
    }
   },
   "outputs": [],
   "source": [
    "# not finished yet. Just Idea\n",
    "# a function to create a Parent feature\n",
    "def fill_parent (df):\n",
    "    \n",
    "##fill function \n",
    "    return pd.Series(par, index = ind, name = 'Parent')"
   ]
  },
  {
   "cell_type": "markdown",
   "metadata": {},
   "source": [
    "###  Drop data"
   ]
  },
  {
   "cell_type": "code",
   "execution_count": 16,
   "metadata": {
    "ExecuteTime": {
     "end_time": "2020-10-29T17:11:06.418741Z",
     "start_time": "2020-10-29T17:11:06.398106Z"
    }
   },
   "outputs": [],
   "source": [
    "#drop some data\n",
    "\n",
    "#drop nan 'Embarked' rows\n",
    "inds = train_data['Embarked'].isna()\n",
    "#inds[inds.values=True].index\n",
    "#nan_indexes = train_data['Embarked'].index[train_data['Embarked'].apply(np.isnan)]\n",
    "rows_to_drop = inds.index[inds].tolist()\n",
    "cols_to_drop = ['Cabin','Name','Ticket','PassengerId']\n",
    "train_data_clean = train_data.drop(axis=0, index = rows_to_drop)\n",
    "train_data_clean = train_data_clean.drop(cols_to_drop, axis=1)"
>>>>>>> e5bdd1bbbd0afed153ef38f6cc0cd509f4e3d021
   ]
  },
  {
   "cell_type": "code",
<<<<<<< HEAD
   "execution_count": 129,
   "metadata": {
    "ExecuteTime": {
     "end_time": "2021-01-24T18:48:08.706886Z",
     "start_time": "2021-01-24T18:48:08.694333Z"
=======
   "execution_count": 17,
   "metadata": {
    "ExecuteTime": {
     "end_time": "2020-10-29T17:11:09.672055Z",
     "start_time": "2020-10-29T17:11:09.651843Z"
>>>>>>> e5bdd1bbbd0afed153ef38f6cc0cd509f4e3d021
    }
   },
   "outputs": [
    {
<<<<<<< HEAD
     "name": "stdout",
     "output_type": "stream",
     "text": [
      "Share of not survived numeric: 61.6% vs. not_numeric: 61.7%\n"
     ]
    }
   ],
   "source": [
    "print('Share of not survived numeric: {:.1%} vs. not_numeric: {:.1%}'.format(407 / (407 + 254), 142 / (142 + 88) ))"
=======
     "data": {
      "text/plain": [
       "(889, 9)"
      ]
     },
     "execution_count": 17,
     "metadata": {},
     "output_type": "execute_result"
    }
   ],
   "source": [
    "train_data_clean.shape"
>>>>>>> e5bdd1bbbd0afed153ef38f6cc0cd509f4e3d021
   ]
  },
  {
   "cell_type": "code",
<<<<<<< HEAD
   "execution_count": 79,
   "metadata": {
    "ExecuteTime": {
     "end_time": "2021-01-23T18:45:19.002620Z",
     "start_time": "2021-01-23T18:45:18.936783Z"
=======
   "execution_count": 18,
   "metadata": {
    "ExecuteTime": {
     "end_time": "2020-10-29T17:11:11.968726Z",
     "start_time": "2020-10-29T17:11:11.949761Z"
>>>>>>> e5bdd1bbbd0afed153ef38f6cc0cd509f4e3d021
    }
   },
   "outputs": [
    {
     "data": {
      "text/html": [
       "<div>\n",
       "<style scoped>\n",
       "    .dataframe tbody tr th:only-of-type {\n",
       "        vertical-align: middle;\n",
       "    }\n",
       "\n",
       "    .dataframe tbody tr th {\n",
       "        vertical-align: top;\n",
       "    }\n",
       "\n",
       "    .dataframe thead th {\n",
       "        text-align: right;\n",
       "    }\n",
       "</style>\n",
       "<table border=\"1\" class=\"dataframe\">\n",
       "  <thead>\n",
       "    <tr style=\"text-align: right;\">\n",
<<<<<<< HEAD
       "      <th>ticket_letters</th>\n",
       "      <th>0</th>\n",
       "      <th>a4</th>\n",
       "      <th>a5</th>\n",
       "      <th>as</th>\n",
       "      <th>c</th>\n",
       "      <th>ca</th>\n",
       "      <th>casoton</th>\n",
       "      <th>fa</th>\n",
       "      <th>fc</th>\n",
       "      <th>fcc</th>\n",
       "      <th>...</th>\n",
       "      <th>soc</th>\n",
       "      <th>sop</th>\n",
       "      <th>sopp</th>\n",
       "      <th>sotono2</th>\n",
       "      <th>sotonoq</th>\n",
       "      <th>sp</th>\n",
       "      <th>stono2</th>\n",
       "      <th>swpp</th>\n",
       "      <th>wc</th>\n",
       "      <th>wep</th>\n",
       "    </tr>\n",
       "    <tr>\n",
       "      <th>Survived</th>\n",
       "      <th></th>\n",
       "      <th></th>\n",
       "      <th></th>\n",
       "      <th></th>\n",
       "      <th></th>\n",
       "      <th></th>\n",
       "      <th></th>\n",
       "      <th></th>\n",
       "      <th></th>\n",
       "      <th></th>\n",
       "      <th></th>\n",
       "      <th></th>\n",
       "      <th></th>\n",
       "      <th></th>\n",
       "      <th></th>\n",
       "      <th></th>\n",
       "      <th></th>\n",
       "      <th></th>\n",
       "      <th></th>\n",
       "      <th></th>\n",
       "      <th></th>\n",
=======
       "      <th></th>\n",
       "      <th>Survived</th>\n",
       "      <th>Pclass</th>\n",
       "      <th>Sex</th>\n",
       "      <th>Age</th>\n",
       "      <th>SibSp</th>\n",
       "      <th>Parch</th>\n",
       "      <th>Fare</th>\n",
       "      <th>Embarked</th>\n",
       "      <th>Title</th>\n",
>>>>>>> e5bdd1bbbd0afed153ef38f6cc0cd509f4e3d021
       "    </tr>\n",
       "  </thead>\n",
       "  <tbody>\n",
       "    <tr>\n",
       "      <th>0</th>\n",
<<<<<<< HEAD
       "      <td>410.0</td>\n",
       "      <td>7.0</td>\n",
       "      <td>19.0</td>\n",
       "      <td>1.0</td>\n",
       "      <td>3.0</td>\n",
       "      <td>27.0</td>\n",
       "      <td>1.0</td>\n",
       "      <td>1.0</td>\n",
       "      <td>1.0</td>\n",
       "      <td>1.0</td>\n",
       "      <td>...</td>\n",
       "      <td>5.0</td>\n",
       "      <td>1.0</td>\n",
       "      <td>3.0</td>\n",
       "      <td>2.0</td>\n",
       "      <td>13.0</td>\n",
       "      <td>1.0</td>\n",
       "      <td>10.0</td>\n",
       "      <td>NaN</td>\n",
       "      <td>9.0</td>\n",
       "      <td>2.0</td>\n",
       "    </tr>\n",
       "    <tr>\n",
       "      <th>1</th>\n",
       "      <td>255.0</td>\n",
       "      <td>NaN</td>\n",
       "      <td>2.0</td>\n",
       "      <td>NaN</td>\n",
       "      <td>2.0</td>\n",
       "      <td>14.0</td>\n",
       "      <td>NaN</td>\n",
       "      <td>NaN</td>\n",
       "      <td>NaN</td>\n",
       "      <td>4.0</td>\n",
       "      <td>...</td>\n",
       "      <td>1.0</td>\n",
       "      <td>NaN</td>\n",
       "      <td>NaN</td>\n",
       "      <td>NaN</td>\n",
       "      <td>2.0</td>\n",
       "      <td>NaN</td>\n",
       "      <td>8.0</td>\n",
       "      <td>2.0</td>\n",
       "      <td>1.0</td>\n",
       "      <td>1.0</td>\n",
       "    </tr>\n",
       "  </tbody>\n",
       "</table>\n",
       "<p>2 rows × 29 columns</p>\n",
       "</div>"
      ],
      "text/plain": [
       "ticket_letters      0   a4    a5   as    c    ca  casoton   fa   fc  fcc  ...  \\\n",
       "Survived                                                                  ...   \n",
       "0               410.0  7.0  19.0  1.0  3.0  27.0      1.0  1.0  1.0  1.0  ...   \n",
       "1               255.0  NaN   2.0  NaN  2.0  14.0      NaN  NaN  NaN  4.0  ...   \n",
       "\n",
       "ticket_letters  soc  sop  sopp  sotono2  sotonoq   sp  stono2  swpp   wc  wep  \n",
       "Survived                                                                       \n",
       "0               5.0  1.0   3.0      2.0     13.0  1.0    10.0   NaN  9.0  2.0  \n",
       "1               1.0  NaN   NaN      NaN      2.0  NaN     8.0   2.0  1.0  1.0  \n",
       "\n",
       "[2 rows x 29 columns]"
      ]
     },
     "execution_count": 79,
=======
       "      <td>0</td>\n",
       "      <td>3</td>\n",
       "      <td>male</td>\n",
       "      <td>22.0</td>\n",
       "      <td>1</td>\n",
       "      <td>0</td>\n",
       "      <td>7.2500</td>\n",
       "      <td>S</td>\n",
       "      <td>Mr</td>\n",
       "    </tr>\n",
       "    <tr>\n",
       "      <th>1</th>\n",
       "      <td>1</td>\n",
       "      <td>1</td>\n",
       "      <td>female</td>\n",
       "      <td>38.0</td>\n",
       "      <td>1</td>\n",
       "      <td>0</td>\n",
       "      <td>71.2833</td>\n",
       "      <td>C</td>\n",
       "      <td>Mrs</td>\n",
       "    </tr>\n",
       "    <tr>\n",
       "      <th>2</th>\n",
       "      <td>1</td>\n",
       "      <td>3</td>\n",
       "      <td>female</td>\n",
       "      <td>26.0</td>\n",
       "      <td>0</td>\n",
       "      <td>0</td>\n",
       "      <td>7.9250</td>\n",
       "      <td>S</td>\n",
       "      <td>Miss</td>\n",
       "    </tr>\n",
       "    <tr>\n",
       "      <th>3</th>\n",
       "      <td>1</td>\n",
       "      <td>1</td>\n",
       "      <td>female</td>\n",
       "      <td>35.0</td>\n",
       "      <td>1</td>\n",
       "      <td>0</td>\n",
       "      <td>53.1000</td>\n",
       "      <td>S</td>\n",
       "      <td>Mrs</td>\n",
       "    </tr>\n",
       "    <tr>\n",
       "      <th>4</th>\n",
       "      <td>0</td>\n",
       "      <td>3</td>\n",
       "      <td>male</td>\n",
       "      <td>35.0</td>\n",
       "      <td>0</td>\n",
       "      <td>0</td>\n",
       "      <td>8.0500</td>\n",
       "      <td>S</td>\n",
       "      <td>Mr</td>\n",
       "    </tr>\n",
       "  </tbody>\n",
       "</table>\n",
       "</div>"
      ],
      "text/plain": [
       "   Survived  Pclass     Sex   Age  SibSp  Parch     Fare Embarked Title\n",
       "0         0       3    male  22.0      1      0   7.2500        S    Mr\n",
       "1         1       1  female  38.0      1      0  71.2833        C   Mrs\n",
       "2         1       3  female  26.0      0      0   7.9250        S  Miss\n",
       "3         1       1  female  35.0      1      0  53.1000        S   Mrs\n",
       "4         0       3    male  35.0      0      0   8.0500        S    Mr"
      ]
     },
     "execution_count": 18,
>>>>>>> e5bdd1bbbd0afed153ef38f6cc0cd509f4e3d021
     "metadata": {},
     "output_type": "execute_result"
    }
   ],
   "source": [
<<<<<<< HEAD
    "#difference between letters of the tickets in survival rate \n",
    "pd.pivot_table(train_data, columns='ticket_letters', index='Survived', values='Ticket', aggfunc='count')"
   ]
  },
  {
   "cell_type": "markdown",
   "metadata": {},
   "source": [
    "### Explore survival rate among features with nan values"
   ]
  },
  {
   "cell_type": "markdown",
   "metadata": {},
   "source": [
    "#### nan cabin"
   ]
  },
  {
   "cell_type": "code",
   "execution_count": 106,
   "metadata": {
    "ExecuteTime": {
     "end_time": "2021-01-24T16:46:55.008504Z",
     "start_time": "2021-01-24T16:46:54.994503Z"
    }
   },
   "outputs": [],
   "source": [
    "train_data['nan_cabin'] = train_data.Cabin.apply(lambda x: 1 if pd.isna(x) else 0)"
=======
    "train_data_clean.head()"
>>>>>>> e5bdd1bbbd0afed153ef38f6cc0cd509f4e3d021
   ]
  },
  {
   "cell_type": "code",
<<<<<<< HEAD
   "execution_count": 110,
   "metadata": {
    "ExecuteTime": {
     "end_time": "2021-01-24T16:55:06.934051Z",
     "start_time": "2021-01-24T16:55:06.861234Z"
=======
   "execution_count": 149,
   "metadata": {
    "ExecuteTime": {
     "end_time": "2020-11-01T13:04:45.328610Z",
     "start_time": "2020-11-01T13:04:45.292408Z"
>>>>>>> e5bdd1bbbd0afed153ef38f6cc0cd509f4e3d021
    }
   },
   "outputs": [
    {
     "data": {
      "text/html": [
       "<div>\n",
       "<style scoped>\n",
       "    .dataframe tbody tr th:only-of-type {\n",
       "        vertical-align: middle;\n",
       "    }\n",
       "\n",
       "    .dataframe tbody tr th {\n",
       "        vertical-align: top;\n",
       "    }\n",
       "\n",
       "    .dataframe thead th {\n",
       "        text-align: right;\n",
       "    }\n",
       "</style>\n",
       "<table border=\"1\" class=\"dataframe\">\n",
       "  <thead>\n",
       "    <tr style=\"text-align: right;\">\n",
<<<<<<< HEAD
       "      <th>nan_cabin</th>\n",
       "      <th>0</th>\n",
       "      <th>1</th>\n",
       "    </tr>\n",
       "    <tr>\n",
       "      <th>Survived</th>\n",
       "      <th></th>\n",
       "      <th></th>\n",
=======
       "      <th></th>\n",
       "      <th>Emb_C</th>\n",
       "      <th>Emb_Q</th>\n",
       "      <th>Emb_S</th>\n",
>>>>>>> e5bdd1bbbd0afed153ef38f6cc0cd509f4e3d021
       "    </tr>\n",
       "  </thead>\n",
       "  <tbody>\n",
       "    <tr>\n",
       "      <th>0</th>\n",
<<<<<<< HEAD
       "      <td>68</td>\n",
       "      <td>481</td>\n",
       "    </tr>\n",
       "    <tr>\n",
       "      <th>1</th>\n",
       "      <td>136</td>\n",
       "      <td>206</td>\n",
       "    </tr>\n",
       "  </tbody>\n",
       "</table>\n",
       "</div>"
      ],
      "text/plain": [
       "nan_cabin    0    1\n",
       "Survived           \n",
       "0           68  481\n",
       "1          136  206"
      ]
     },
     "execution_count": 110,
     "metadata": {},
     "output_type": "execute_result"
    }
   ],
   "source": [
    "pd.pivot_table(train_data, index='Survived', columns='nan_cabin', values='Ticket', aggfunc='count')"
   ]
  },
  {
   "cell_type": "code",
   "execution_count": 113,
   "metadata": {
    "ExecuteTime": {
     "end_time": "2021-01-24T16:57:51.462427Z",
     "start_time": "2021-01-24T16:57:51.450699Z"
    }
   },
   "outputs": [
    {
     "name": "stdout",
     "output_type": "stream",
     "text": [
      "Share of not survived nan cabin: 70.01%\n"
     ]
    }
   ],
   "source": [
    "print('Share of not survived nan cabin: {:.2%}'.format(481 / (481 + 206)))"
=======
       "      <td>0</td>\n",
       "      <td>0</td>\n",
       "      <td>1</td>\n",
       "    </tr>\n",
       "    <tr>\n",
       "      <th>1</th>\n",
       "      <td>1</td>\n",
       "      <td>0</td>\n",
       "      <td>0</td>\n",
       "    </tr>\n",
       "    <tr>\n",
       "      <th>2</th>\n",
       "      <td>0</td>\n",
       "      <td>0</td>\n",
       "      <td>1</td>\n",
       "    </tr>\n",
       "    <tr>\n",
       "      <th>3</th>\n",
       "      <td>0</td>\n",
       "      <td>0</td>\n",
       "      <td>1</td>\n",
       "    </tr>\n",
       "    <tr>\n",
       "      <th>4</th>\n",
       "      <td>0</td>\n",
       "      <td>0</td>\n",
       "      <td>1</td>\n",
       "    </tr>\n",
       "    <tr>\n",
       "      <th>...</th>\n",
       "      <td>...</td>\n",
       "      <td>...</td>\n",
       "      <td>...</td>\n",
       "    </tr>\n",
       "    <tr>\n",
       "      <th>886</th>\n",
       "      <td>0</td>\n",
       "      <td>0</td>\n",
       "      <td>1</td>\n",
       "    </tr>\n",
       "    <tr>\n",
       "      <th>887</th>\n",
       "      <td>0</td>\n",
       "      <td>0</td>\n",
       "      <td>1</td>\n",
       "    </tr>\n",
       "    <tr>\n",
       "      <th>888</th>\n",
       "      <td>0</td>\n",
       "      <td>0</td>\n",
       "      <td>1</td>\n",
       "    </tr>\n",
       "    <tr>\n",
       "      <th>889</th>\n",
       "      <td>1</td>\n",
       "      <td>0</td>\n",
       "      <td>0</td>\n",
       "    </tr>\n",
       "    <tr>\n",
       "      <th>890</th>\n",
       "      <td>0</td>\n",
       "      <td>1</td>\n",
       "      <td>0</td>\n",
       "    </tr>\n",
       "  </tbody>\n",
       "</table>\n",
       "<p>889 rows × 3 columns</p>\n",
       "</div>"
      ],
      "text/plain": [
       "     Emb_C  Emb_Q  Emb_S\n",
       "0        0      0      1\n",
       "1        1      0      0\n",
       "2        0      0      1\n",
       "3        0      0      1\n",
       "4        0      0      1\n",
       "..     ...    ...    ...\n",
       "886      0      0      1\n",
       "887      0      0      1\n",
       "888      0      0      1\n",
       "889      1      0      0\n",
       "890      0      1      0\n",
       "\n",
       "[889 rows x 3 columns]"
      ]
     },
     "execution_count": 149,
     "metadata": {},
     "output_type": "execute_result"
    }
   ],
   "source": [
    "Emb = pd.get_dummies(train_data_clean.Embarked, prefix = 'Emb')\n",
    "Emb"
>>>>>>> e5bdd1bbbd0afed153ef38f6cc0cd509f4e3d021
   ]
  },
  {
   "cell_type": "markdown",
   "metadata": {},
   "source": [
<<<<<<< HEAD
    "aha. we can see that around 70% of nan cabin passengers had not survived. could be additional criteria.  We will create a binary feature \"nan_cabin\" which tells the model about that fact"
=======
    "### Split Data"
>>>>>>> e5bdd1bbbd0afed153ef38f6cc0cd509f4e3d021
   ]
  },
  {
   "cell_type": "code",
<<<<<<< HEAD
   "execution_count": 10,
   "metadata": {
    "ExecuteTime": {
     "end_time": "2021-01-20T15:27:46.160107Z",
     "start_time": "2021-01-20T15:27:46.148475Z"
=======
   "execution_count": 19,
   "metadata": {
    "ExecuteTime": {
     "end_time": "2020-10-29T17:11:33.171409Z",
     "start_time": "2020-10-29T17:11:31.205276Z"
>>>>>>> e5bdd1bbbd0afed153ef38f6cc0cd509f4e3d021
    }
   },
   "outputs": [],
   "source": [
<<<<<<< HEAD
    "# Just want to check in nan cabin passengers had specific tickets\n",
    "ticket_nancabin = nancabin_passengers.Ticket"
   ]
  },
  {
   "cell_type": "code",
   "execution_count": 11,
   "metadata": {
    "ExecuteTime": {
     "end_time": "2021-01-20T15:27:48.860260Z",
     "start_time": "2021-01-20T15:27:48.842710Z"
    }
   },
   "outputs": [
    {
     "name": "stdout",
     "output_type": "stream",
     "text": [
      "0             A/5 21171\n",
      "2      STON/O2. 3101282\n",
      "4                373450\n",
      "5                330877\n",
      "7                349909\n",
      "             ...       \n",
      "884     SOTON/OQ 392076\n",
      "885              382652\n",
      "886              211536\n",
      "888          W./C. 6607\n",
      "890              370376\n",
      "Name: Ticket, Length: 687, dtype: object\n"
     ]
    }
   ],
   "source": [
    "print(ticket_nancabin)"
   ]
  },
  {
   "cell_type": "markdown",
   "metadata": {},
   "source": [
    "no specific tickets for that group"
   ]
  },
  {
   "cell_type": "markdown",
   "metadata": {},
   "source": [
    "#### nan Age"
=======
    "from sklearn.model_selection import train_test_split\n",
    "from sklearn import preprocessing, metrics\n"
>>>>>>> e5bdd1bbbd0afed153ef38f6cc0cd509f4e3d021
   ]
  },
  {
   "cell_type": "code",
<<<<<<< HEAD
   "execution_count": 115,
   "metadata": {
    "ExecuteTime": {
     "end_time": "2021-01-24T17:04:03.355287Z",
     "start_time": "2021-01-24T17:04:03.342753Z"
=======
   "execution_count": 20,
   "metadata": {
    "ExecuteTime": {
     "end_time": "2020-10-29T17:11:33.297662Z",
     "start_time": "2020-10-29T17:11:33.284058Z"
>>>>>>> e5bdd1bbbd0afed153ef38f6cc0cd509f4e3d021
    }
   },
   "outputs": [],
   "source": [
<<<<<<< HEAD
    "train_data['Nan_Age'] = train_data.Age.apply(lambda x: 1 if pd.isna(x) else 0)"
=======
    "# Split train data for model validation\n",
    "X = train_data_clean.drop(['Survived'], axis = 1)\n",
    "y = train_data_clean['Survived']\n",
    "X_train, X_val, y_train, y_val = train_test_split(X, y, test_size = 0.2, random_state = 0)"
>>>>>>> e5bdd1bbbd0afed153ef38f6cc0cd509f4e3d021
   ]
  },
  {
   "cell_type": "code",
<<<<<<< HEAD
   "execution_count": 117,
   "metadata": {
    "ExecuteTime": {
     "end_time": "2021-01-24T17:04:48.076977Z",
     "start_time": "2021-01-24T17:04:48.009769Z"
=======
   "execution_count": 21,
   "metadata": {
    "ExecuteTime": {
     "end_time": "2020-10-29T17:11:35.785991Z",
     "start_time": "2020-10-29T17:11:35.744381Z"
>>>>>>> e5bdd1bbbd0afed153ef38f6cc0cd509f4e3d021
    }
   },
   "outputs": [
    {
     "data": {
      "text/html": [
       "<div>\n",
       "<style scoped>\n",
       "    .dataframe tbody tr th:only-of-type {\n",
       "        vertical-align: middle;\n",
       "    }\n",
       "\n",
       "    .dataframe tbody tr th {\n",
       "        vertical-align: top;\n",
       "    }\n",
       "\n",
       "    .dataframe thead th {\n",
       "        text-align: right;\n",
       "    }\n",
       "</style>\n",
       "<table border=\"1\" class=\"dataframe\">\n",
       "  <thead>\n",
       "    <tr style=\"text-align: right;\">\n",
<<<<<<< HEAD
       "      <th>Nan_Age</th>\n",
       "      <th>0</th>\n",
       "      <th>1</th>\n",
       "    </tr>\n",
       "    <tr>\n",
       "      <th>Survived</th>\n",
       "      <th></th>\n",
       "      <th></th>\n",
=======
       "      <th></th>\n",
       "      <th>Pclass</th>\n",
       "      <th>Sex</th>\n",
       "      <th>Age</th>\n",
       "      <th>SibSp</th>\n",
       "      <th>Parch</th>\n",
       "      <th>Fare</th>\n",
       "      <th>Embarked</th>\n",
       "      <th>Title</th>\n",
>>>>>>> e5bdd1bbbd0afed153ef38f6cc0cd509f4e3d021
       "    </tr>\n",
       "  </thead>\n",
       "  <tbody>\n",
       "    <tr>\n",
<<<<<<< HEAD
       "      <th>0</th>\n",
       "      <td>424</td>\n",
       "      <td>125</td>\n",
       "    </tr>\n",
       "    <tr>\n",
       "      <th>1</th>\n",
       "      <td>290</td>\n",
       "      <td>52</td>\n",
=======
       "      <th>364</th>\n",
       "      <td>3</td>\n",
       "      <td>male</td>\n",
       "      <td>32.442643</td>\n",
       "      <td>1</td>\n",
       "      <td>0</td>\n",
       "      <td>15.5000</td>\n",
       "      <td>Q</td>\n",
       "      <td>Mr</td>\n",
       "    </tr>\n",
       "    <tr>\n",
       "      <th>256</th>\n",
       "      <td>1</td>\n",
       "      <td>female</td>\n",
       "      <td>35.873874</td>\n",
       "      <td>0</td>\n",
       "      <td>0</td>\n",
       "      <td>79.2000</td>\n",
       "      <td>C</td>\n",
       "      <td>Mrs</td>\n",
       "    </tr>\n",
       "    <tr>\n",
       "      <th>477</th>\n",
       "      <td>3</td>\n",
       "      <td>male</td>\n",
       "      <td>29.000000</td>\n",
       "      <td>1</td>\n",
       "      <td>0</td>\n",
       "      <td>7.0458</td>\n",
       "      <td>S</td>\n",
       "      <td>Mr</td>\n",
       "    </tr>\n",
       "    <tr>\n",
       "      <th>272</th>\n",
       "      <td>2</td>\n",
       "      <td>female</td>\n",
       "      <td>41.000000</td>\n",
       "      <td>0</td>\n",
       "      <td>1</td>\n",
       "      <td>19.5000</td>\n",
       "      <td>S</td>\n",
       "      <td>Mrs</td>\n",
       "    </tr>\n",
       "    <tr>\n",
       "      <th>554</th>\n",
       "      <td>3</td>\n",
       "      <td>female</td>\n",
       "      <td>22.000000</td>\n",
       "      <td>0</td>\n",
       "      <td>0</td>\n",
       "      <td>7.7750</td>\n",
       "      <td>S</td>\n",
       "      <td>Miss</td>\n",
       "    </tr>\n",
       "    <tr>\n",
       "      <th>768</th>\n",
       "      <td>3</td>\n",
       "      <td>male</td>\n",
       "      <td>32.442643</td>\n",
       "      <td>1</td>\n",
       "      <td>0</td>\n",
       "      <td>24.1500</td>\n",
       "      <td>Q</td>\n",
       "      <td>Mr</td>\n",
       "    </tr>\n",
       "    <tr>\n",
       "      <th>232</th>\n",
       "      <td>2</td>\n",
       "      <td>male</td>\n",
       "      <td>59.000000</td>\n",
       "      <td>0</td>\n",
       "      <td>0</td>\n",
       "      <td>13.5000</td>\n",
       "      <td>S</td>\n",
       "      <td>Mr</td>\n",
       "    </tr>\n",
       "    <tr>\n",
       "      <th>536</th>\n",
       "      <td>1</td>\n",
       "      <td>male</td>\n",
       "      <td>45.000000</td>\n",
       "      <td>0</td>\n",
       "      <td>0</td>\n",
       "      <td>26.5500</td>\n",
       "      <td>S</td>\n",
       "      <td>Major</td>\n",
       "    </tr>\n",
       "    <tr>\n",
       "      <th>163</th>\n",
       "      <td>3</td>\n",
       "      <td>male</td>\n",
       "      <td>17.000000</td>\n",
       "      <td>0</td>\n",
       "      <td>0</td>\n",
       "      <td>8.6625</td>\n",
       "      <td>S</td>\n",
       "      <td>Mr</td>\n",
       "    </tr>\n",
       "    <tr>\n",
       "      <th>659</th>\n",
       "      <td>1</td>\n",
       "      <td>male</td>\n",
       "      <td>58.000000</td>\n",
       "      <td>0</td>\n",
       "      <td>2</td>\n",
       "      <td>113.2750</td>\n",
       "      <td>C</td>\n",
       "      <td>Mr</td>\n",
>>>>>>> e5bdd1bbbd0afed153ef38f6cc0cd509f4e3d021
       "    </tr>\n",
       "  </tbody>\n",
       "</table>\n",
       "</div>"
      ],
      "text/plain": [
<<<<<<< HEAD
       "Nan_Age     0    1\n",
       "Survived          \n",
       "0         424  125\n",
       "1         290   52"
      ]
     },
     "execution_count": 117,
=======
       "     Pclass     Sex        Age  SibSp  Parch      Fare Embarked  Title\n",
       "364       3    male  32.442643      1      0   15.5000        Q     Mr\n",
       "256       1  female  35.873874      0      0   79.2000        C    Mrs\n",
       "477       3    male  29.000000      1      0    7.0458        S     Mr\n",
       "272       2  female  41.000000      0      1   19.5000        S    Mrs\n",
       "554       3  female  22.000000      0      0    7.7750        S   Miss\n",
       "768       3    male  32.442643      1      0   24.1500        Q     Mr\n",
       "232       2    male  59.000000      0      0   13.5000        S     Mr\n",
       "536       1    male  45.000000      0      0   26.5500        S  Major\n",
       "163       3    male  17.000000      0      0    8.6625        S     Mr\n",
       "659       1    male  58.000000      0      2  113.2750        C     Mr"
      ]
     },
     "execution_count": 21,
>>>>>>> e5bdd1bbbd0afed153ef38f6cc0cd509f4e3d021
     "metadata": {},
     "output_type": "execute_result"
    }
   ],
   "source": [
<<<<<<< HEAD
    "pd.pivot_table(train_data, index='Survived', columns='Nan_Age', values='Ticket', aggfunc='count')"
=======
    "X_train.head(10)"
>>>>>>> e5bdd1bbbd0afed153ef38f6cc0cd509f4e3d021
   ]
  },
  {
   "cell_type": "code",
<<<<<<< HEAD
   "execution_count": 118,
   "metadata": {
    "ExecuteTime": {
     "end_time": "2021-01-24T17:07:18.144477Z",
     "start_time": "2021-01-24T17:07:18.117008Z"
=======
   "execution_count": 22,
   "metadata": {
    "ExecuteTime": {
     "end_time": "2020-10-29T17:12:10.713090Z",
     "start_time": "2020-10-29T17:12:10.682089Z"
>>>>>>> e5bdd1bbbd0afed153ef38f6cc0cd509f4e3d021
    }
   },
   "outputs": [
    {
<<<<<<< HEAD
     "name": "stdout",
     "output_type": "stream",
     "text": [
      "Share of not survived w/ nan_age: 70.62%, and w/ known age: 59.38% \n"
     ]
    }
   ],
   "source": [
    "print('Share of not survived w/ nan_age: {:.2%}, and w/ known age: {:.2%} '.format(125 / (125 + 52), 424 / (424 + 290)))"
=======
     "data": {
      "text/plain": [
       "364    0\n",
       "256    1\n",
       "477    0\n",
       "272    1\n",
       "554    1\n",
       "Name: Survived, dtype: int64"
      ]
     },
     "execution_count": 22,
     "metadata": {},
     "output_type": "execute_result"
    }
   ],
   "source": [
    "y_train.head()"
>>>>>>> e5bdd1bbbd0afed153ef38f6cc0cd509f4e3d021
   ]
  },
  {
   "cell_type": "markdown",
   "metadata": {},
   "source": [
<<<<<<< HEAD
    "we can see that nan Age passengers have only 10% higher \"not survival\" rate"
=======
    "### Categorical variables encoding"
   ]
  },
  {
   "cell_type": "code",
   "execution_count": 23,
   "metadata": {
    "ExecuteTime": {
     "end_time": "2020-10-29T17:13:48.352785Z",
     "start_time": "2020-10-29T17:13:48.334244Z"
    }
   },
   "outputs": [
    {
     "name": "stdout",
     "output_type": "stream",
     "text": [
      "Categorical variables: ['Sex', 'Embarked', 'Title']\n"
     ]
    }
   ],
   "source": [
    "# Get list of categorical variables\n",
    "s = (X_train.dtypes == 'object')\n",
    "object_cols = list(s[s].index)\n",
    "#object_cols1 = ['Cabin'] \n",
    "\n",
    "\n",
    "print(\"Categorical variables:\", object_cols )\n",
    "#print(object_cols)"
>>>>>>> e5bdd1bbbd0afed153ef38f6cc0cd509f4e3d021
   ]
  },
  {
   "cell_type": "code",
<<<<<<< HEAD
   "execution_count": 119,
   "metadata": {
    "ExecuteTime": {
     "end_time": "2021-01-24T17:13:35.992638Z",
     "start_time": "2021-01-24T17:13:35.938662Z"
=======
   "execution_count": 126,
   "metadata": {
    "ExecuteTime": {
     "end_time": "2020-10-31T11:09:57.176906Z",
     "start_time": "2020-10-31T11:09:57.160844Z"
>>>>>>> e5bdd1bbbd0afed153ef38f6cc0cd509f4e3d021
    }
   },
   "outputs": [
    {
     "data": {
<<<<<<< HEAD
      "text/html": [
       "<div>\n",
       "<style scoped>\n",
       "    .dataframe tbody tr th:only-of-type {\n",
       "        vertical-align: middle;\n",
       "    }\n",
       "\n",
       "    .dataframe tbody tr th {\n",
       "        vertical-align: top;\n",
       "    }\n",
       "\n",
       "    .dataframe thead th {\n",
       "        text-align: right;\n",
       "    }\n",
       "</style>\n",
       "<table border=\"1\" class=\"dataframe\">\n",
       "  <thead>\n",
       "    <tr style=\"text-align: right;\">\n",
       "      <th></th>\n",
       "      <th>PassengerId</th>\n",
       "      <th>Survived</th>\n",
       "      <th>Pclass</th>\n",
       "      <th>Name</th>\n",
=======
      "text/plain": [
       "'Title'"
      ]
     },
     "execution_count": 126,
     "metadata": {},
     "output_type": "execute_result"
    }
   ],
   "source": [
    "feature"
   ]
  },
  {
   "cell_type": "code",
   "execution_count": 25,
   "metadata": {
    "ExecuteTime": {
     "end_time": "2020-10-29T17:13:57.046894Z",
     "start_time": "2020-10-29T17:13:57.017569Z"
    }
   },
   "outputs": [],
   "source": [
    "# Label encoding for categorical features\n",
    "X_train_label = X_train.copy()\n",
    "X_val_label = X_val.copy()\n",
    "\n",
    "for feature in object_cols:\n",
    "    label_encoder = preprocessing.LabelEncoder()\n",
    "    label_encoder.fit(X_train[feature])\n",
    "    labeled_train = label_encoder.transform(X_train[feature])  \n",
    "    labeled_val = label_encoder.transform(X_val[feature])\n",
    "    X_train_label[feature + '_label'] = labeled_train \n",
    "    X_val_label[feature + '_label'] = labeled_val\n"
   ]
  },
  {
   "cell_type": "code",
   "execution_count": 26,
   "metadata": {
    "ExecuteTime": {
     "end_time": "2020-10-29T17:13:58.625539Z",
     "start_time": "2020-10-29T17:13:58.571166Z"
    }
   },
   "outputs": [
    {
     "data": {
      "text/html": [
       "<div>\n",
       "<style scoped>\n",
       "    .dataframe tbody tr th:only-of-type {\n",
       "        vertical-align: middle;\n",
       "    }\n",
       "\n",
       "    .dataframe tbody tr th {\n",
       "        vertical-align: top;\n",
       "    }\n",
       "\n",
       "    .dataframe thead th {\n",
       "        text-align: right;\n",
       "    }\n",
       "</style>\n",
       "<table border=\"1\" class=\"dataframe\">\n",
       "  <thead>\n",
       "    <tr style=\"text-align: right;\">\n",
       "      <th></th>\n",
       "      <th>Pclass</th>\n",
>>>>>>> e5bdd1bbbd0afed153ef38f6cc0cd509f4e3d021
       "      <th>Sex</th>\n",
       "      <th>Age</th>\n",
       "      <th>SibSp</th>\n",
       "      <th>Parch</th>\n",
<<<<<<< HEAD
       "      <th>Ticket</th>\n",
       "      <th>Fare</th>\n",
       "      <th>Cabin</th>\n",
       "      <th>Embarked</th>\n",
       "      <th>train_test</th>\n",
       "      <th>cabin_multiple</th>\n",
       "      <th>cabin_adv</th>\n",
       "      <th>numeric_ticket</th>\n",
       "      <th>ticket_letters</th>\n",
       "      <th>name_title_all</th>\n",
       "      <th>Nan_Age</th>\n",
       "      <th>nan_cabin</th>\n",
=======
       "      <th>Fare</th>\n",
       "      <th>Embarked</th>\n",
       "      <th>Title</th>\n",
       "      <th>Sex_label</th>\n",
       "      <th>Embarked_label</th>\n",
       "      <th>Title_label</th>\n",
>>>>>>> e5bdd1bbbd0afed153ef38f6cc0cd509f4e3d021
       "    </tr>\n",
       "  </thead>\n",
       "  <tbody>\n",
       "    <tr>\n",
<<<<<<< HEAD
       "      <th>0</th>\n",
       "      <td>1</td>\n",
       "      <td>0</td>\n",
       "      <td>3</td>\n",
       "      <td>Braund, Mr. Owen Harris</td>\n",
       "      <td>male</td>\n",
       "      <td>22.0</td>\n",
       "      <td>1</td>\n",
       "      <td>0</td>\n",
       "      <td>A/5 21171</td>\n",
       "      <td>7.2500</td>\n",
       "      <td>NaN</td>\n",
       "      <td>S</td>\n",
       "      <td>1</td>\n",
       "      <td>0</td>\n",
       "      <td>n</td>\n",
       "      <td>0</td>\n",
       "      <td>a5</td>\n",
       "      <td>Mr</td>\n",
       "      <td>0</td>\n",
       "      <td>1</td>\n",
       "    </tr>\n",
       "    <tr>\n",
       "      <th>1</th>\n",
       "      <td>2</td>\n",
       "      <td>1</td>\n",
       "      <td>1</td>\n",
       "      <td>Cumings, Mrs. John Bradley (Florence Briggs Th...</td>\n",
       "      <td>female</td>\n",
       "      <td>38.0</td>\n",
       "      <td>1</td>\n",
       "      <td>0</td>\n",
       "      <td>PC 17599</td>\n",
       "      <td>71.2833</td>\n",
       "      <td>C85</td>\n",
       "      <td>C</td>\n",
       "      <td>1</td>\n",
       "      <td>1</td>\n",
       "      <td>C</td>\n",
       "      <td>0</td>\n",
       "      <td>pc</td>\n",
       "      <td>Mrs</td>\n",
       "      <td>0</td>\n",
       "      <td>0</td>\n",
       "    </tr>\n",
       "    <tr>\n",
       "      <th>2</th>\n",
       "      <td>3</td>\n",
       "      <td>1</td>\n",
       "      <td>3</td>\n",
       "      <td>Heikkinen, Miss. Laina</td>\n",
       "      <td>female</td>\n",
       "      <td>26.0</td>\n",
       "      <td>0</td>\n",
       "      <td>0</td>\n",
       "      <td>STON/O2. 3101282</td>\n",
       "      <td>7.9250</td>\n",
       "      <td>NaN</td>\n",
       "      <td>S</td>\n",
       "      <td>1</td>\n",
       "      <td>0</td>\n",
       "      <td>n</td>\n",
       "      <td>0</td>\n",
       "      <td>stono2</td>\n",
       "      <td>Miss</td>\n",
       "      <td>0</td>\n",
       "      <td>1</td>\n",
       "    </tr>\n",
       "    <tr>\n",
       "      <th>3</th>\n",
       "      <td>4</td>\n",
       "      <td>1</td>\n",
       "      <td>1</td>\n",
       "      <td>Futrelle, Mrs. Jacques Heath (Lily May Peel)</td>\n",
       "      <td>female</td>\n",
       "      <td>35.0</td>\n",
       "      <td>1</td>\n",
       "      <td>0</td>\n",
       "      <td>113803</td>\n",
       "      <td>53.1000</td>\n",
       "      <td>C123</td>\n",
       "      <td>S</td>\n",
       "      <td>1</td>\n",
       "      <td>1</td>\n",
       "      <td>C</td>\n",
       "      <td>1</td>\n",
       "      <td>0</td>\n",
       "      <td>Mrs</td>\n",
       "      <td>0</td>\n",
       "      <td>0</td>\n",
       "    </tr>\n",
       "    <tr>\n",
       "      <th>4</th>\n",
       "      <td>5</td>\n",
       "      <td>0</td>\n",
       "      <td>3</td>\n",
       "      <td>Allen, Mr. William Henry</td>\n",
       "      <td>male</td>\n",
       "      <td>35.0</td>\n",
       "      <td>0</td>\n",
       "      <td>0</td>\n",
       "      <td>373450</td>\n",
       "      <td>8.0500</td>\n",
       "      <td>NaN</td>\n",
       "      <td>S</td>\n",
       "      <td>1</td>\n",
       "      <td>0</td>\n",
       "      <td>n</td>\n",
       "      <td>1</td>\n",
       "      <td>0</td>\n",
       "      <td>Mr</td>\n",
       "      <td>0</td>\n",
       "      <td>1</td>\n",
=======
       "      <th>364</th>\n",
       "      <td>3</td>\n",
       "      <td>male</td>\n",
       "      <td>32.442643</td>\n",
       "      <td>1</td>\n",
       "      <td>0</td>\n",
       "      <td>15.5000</td>\n",
       "      <td>Q</td>\n",
       "      <td>Mr</td>\n",
       "      <td>1</td>\n",
       "      <td>1</td>\n",
       "      <td>5</td>\n",
       "    </tr>\n",
       "    <tr>\n",
       "      <th>256</th>\n",
       "      <td>1</td>\n",
       "      <td>female</td>\n",
       "      <td>35.873874</td>\n",
       "      <td>0</td>\n",
       "      <td>0</td>\n",
       "      <td>79.2000</td>\n",
       "      <td>C</td>\n",
       "      <td>Mrs</td>\n",
       "      <td>0</td>\n",
       "      <td>0</td>\n",
       "      <td>6</td>\n",
       "    </tr>\n",
       "    <tr>\n",
       "      <th>477</th>\n",
       "      <td>3</td>\n",
       "      <td>male</td>\n",
       "      <td>29.000000</td>\n",
       "      <td>1</td>\n",
       "      <td>0</td>\n",
       "      <td>7.0458</td>\n",
       "      <td>S</td>\n",
       "      <td>Mr</td>\n",
       "      <td>1</td>\n",
       "      <td>2</td>\n",
       "      <td>5</td>\n",
       "    </tr>\n",
       "    <tr>\n",
       "      <th>272</th>\n",
       "      <td>2</td>\n",
       "      <td>female</td>\n",
       "      <td>41.000000</td>\n",
       "      <td>0</td>\n",
       "      <td>1</td>\n",
       "      <td>19.5000</td>\n",
       "      <td>S</td>\n",
       "      <td>Mrs</td>\n",
       "      <td>0</td>\n",
       "      <td>2</td>\n",
       "      <td>6</td>\n",
       "    </tr>\n",
       "    <tr>\n",
       "      <th>554</th>\n",
       "      <td>3</td>\n",
       "      <td>female</td>\n",
       "      <td>22.000000</td>\n",
       "      <td>0</td>\n",
       "      <td>0</td>\n",
       "      <td>7.7750</td>\n",
       "      <td>S</td>\n",
       "      <td>Miss</td>\n",
       "      <td>0</td>\n",
       "      <td>2</td>\n",
       "      <td>4</td>\n",
>>>>>>> e5bdd1bbbd0afed153ef38f6cc0cd509f4e3d021
       "    </tr>\n",
       "  </tbody>\n",
       "</table>\n",
       "</div>"
      ],
      "text/plain": [
<<<<<<< HEAD
       "   PassengerId  Survived  Pclass  \\\n",
       "0            1         0       3   \n",
       "1            2         1       1   \n",
       "2            3         1       3   \n",
       "3            4         1       1   \n",
       "4            5         0       3   \n",
       "\n",
       "                                                Name     Sex   Age  SibSp  \\\n",
       "0                            Braund, Mr. Owen Harris    male  22.0      1   \n",
       "1  Cumings, Mrs. John Bradley (Florence Briggs Th...  female  38.0      1   \n",
       "2                             Heikkinen, Miss. Laina  female  26.0      0   \n",
       "3       Futrelle, Mrs. Jacques Heath (Lily May Peel)  female  35.0      1   \n",
       "4                           Allen, Mr. William Henry    male  35.0      0   \n",
       "\n",
       "   Parch            Ticket     Fare Cabin Embarked  train_test  \\\n",
       "0      0         A/5 21171   7.2500   NaN        S           1   \n",
       "1      0          PC 17599  71.2833   C85        C           1   \n",
       "2      0  STON/O2. 3101282   7.9250   NaN        S           1   \n",
       "3      0            113803  53.1000  C123        S           1   \n",
       "4      0            373450   8.0500   NaN        S           1   \n",
       "\n",
       "   cabin_multiple cabin_adv  numeric_ticket ticket_letters name_title_all  \\\n",
       "0               0         n               0             a5             Mr   \n",
       "1               1         C               0             pc            Mrs   \n",
       "2               0         n               0         stono2           Miss   \n",
       "3               1         C               1              0            Mrs   \n",
       "4               0         n               1              0             Mr   \n",
       "\n",
       "   Nan_Age  nan_cabin  \n",
       "0        0          1  \n",
       "1        0          0  \n",
       "2        0          1  \n",
       "3        0          0  \n",
       "4        0          1  "
      ]
     },
     "execution_count": 119,
=======
       "     Pclass     Sex        Age  SibSp  Parch     Fare Embarked Title  \\\n",
       "364       3    male  32.442643      1      0  15.5000        Q    Mr   \n",
       "256       1  female  35.873874      0      0  79.2000        C   Mrs   \n",
       "477       3    male  29.000000      1      0   7.0458        S    Mr   \n",
       "272       2  female  41.000000      0      1  19.5000        S   Mrs   \n",
       "554       3  female  22.000000      0      0   7.7750        S  Miss   \n",
       "\n",
       "     Sex_label  Embarked_label  Title_label  \n",
       "364          1               1            5  \n",
       "256          0               0            6  \n",
       "477          1               2            5  \n",
       "272          0               2            6  \n",
       "554          0               2            4  "
      ]
     },
     "execution_count": 26,
>>>>>>> e5bdd1bbbd0afed153ef38f6cc0cd509f4e3d021
     "metadata": {},
     "output_type": "execute_result"
    }
   ],
   "source": [
<<<<<<< HEAD
    "train_data.head()"
=======
    "X_train_label.head()"
>>>>>>> e5bdd1bbbd0afed153ef38f6cc0cd509f4e3d021
   ]
  },
  {
   "cell_type": "markdown",
   "metadata": {},
   "source": [
<<<<<<< HEAD
    "## Data Preprocessing and feature generation"
=======
    "## Feature Selection"
>>>>>>> e5bdd1bbbd0afed153ef38f6cc0cd509f4e3d021
   ]
  },
  {
   "cell_type": "code",
<<<<<<< HEAD
   "execution_count": 101,
   "metadata": {
    "ExecuteTime": {
     "end_time": "2021-01-26T17:28:33.136053Z",
     "start_time": "2021-01-26T17:28:33.065179Z"
=======
   "execution_count": 64,
   "metadata": {
    "ExecuteTime": {
     "end_time": "2020-09-28T05:57:31.457401Z",
     "start_time": "2020-09-28T05:57:31.407355Z"
>>>>>>> e5bdd1bbbd0afed153ef38f6cc0cd509f4e3d021
    }
   },
   "outputs": [
    {
<<<<<<< HEAD
     "name": "stdout",
     "output_type": "stream",
     "text": [
      "(1309, 13)\n"
     ]
    },
    {
=======
>>>>>>> e5bdd1bbbd0afed153ef38f6cc0cd509f4e3d021
     "data": {
      "text/html": [
       "<div>\n",
       "<style scoped>\n",
       "    .dataframe tbody tr th:only-of-type {\n",
       "        vertical-align: middle;\n",
       "    }\n",
       "\n",
       "    .dataframe tbody tr th {\n",
       "        vertical-align: top;\n",
       "    }\n",
       "\n",
       "    .dataframe thead th {\n",
       "        text-align: right;\n",
       "    }\n",
       "</style>\n",
       "<table border=\"1\" class=\"dataframe\">\n",
       "  <thead>\n",
       "    <tr style=\"text-align: right;\">\n",
       "      <th></th>\n",
<<<<<<< HEAD
       "      <th>PassengerId</th>\n",
       "      <th>Survived</th>\n",
       "      <th>Pclass</th>\n",
       "      <th>Name</th>\n",
=======
       "      <th>Pclass</th>\n",
>>>>>>> e5bdd1bbbd0afed153ef38f6cc0cd509f4e3d021
       "      <th>Sex</th>\n",
       "      <th>Age</th>\n",
       "      <th>SibSp</th>\n",
       "      <th>Parch</th>\n",
<<<<<<< HEAD
       "      <th>Ticket</th>\n",
       "      <th>Fare</th>\n",
       "      <th>Cabin</th>\n",
       "      <th>Embarked</th>\n",
       "      <th>train_test</th>\n",
=======
       "      <th>Fare</th>\n",
       "      <th>Embarked</th>\n",
       "      <th>Title</th>\n",
       "      <th>Sex_label</th>\n",
       "      <th>Embarked_label</th>\n",
       "      <th>Title_label</th>\n",
       "      <th>Survived</th>\n",
>>>>>>> e5bdd1bbbd0afed153ef38f6cc0cd509f4e3d021
       "    </tr>\n",
       "  </thead>\n",
       "  <tbody>\n",
       "    <tr>\n",
<<<<<<< HEAD
       "      <th>0</th>\n",
       "      <td>1</td>\n",
       "      <td>0.0</td>\n",
       "      <td>3</td>\n",
       "      <td>Braund, Mr. Owen Harris</td>\n",
       "      <td>male</td>\n",
       "      <td>22.0</td>\n",
       "      <td>1</td>\n",
       "      <td>0</td>\n",
       "      <td>A/5 21171</td>\n",
       "      <td>7.2500</td>\n",
       "      <td>NaN</td>\n",
       "      <td>S</td>\n",
       "      <td>1</td>\n",
       "    </tr>\n",
       "    <tr>\n",
       "      <th>1</th>\n",
       "      <td>2</td>\n",
       "      <td>1.0</td>\n",
       "      <td>1</td>\n",
       "      <td>Cumings, Mrs. John Bradley (Florence Briggs Th...</td>\n",
       "      <td>female</td>\n",
       "      <td>38.0</td>\n",
       "      <td>1</td>\n",
       "      <td>0</td>\n",
       "      <td>PC 17599</td>\n",
       "      <td>71.2833</td>\n",
       "      <td>C85</td>\n",
       "      <td>C</td>\n",
       "      <td>1</td>\n",
       "    </tr>\n",
       "    <tr>\n",
       "      <th>2</th>\n",
       "      <td>3</td>\n",
       "      <td>1.0</td>\n",
       "      <td>3</td>\n",
       "      <td>Heikkinen, Miss. Laina</td>\n",
       "      <td>female</td>\n",
       "      <td>26.0</td>\n",
       "      <td>0</td>\n",
       "      <td>0</td>\n",
       "      <td>STON/O2. 3101282</td>\n",
       "      <td>7.9250</td>\n",
       "      <td>NaN</td>\n",
       "      <td>S</td>\n",
       "      <td>1</td>\n",
       "    </tr>\n",
       "    <tr>\n",
       "      <th>3</th>\n",
       "      <td>4</td>\n",
       "      <td>1.0</td>\n",
       "      <td>1</td>\n",
       "      <td>Futrelle, Mrs. Jacques Heath (Lily May Peel)</td>\n",
       "      <td>female</td>\n",
       "      <td>35.0</td>\n",
       "      <td>1</td>\n",
       "      <td>0</td>\n",
       "      <td>113803</td>\n",
       "      <td>53.1000</td>\n",
       "      <td>C123</td>\n",
       "      <td>S</td>\n",
       "      <td>1</td>\n",
       "    </tr>\n",
       "    <tr>\n",
       "      <th>4</th>\n",
       "      <td>5</td>\n",
       "      <td>0.0</td>\n",
       "      <td>3</td>\n",
       "      <td>Allen, Mr. William Henry</td>\n",
       "      <td>male</td>\n",
       "      <td>35.0</td>\n",
       "      <td>0</td>\n",
       "      <td>0</td>\n",
       "      <td>373450</td>\n",
       "      <td>8.0500</td>\n",
       "      <td>NaN</td>\n",
       "      <td>S</td>\n",
=======
       "      <th>364</th>\n",
       "      <td>3</td>\n",
       "      <td>male</td>\n",
       "      <td>32.442643</td>\n",
       "      <td>1</td>\n",
       "      <td>0</td>\n",
       "      <td>15.5000</td>\n",
       "      <td>Q</td>\n",
       "      <td>Mr</td>\n",
       "      <td>1</td>\n",
       "      <td>1</td>\n",
       "      <td>5</td>\n",
       "      <td>0</td>\n",
       "    </tr>\n",
       "    <tr>\n",
       "      <th>256</th>\n",
       "      <td>1</td>\n",
       "      <td>female</td>\n",
       "      <td>35.873874</td>\n",
       "      <td>0</td>\n",
       "      <td>0</td>\n",
       "      <td>79.2000</td>\n",
       "      <td>C</td>\n",
       "      <td>Mrs</td>\n",
       "      <td>0</td>\n",
       "      <td>0</td>\n",
       "      <td>6</td>\n",
       "      <td>1</td>\n",
       "    </tr>\n",
       "    <tr>\n",
       "      <th>477</th>\n",
       "      <td>3</td>\n",
       "      <td>male</td>\n",
       "      <td>29.000000</td>\n",
       "      <td>1</td>\n",
       "      <td>0</td>\n",
       "      <td>7.0458</td>\n",
       "      <td>S</td>\n",
       "      <td>Mr</td>\n",
       "      <td>1</td>\n",
       "      <td>2</td>\n",
       "      <td>5</td>\n",
       "      <td>0</td>\n",
       "    </tr>\n",
       "    <tr>\n",
       "      <th>272</th>\n",
       "      <td>2</td>\n",
       "      <td>female</td>\n",
       "      <td>41.000000</td>\n",
       "      <td>0</td>\n",
       "      <td>1</td>\n",
       "      <td>19.5000</td>\n",
       "      <td>S</td>\n",
       "      <td>Mrs</td>\n",
       "      <td>0</td>\n",
       "      <td>2</td>\n",
       "      <td>6</td>\n",
       "      <td>1</td>\n",
       "    </tr>\n",
       "    <tr>\n",
       "      <th>554</th>\n",
       "      <td>3</td>\n",
       "      <td>female</td>\n",
       "      <td>22.000000</td>\n",
       "      <td>0</td>\n",
       "      <td>0</td>\n",
       "      <td>7.7750</td>\n",
       "      <td>S</td>\n",
       "      <td>Miss</td>\n",
       "      <td>0</td>\n",
       "      <td>2</td>\n",
       "      <td>4</td>\n",
>>>>>>> e5bdd1bbbd0afed153ef38f6cc0cd509f4e3d021
       "      <td>1</td>\n",
       "    </tr>\n",
       "  </tbody>\n",
       "</table>\n",
       "</div>"
      ],
      "text/plain": [
<<<<<<< HEAD
       "   PassengerId  Survived  Pclass  \\\n",
       "0            1       0.0       3   \n",
       "1            2       1.0       1   \n",
       "2            3       1.0       3   \n",
       "3            4       1.0       1   \n",
       "4            5       0.0       3   \n",
       "\n",
       "                                                Name     Sex   Age  SibSp  \\\n",
       "0                            Braund, Mr. Owen Harris    male  22.0      1   \n",
       "1  Cumings, Mrs. John Bradley (Florence Briggs Th...  female  38.0      1   \n",
       "2                             Heikkinen, Miss. Laina  female  26.0      0   \n",
       "3       Futrelle, Mrs. Jacques Heath (Lily May Peel)  female  35.0      1   \n",
       "4                           Allen, Mr. William Henry    male  35.0      0   \n",
       "\n",
       "   Parch            Ticket     Fare Cabin Embarked  train_test  \n",
       "0      0         A/5 21171   7.2500   NaN        S           1  \n",
       "1      0          PC 17599  71.2833   C85        C           1  \n",
       "2      0  STON/O2. 3101282   7.9250   NaN        S           1  \n",
       "3      0            113803  53.1000  C123        S           1  \n",
       "4      0            373450   8.0500   NaN        S           1  "
      ]
     },
     "execution_count": 101,
=======
       "     Pclass     Sex        Age  SibSp  Parch     Fare Embarked Title  \\\n",
       "364       3    male  32.442643      1      0  15.5000        Q    Mr   \n",
       "256       1  female  35.873874      0      0  79.2000        C   Mrs   \n",
       "477       3    male  29.000000      1      0   7.0458        S    Mr   \n",
       "272       2  female  41.000000      0      1  19.5000        S   Mrs   \n",
       "554       3  female  22.000000      0      0   7.7750        S  Miss   \n",
       "\n",
       "     Sex_label  Embarked_label  Title_label  Survived  \n",
       "364          1               1            5         0  \n",
       "256          0               0            6         1  \n",
       "477          1               2            5         0  \n",
       "272          0               2            6         1  \n",
       "554          0               2            4         1  "
      ]
     },
     "execution_count": 64,
>>>>>>> e5bdd1bbbd0afed153ef38f6cc0cd509f4e3d021
     "metadata": {},
     "output_type": "execute_result"
    }
   ],
   "source": [
<<<<<<< HEAD
    "#All data head\n",
    "print(all_data.shape)\n",
    "all_data.head()"
=======
    "Train_df = X_train_label.join(y_train)\n",
    "Train_df.head()"
>>>>>>> e5bdd1bbbd0afed153ef38f6cc0cd509f4e3d021
   ]
  },
  {
   "cell_type": "code",
<<<<<<< HEAD
   "execution_count": 197,
   "metadata": {
    "ExecuteTime": {
     "end_time": "2021-01-25T10:50:38.592030Z",
     "start_time": "2021-01-25T10:50:38.560091Z"
    }
   },
   "outputs": [
    {
     "name": "stdout",
     "output_type": "stream",
     "text": [
      "<class 'pandas.core.frame.DataFrame'>\n",
      "Int64Index: 1306 entries, 0 to 417\n",
      "Data columns (total 16 columns):\n",
      " #   Column          Non-Null Count  Dtype  \n",
      "---  ------          --------------  -----  \n",
      " 0   PassengerId     1306 non-null   int64  \n",
      " 1   Survived        889 non-null    float64\n",
      " 2   Pclass          1306 non-null   int64  \n",
      " 3   Name            1306 non-null   object \n",
      " 4   Sex             1306 non-null   object \n",
      " 5   Age             1306 non-null   float64\n",
      " 6   SibSp           1306 non-null   int64  \n",
      " 7   Parch           1306 non-null   int64  \n",
      " 8   Ticket          1306 non-null   object \n",
      " 9   Fare            1305 non-null   float64\n",
      " 10  Cabin           293 non-null    object \n",
      " 11  Embarked        1306 non-null   object \n",
      " 12  train_test      1306 non-null   int64  \n",
      " 13  nan_cabin       1306 non-null   int64  \n",
      " 14  ticket_letters  1306 non-null   object \n",
      " 15  name_title_all  1306 non-null   object \n",
      "dtypes: float64(3), int64(6), object(7)\n",
      "memory usage: 173.5+ KB\n"
     ]
    }
   ],
   "source": [
    "all_data.info()"
   ]
  },
  {
   "cell_type": "markdown",
   "metadata": {},
   "source": [
    "### Add features explored and generated previously on train_data"
   ]
  },
  {
   "cell_type": "code",
   "execution_count": 134,
   "metadata": {
    "ExecuteTime": {
     "end_time": "2021-01-26T20:25:23.009944Z",
     "start_time": "2021-01-26T20:25:22.986407Z"
    }
   },
   "outputs": [],
   "source": [
    "#create all categorical variables that we did above for both training and test sets \n",
    "#cabin\n",
    "#all_data['cabin_multiple'] = all_data.Cabin.apply(lambda x: 0 if pd.isna(x) else len(x.split(' ')))\n",
    "#all_data['cabin_adv'] = all_data.Cabin.apply(lambda x: str(x)[0])\n",
    "all_data['nan_cabin'] = all_data.Cabin.apply(lambda x: 1 if pd.isna(x) else 0)\n",
    "\n",
    "#ticket\n",
    "#all_data['numeric_ticket'] = all_data.Ticket.apply(lambda x: 1 if x.isnumeric() else 0)\n",
    "all_data['ticket_letters'] = all_data.Ticket.apply(lambda x: ''.join(x.split(' ')[:-1]).replace('.','').replace('/','').lower() if len(x.split(' ')[:-1]) >0 else 0)\n",
    "\n",
    "#title_all\n",
    "all_data['name_title_all'] = all_data.Name.apply(lambda x: x.split(',')[1].split('.')[0].strip())"
=======
   "execution_count": null,
   "metadata": {},
   "outputs": [],
   "source": [
    "#need to build some charts\n",
    "pd.plotting.register_matplotlib_converters()\n",
    "import matplotlib.pyplot as plt\n",
    "%matplotlib inline\n",
    "import seaborn as sns"
>>>>>>> e5bdd1bbbd0afed153ef38f6cc0cd509f4e3d021
   ]
  },
  {
   "cell_type": "markdown",
   "metadata": {},
   "source": [
<<<<<<< HEAD
    "### Group titles"
=======
    "### Explore Age distribution and age importance"
>>>>>>> e5bdd1bbbd0afed153ef38f6cc0cd509f4e3d021
   ]
  },
  {
   "cell_type": "code",
<<<<<<< HEAD
   "execution_count": 15,
   "metadata": {
    "ExecuteTime": {
     "end_time": "2021-01-26T06:04:03.706150Z",
     "start_time": "2021-01-26T06:04:03.694120Z"
=======
   "execution_count": 34,
   "metadata": {
    "ExecuteTime": {
     "end_time": "2020-09-27T14:18:49.056620Z",
     "start_time": "2020-09-27T14:18:48.637863Z"
>>>>>>> e5bdd1bbbd0afed153ef38f6cc0cd509f4e3d021
    }
   },
   "outputs": [
    {
     "data": {
      "text/plain": [
<<<<<<< HEAD
       "Mr              757\n",
       "Miss            260\n",
       "Mrs             197\n",
       "Master           61\n",
       "Rev               8\n",
       "Dr                8\n",
       "Col               4\n",
       "Mlle              2\n",
       "Major             2\n",
       "Ms                2\n",
       "Lady              1\n",
       "Dona              1\n",
       "Don               1\n",
       "Mme               1\n",
       "the Countess      1\n",
       "Sir               1\n",
       "Jonkheer          1\n",
       "Capt              1\n",
       "Name: name_title_all, dtype: int64"
      ]
     },
     "execution_count": 15,
     "metadata": {},
     "output_type": "execute_result"
    }
   ],
   "source": [
    "all_data['name_title_all'].value_counts()"
   ]
  },
  {
   "cell_type": "code",
   "execution_count": 135,
   "metadata": {
    "ExecuteTime": {
     "end_time": "2021-01-26T20:25:30.793625Z",
     "start_time": "2021-01-26T20:25:30.768789Z"
    }
   },
   "outputs": [
    {
     "data": {
      "text/plain": [
       "Mr        240\n",
       "Miss       78\n",
       "Mrs        72\n",
       "Master     21\n",
       "Rev         2\n",
       "Col         2\n",
       "Ms          1\n",
       "Dr          1\n",
       "Dona        1\n",
       "Name: name_title_all, dtype: int64"
      ]
     },
     "execution_count": 135,
     "metadata": {},
     "output_type": "execute_result"
    }
   ],
   "source": [
    "test_data['name_title_all'] = test_data.Name.apply(lambda x: x.split(',')[1].split('.')[0].strip())\n",
    "test_data['name_title_all'].value_counts()"
   ]
  },
  {
   "cell_type": "code",
   "execution_count": null,
   "metadata": {},
   "outputs": [],
   "source": [
    "For prediction we need to keep Col, Rev, Dr, Ms,  group Dona \n",
    "Kill Captain line."
   ]
  },
  {
   "cell_type": "code",
   "execution_count": 132,
   "metadata": {
    "ExecuteTime": {
     "end_time": "2021-01-24T19:30:35.670499Z",
     "start_time": "2021-01-24T19:30:35.648895Z"
    }
   },
   "outputs": [],
   "source": [
    "#Function is used to group title categories to simplify the model\n",
    "#lamda function below used instead\n",
    "\n",
    "def group_title(title_ser):\n",
    "    \n",
    "    title_gr = title_ser.copy()\n",
    "    \n",
    "    for ind,t  in title_ser.items():\n",
    "        if t in ['Dona', 'Mme', 'Lady', 'the Countess']:\n",
    "            title_gr[ind] = 'Mrs'\n",
    "        if sub_name in ['Sir', 'Don', 'Jonkheer']:\n",
    "            title_gr[ind] = 'Mr'\n",
    "        if sub_name in ['Mlle']:\n",
    "            title_gr[ind] = 'Miss'\n",
    "    \n",
    "    \n",
    "    return title_gr\n",
    "\n"
   ]
  },
  {
   "cell_type": "code",
   "execution_count": 136,
   "metadata": {
    "ExecuteTime": {
     "end_time": "2021-01-26T20:25:35.730865Z",
     "start_time": "2021-01-26T20:25:35.705807Z"
    }
   },
   "outputs": [],
   "source": [
    "#title_all\n",
    "all_data['Title'] = all_data.name_title_all.apply(lambda x: 'Mrs' if x in ['Dona', 'Mme', 'Lady', 'the Countess'] \n",
    "                                                  else 'Mr' if x in ['Sir', 'Don', 'Jonkheer']\n",
    "                                                  else 'Miss' if x in ['Mlle']\n",
    "                                                  else x)"
   ]
  },
  {
   "cell_type": "markdown",
   "metadata": {},
   "source": [
    "### Fill missing Age values based on title"
   ]
  },
  {
   "cell_type": "code",
   "execution_count": 137,
   "metadata": {
    "ExecuteTime": {
     "end_time": "2021-01-26T20:25:38.068180Z",
     "start_time": "2021-01-26T20:25:38.054588Z"
    }
   },
   "outputs": [],
   "source": [
    "# a function to replace Nan Age values with mean from pre-calculated table\n",
    "def fill_age (df, mean_table):\n",
    "    \n",
    "    df['Age'] = df.apply(\n",
    "    lambda row: mean_table[row['name_title_all']] if np.isnan(row['Age']) else row['Age'],\n",
    "    axis=1\n",
    "    )    \n",
    "    return df\n"
=======
       "<AxesSubplot:>"
      ]
     },
     "execution_count": 34,
     "metadata": {},
     "output_type": "execute_result"
    },
    {
     "data": {
      "image/png": "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\n",
      "text/plain": [
       "<Figure size 432x288 with 1 Axes>"
      ]
     },
     "metadata": {
      "needs_background": "light"
     },
     "output_type": "display_data"
    }
   ],
   "source": [
    "#build hitrogram of Age\n",
    "train_data.Age.hist(bins = 80)"
>>>>>>> e5bdd1bbbd0afed153ef38f6cc0cd509f4e3d021
   ]
  },
  {
   "cell_type": "code",
<<<<<<< HEAD
   "execution_count": 138,
   "metadata": {
    "ExecuteTime": {
     "end_time": "2021-01-26T20:25:40.052256Z",
     "start_time": "2021-01-26T20:25:40.012148Z"
=======
   "execution_count": 41,
   "metadata": {
    "ExecuteTime": {
     "end_time": "2020-09-27T14:25:56.438530Z",
     "start_time": "2020-09-27T14:25:56.407570Z"
>>>>>>> e5bdd1bbbd0afed153ef38f6cc0cd509f4e3d021
    }
   },
   "outputs": [
    {
     "data": {
      "text/html": [
       "<div>\n",
       "<style scoped>\n",
       "    .dataframe tbody tr th:only-of-type {\n",
       "        vertical-align: middle;\n",
       "    }\n",
       "\n",
       "    .dataframe tbody tr th {\n",
       "        vertical-align: top;\n",
       "    }\n",
       "\n",
       "    .dataframe thead th {\n",
       "        text-align: right;\n",
       "    }\n",
       "</style>\n",
       "<table border=\"1\" class=\"dataframe\">\n",
       "  <thead>\n",
       "    <tr style=\"text-align: right;\">\n",
       "      <th></th>\n",
<<<<<<< HEAD
       "      <th>name_title_all</th>\n",
       "      <th>Age</th>\n",
=======
       "      <th>Age</th>\n",
       "      <th>Survived</th>\n",
>>>>>>> e5bdd1bbbd0afed153ef38f6cc0cd509f4e3d021
       "    </tr>\n",
       "  </thead>\n",
       "  <tbody>\n",
       "    <tr>\n",
<<<<<<< HEAD
       "      <th>0</th>\n",
       "      <td>Mr</td>\n",
       "      <td>22.0</td>\n",
       "    </tr>\n",
       "    <tr>\n",
       "      <th>1</th>\n",
       "      <td>Mrs</td>\n",
       "      <td>38.0</td>\n",
       "    </tr>\n",
       "    <tr>\n",
       "      <th>2</th>\n",
       "      <td>Miss</td>\n",
       "      <td>26.0</td>\n",
       "    </tr>\n",
       "    <tr>\n",
       "      <th>3</th>\n",
       "      <td>Mrs</td>\n",
       "      <td>35.0</td>\n",
       "    </tr>\n",
       "    <tr>\n",
       "      <th>4</th>\n",
       "      <td>Mr</td>\n",
       "      <td>35.0</td>\n",
=======
       "      <th>116</th>\n",
       "      <td>70.5</td>\n",
       "      <td>0</td>\n",
       "    </tr>\n",
       "    <tr>\n",
       "      <th>493</th>\n",
       "      <td>71.0</td>\n",
       "      <td>0</td>\n",
       "    </tr>\n",
       "    <tr>\n",
       "      <th>96</th>\n",
       "      <td>71.0</td>\n",
       "      <td>0</td>\n",
       "    </tr>\n",
       "    <tr>\n",
       "      <th>851</th>\n",
       "      <td>74.0</td>\n",
       "      <td>0</td>\n",
       "    </tr>\n",
       "    <tr>\n",
       "      <th>630</th>\n",
       "      <td>80.0</td>\n",
       "      <td>1</td>\n",
>>>>>>> e5bdd1bbbd0afed153ef38f6cc0cd509f4e3d021
       "    </tr>\n",
       "  </tbody>\n",
       "</table>\n",
       "</div>"
      ],
      "text/plain": [
<<<<<<< HEAD
       "  name_title_all   Age\n",
       "0             Mr  22.0\n",
       "1            Mrs  38.0\n",
       "2           Miss  26.0\n",
       "3            Mrs  35.0\n",
       "4             Mr  35.0"
      ]
     },
     "execution_count": 138,
=======
       "      Age  Survived\n",
       "116  70.5         0\n",
       "493  71.0         0\n",
       "96   71.0         0\n",
       "851  74.0         0\n",
       "630  80.0         1"
      ]
     },
     "execution_count": 41,
>>>>>>> e5bdd1bbbd0afed153ef38f6cc0cd509f4e3d021
     "metadata": {},
     "output_type": "execute_result"
    }
   ],
   "source": [
<<<<<<< HEAD
    "#create separated title column and loc columns for Age calc\n",
    "#all_data_title_column = fill_title(all_data)\n",
    "all_data_title_age = all_data.loc[:,['name_title_all', 'Age']]\n",
    "all_data_title_age.head()"
   ]
  },
  {
   "cell_type": "code",
   "execution_count": 139,
   "metadata": {
    "ExecuteTime": {
     "end_time": "2021-01-26T20:25:42.478832Z",
     "start_time": "2021-01-26T20:25:42.449482Z"
    }
   },
   "outputs": [
    {
     "name": "stdout",
     "output_type": "stream",
     "text": [
      "name_title_all\n",
      "Capt            70.000000\n",
      "Col             54.000000\n",
      "Don             40.000000\n",
      "Dona            39.000000\n",
      "Dr              43.571429\n",
      "Jonkheer        38.000000\n",
      "Lady            48.000000\n",
      "Major           48.500000\n",
      "Master           5.482642\n",
      "Miss            21.774238\n",
      "Mlle            24.000000\n",
      "Mme             24.000000\n",
      "Mr              32.252151\n",
      "Mrs             36.994118\n",
      "Ms              28.000000\n",
      "Rev             41.250000\n",
      "Sir             49.000000\n",
      "the Countess    33.000000\n",
      "Name: Age, dtype: float64\n"
     ]
    }
   ],
   "source": [
    "mean_age_by_title = all_data_title_age.groupby(['name_title_all']).mean().loc[:,'Age']\n",
    "print(mean_age_by_title)"
   ]
  },
  {
   "cell_type": "code",
   "execution_count": 140,
   "metadata": {
    "ExecuteTime": {
     "end_time": "2021-01-26T20:25:45.108600Z",
     "start_time": "2021-01-26T20:25:45.076945Z"
    }
   },
   "outputs": [
    {
     "name": "stdout",
     "output_type": "stream",
     "text": [
      "                      Age\n",
      "name_title_all           \n",
      "Capt                  NaN\n",
      "Col              5.477226\n",
      "Don                   NaN\n",
      "Dona                  NaN\n",
      "Dr              11.731115\n",
      "Jonkheer              NaN\n",
      "Lady                  NaN\n",
      "Major            4.949747\n",
      "Master           4.161554\n",
      "Miss            12.249077\n",
      "Mlle             0.000000\n",
      "Mme                   NaN\n",
      "Mr              12.422089\n",
      "Mrs             12.901767\n",
      "Ms                    NaN\n",
      "Rev             12.020815\n",
      "Sir                   NaN\n",
      "the Countess          NaN\n"
     ]
    }
   ],
   "source": [
    "#Also usefull to evaluate the variance of the age estimate\n",
    "var_age_by_title = all_data_title_age.groupby(['name_title_all']).std()\n",
    "print(var_age_by_title)"
=======
    "# look at Age in Asc order\n",
    "Age_Surv = train_data.loc[:,['Age','Survived']]\n",
    "Age_Surv_sort = Age_Surv.sort_values(by = ['Age'])\n",
    "Age_Surv_sort.tail()"
>>>>>>> e5bdd1bbbd0afed153ef38f6cc0cd509f4e3d021
   ]
  },
  {
   "cell_type": "code",
<<<<<<< HEAD
   "execution_count": 141,
   "metadata": {
    "ExecuteTime": {
     "end_time": "2021-01-26T20:25:48.024921Z",
     "start_time": "2021-01-26T20:25:47.923551Z"
=======
   "execution_count": 48,
   "metadata": {
    "ExecuteTime": {
     "end_time": "2020-09-27T16:46:53.867435Z",
     "start_time": "2020-09-27T16:46:53.857460Z"
>>>>>>> e5bdd1bbbd0afed153ef38f6cc0cd509f4e3d021
    }
   },
   "outputs": [],
   "source": [
<<<<<<< HEAD
    "#Estimate mean age for missing data.\n",
    "all_data = fill_age(all_data, mean_age_by_title)"
=======
    "Age_Surv_sort.Age = Age_Surv_sort.Age.round()"
>>>>>>> e5bdd1bbbd0afed153ef38f6cc0cd509f4e3d021
   ]
  },
  {
   "cell_type": "code",
<<<<<<< HEAD
   "execution_count": 142,
   "metadata": {
    "ExecuteTime": {
     "end_time": "2021-01-26T20:25:49.671527Z",
     "start_time": "2021-01-26T20:25:49.655468Z"
=======
   "execution_count": 71,
   "metadata": {
    "ExecuteTime": {
     "end_time": "2020-09-28T06:14:43.259223Z",
     "start_time": "2020-09-28T06:14:43.238721Z"
>>>>>>> e5bdd1bbbd0afed153ef38f6cc0cd509f4e3d021
    }
   },
   "outputs": [
    {
     "data": {
      "text/plain": [
<<<<<<< HEAD
       "(1309, 17)"
      ]
     },
     "execution_count": 142,
=======
       "pandas.core.series.Series"
      ]
     },
     "execution_count": 71,
>>>>>>> e5bdd1bbbd0afed153ef38f6cc0cd509f4e3d021
     "metadata": {},
     "output_type": "execute_result"
    }
   ],
   "source": [
<<<<<<< HEAD
    "all_data.shape"
   ]
  },
  {
   "cell_type": "markdown",
   "metadata": {},
   "source": [
    "### Define average Fare based on Pclass"
   ]
  },
  {
   "cell_type": "markdown",
   "metadata": {},
   "source": [
    "#### Define the Fare dict"
   ]
  },
  {
   "cell_type": "code",
   "execution_count": 143,
   "metadata": {
    "ExecuteTime": {
     "end_time": "2021-01-26T20:25:56.310727Z",
     "start_time": "2021-01-26T20:25:56.287621Z"
    }
   },
   "outputs": [
    {
     "name": "stdout",
     "output_type": "stream",
     "text": [
      "Pclass\n",
      "1    87.508992\n",
      "2    21.179196\n",
      "3    13.302889\n",
      "Name: Fare, dtype: float64 Pclass\n",
      "1    80.447178\n",
      "2    13.607122\n",
      "3    11.494358\n",
      "Name: Fare, dtype: float64\n"
     ]
    }
   ],
   "source": [
    "#Calculate average and std of the Fare depending on Pclass\n",
    "all_class_fare = all_data.loc[:,['Pclass','Fare','Embarked']]\n",
    "all_average_fare = all_class_fare.groupby(['Pclass']).mean().loc[:,'Fare']\n",
    "all_std_fare = all_class_fare.groupby(['Pclass']).std().loc[:,'Fare']\n",
    "print(all_average_fare, all_std_fare)"
=======
    "#a share of suvival in the Age group\n",
    "Age_groups = Age_Surv_sort.groupby(['Age'])['Survived'].sum()/Age_Surv_sort.groupby(['Age'])['Survived'].count()\n",
    "type(Age_groups)"
>>>>>>> e5bdd1bbbd0afed153ef38f6cc0cd509f4e3d021
   ]
  },
  {
   "cell_type": "code",
<<<<<<< HEAD
   "execution_count": 144,
   "metadata": {
    "ExecuteTime": {
     "end_time": "2021-01-26T20:25:59.010306Z",
     "start_time": "2021-01-26T20:25:58.784708Z"
    }
=======
   "execution_count": 57,
   "metadata": {
    "ExecuteTime": {
     "end_time": "2020-09-27T17:10:26.573170Z",
     "start_time": "2020-09-27T17:10:26.343700Z"
    },
    "scrolled": true
>>>>>>> e5bdd1bbbd0afed153ef38f6cc0cd509f4e3d021
   },
   "outputs": [
    {
     "data": {
      "text/plain": [
<<<<<<< HEAD
       "<AxesSubplot:xlabel='Pclass', ylabel='Fare'>"
      ]
     },
     "execution_count": 144,
=======
       "<AxesSubplot:xlabel='Age', ylabel='Survived'>"
      ]
     },
     "execution_count": 57,
>>>>>>> e5bdd1bbbd0afed153ef38f6cc0cd509f4e3d021
     "metadata": {},
     "output_type": "execute_result"
    },
    {
     "data": {
<<<<<<< HEAD
      "image/png": "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\n",
      "text/plain": [
       "<Figure size 432x288 with 1 Axes>"
      ]
     },
     "metadata": {
      "needs_background": "light"
     },
     "output_type": "display_data"
    }
   ],
   "source": [
    "#plot the mean and std\n",
    "sns.barplot(x=all_class_fare.Pclass, y=all_class_fare.Fare, data = all_class_fare, ci='sd')"
   ]
  },
  {
   "cell_type": "code",
   "execution_count": 145,
   "metadata": {
    "ExecuteTime": {
     "end_time": "2021-01-26T20:26:01.241977Z",
     "start_time": "2021-01-26T20:26:01.227981Z"
    }
   },
   "outputs": [
    {
     "name": "stdout",
     "output_type": "stream",
     "text": [
      "Pclass\n",
      "1    60.0000\n",
      "2    15.0458\n",
      "3     8.0500\n",
      "Name: Fare, dtype: float64\n"
     ]
    }
   ],
   "source": [
    "#look at rhe median\n",
    "all_median_fare = all_class_fare.groupby(['Pclass']).median().loc[:,'Fare']\n",
    "print(all_median_fare)"
   ]
  },
  {
   "cell_type": "code",
   "execution_count": 146,
   "metadata": {
    "ExecuteTime": {
     "end_time": "2021-01-26T20:26:03.523568Z",
     "start_time": "2021-01-26T20:26:03.514059Z"
    }
   },
   "outputs": [],
   "source": [
    "#Make a dict to predict the fare\n",
    "fare_dic = all_average_fare.to_dict()"
   ]
  },
  {
   "cell_type": "code",
   "execution_count": 90,
   "metadata": {
    "ExecuteTime": {
     "end_time": "2021-01-26T14:50:42.489345Z",
     "start_time": "2021-01-26T14:50:42.477149Z"
    }
   },
   "outputs": [
    {
     "data": {
      "text/plain": [
       "21.1791963898917"
      ]
     },
     "execution_count": 90,
     "metadata": {},
     "output_type": "execute_result"
    }
   ],
   "source": [
    "#check the dict\n",
    "fare_dic[2]"
   ]
  },
  {
   "cell_type": "markdown",
   "metadata": {},
   "source": [
    "#### Find the fare"
   ]
  },
  {
   "cell_type": "code",
   "execution_count": 147,
   "metadata": {
    "ExecuteTime": {
     "end_time": "2021-01-26T20:26:06.043251Z",
     "start_time": "2021-01-26T20:26:06.025251Z"
    }
   },
   "outputs": [],
   "source": [
    "nofare_lines = all_data.loc[all_data.Fare.isna()]"
   ]
  },
  {
   "cell_type": "code",
   "execution_count": 148,
   "metadata": {
    "ExecuteTime": {
     "end_time": "2021-01-26T20:26:07.884709Z",
     "start_time": "2021-01-26T20:26:07.875657Z"
    }
   },
   "outputs": [],
   "source": [
    "missing_fare = fare_dic[nofare_lines.Pclass.item()]"
   ]
  },
  {
   "cell_type": "code",
   "execution_count": 149,
   "metadata": {
    "ExecuteTime": {
     "end_time": "2021-01-26T20:26:09.585401Z",
     "start_time": "2021-01-26T20:26:09.573626Z"
    }
   },
   "outputs": [
    {
     "name": "stdout",
     "output_type": "stream",
     "text": [
      "missing_fare: 13.302888700564969  index: 152\n"
     ]
    }
   ],
   "source": [
    "ind = nofare_lines.index.item()\n",
    "print('missing_fare: ' +  str(missing_fare) + '  index: ' + str(ind))\n",
    "\n",
    "all_data.at[ind, 'Fare'] = missing_fare"
   ]
  },
  {
   "cell_type": "code",
   "execution_count": 150,
   "metadata": {
    "ExecuteTime": {
     "end_time": "2021-01-26T20:26:12.979541Z",
     "start_time": "2021-01-26T20:26:12.955816Z"
    }
   },
   "outputs": [
    {
     "data": {
      "text/plain": [
       "(1309, 17)"
      ]
     },
     "execution_count": 150,
     "metadata": {},
     "output_type": "execute_result"
    }
   ],
   "source": [
    "all_data.shape"
   ]
  },
  {
   "cell_type": "markdown",
   "metadata": {},
   "source": [
    "### Create parent attrubute feature"
   ]
  },
  {
   "cell_type": "code",
   "execution_count": 28,
   "metadata": {
    "ExecuteTime": {
     "end_time": "2021-01-20T16:09:32.758765Z",
     "start_time": "2021-01-20T16:09:32.753725Z"
    }
   },
   "outputs": [],
   "source": [
    "# not finished yet. Just Idea\n",
    "# a function to create a Parent feature\n",
    "def fill_parent (df):\n",
    "    \n",
    "##fill function \n",
    "    return pd.Series(par, index = ind, name = 'Parent')"
   ]
  },
  {
   "cell_type": "markdown",
   "metadata": {},
   "source": [
    "###  Drop missing and exclusive rows, data encoding and normalization"
   ]
  },
  {
   "cell_type": "markdown",
   "metadata": {},
   "source": [
    "#### Drop 'Embaked' missing rows in the train set"
   ]
  },
  {
   "cell_type": "code",
   "execution_count": 159,
   "metadata": {
    "ExecuteTime": {
     "end_time": "2021-01-26T20:41:34.220450Z",
     "start_time": "2021-01-26T20:41:34.187570Z"
    }
   },
   "outputs": [],
   "source": [
    "#drop some rows\n",
    "#no column dropping\n",
    "\n",
    "#drop 2 nan 'Embarked' rows\n",
    "inds = all_data['Embarked'].isna()\n",
    "rows_to_drop = inds.index[inds].tolist()\n",
    "all_data.dropna(axis=0, subset=['Embarked'], inplace=True)\n",
    "#train_data_clean = train_data_clean.drop(cols_to_drop, axis=1)"
   ]
  },
  {
   "cell_type": "code",
   "execution_count": 160,
   "metadata": {
    "ExecuteTime": {
     "end_time": "2021-01-26T20:41:35.896528Z",
     "start_time": "2021-01-26T20:41:35.883531Z"
    }
   },
   "outputs": [
    {
     "name": "stdout",
     "output_type": "stream",
     "text": [
      "Int64Index([745], dtype='int64')\n"
     ]
    }
   ],
   "source": [
    "# Drop Captain row\n",
    "ind_capt = all_data[all_data.Title == 'Capt'].index\n",
    "print(ind_capt)\n",
    "all_data = all_data.drop(axis=0, index = ind_capt)"
   ]
  },
  {
   "cell_type": "code",
   "execution_count": 162,
   "metadata": {
    "ExecuteTime": {
     "end_time": "2021-01-26T20:42:09.842563Z",
     "start_time": "2021-01-26T20:42:09.826432Z"
    }
   },
   "outputs": [
    {
     "data": {
      "text/plain": [
       "(1306, 17)"
      ]
     },
     "execution_count": 162,
     "metadata": {},
     "output_type": "execute_result"
    }
   ],
   "source": [
    "all_data.shape"
   ]
  },
  {
   "cell_type": "markdown",
   "metadata": {},
   "source": [
    "#### Normalization"
   ]
  },
  {
   "cell_type": "code",
   "execution_count": 163,
   "metadata": {
    "ExecuteTime": {
     "end_time": "2021-01-26T20:42:12.884896Z",
     "start_time": "2021-01-26T20:42:12.635943Z"
    }
   },
   "outputs": [
    {
     "data": {
      "text/plain": [
       "<AxesSubplot:>"
      ]
     },
     "execution_count": 163,
     "metadata": {},
     "output_type": "execute_result"
    },
    {
     "data": {
      "image/png": "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\n",
      "text/plain": [
       "<Figure size 432x288 with 1 Axes>"
      ]
     },
     "metadata": {
      "needs_background": "light"
     },
     "output_type": "display_data"
    }
   ],
   "source": [
    "# log norm of fare (used)\n",
    "all_data['norm_fare'] = np.log(all_data.Fare+1)\n",
    "all_data['norm_fare'].hist()"
   ]
  },
  {
   "cell_type": "markdown",
   "metadata": {},
   "source": [
    "#### Convert to cat variables "
   ]
  },
  {
   "cell_type": "code",
   "execution_count": 164,
   "metadata": {
    "ExecuteTime": {
     "end_time": "2021-01-26T20:42:16.392995Z",
     "start_time": "2021-01-26T20:42:16.366709Z"
    }
   },
   "outputs": [],
   "source": [
    "# converted fare to category for pd.get_dummies()\n",
    "all_data.Pclass = all_data.Pclass.astype(str)"
   ]
  },
  {
   "cell_type": "code",
   "execution_count": 165,
   "metadata": {
    "ExecuteTime": {
     "end_time": "2021-01-26T20:42:19.574136Z",
     "start_time": "2021-01-26T20:42:19.553534Z"
    }
   },
   "outputs": [
    {
     "name": "stdout",
     "output_type": "stream",
     "text": [
      "Categorical variables: ['Pclass', 'Name', 'Sex', 'Ticket', 'Cabin', 'Embarked', 'ticket_letters', 'name_title_all', 'Title']\n"
     ]
    }
   ],
   "source": [
    "# Get list of categorical variables\n",
    "s = (all_data.dtypes == 'object')\n",
    "object_cols = list(s[s].index)\n",
    "\n",
    "print(\"Categorical variables:\", object_cols )\n",
    "#print(object_cols)"
   ]
  },
  {
   "cell_type": "code",
   "execution_count": 166,
   "metadata": {
    "ExecuteTime": {
     "end_time": "2021-01-26T20:42:21.752431Z",
     "start_time": "2021-01-26T20:42:21.730084Z"
    }
   },
   "outputs": [],
   "source": [
    "#Select cat variables to encode\n",
    "cat_variables = ['Pclass', 'Sex', 'Age', 'SibSp',\n",
    "                 'Parch', 'Embarked', 'Title', 'norm_fare', 'nan_cabin','train_test']"
   ]
  },
  {
   "cell_type": "markdown",
   "metadata": {},
   "source": [
    "#### USE Get_dummies to Encode the cat vector"
   ]
  },
  {
   "cell_type": "code",
   "execution_count": 167,
   "metadata": {
    "ExecuteTime": {
     "end_time": "2021-01-26T20:42:32.102466Z",
     "start_time": "2021-01-26T20:42:32.054253Z"
    }
   },
   "outputs": [],
   "source": [
    "all_dummies = pd.get_dummies(all_data[cat_variables])"
   ]
  },
  {
   "cell_type": "code",
   "execution_count": 168,
   "metadata": {
    "ExecuteTime": {
     "end_time": "2021-01-26T20:42:33.775721Z",
     "start_time": "2021-01-26T20:42:33.706737Z"
    }
   },
   "outputs": [
    {
     "data": {
      "text/html": [
       "<div>\n",
       "<style scoped>\n",
       "    .dataframe tbody tr th:only-of-type {\n",
       "        vertical-align: middle;\n",
       "    }\n",
       "\n",
       "    .dataframe tbody tr th {\n",
       "        vertical-align: top;\n",
       "    }\n",
       "\n",
       "    .dataframe thead th {\n",
       "        text-align: right;\n",
       "    }\n",
       "</style>\n",
       "<table border=\"1\" class=\"dataframe\">\n",
       "  <thead>\n",
       "    <tr style=\"text-align: right;\">\n",
       "      <th></th>\n",
       "      <th>Age</th>\n",
       "      <th>SibSp</th>\n",
       "      <th>Parch</th>\n",
       "      <th>norm_fare</th>\n",
       "      <th>nan_cabin</th>\n",
       "      <th>train_test</th>\n",
       "      <th>Pclass_1</th>\n",
       "      <th>Pclass_2</th>\n",
       "      <th>Pclass_3</th>\n",
       "      <th>Sex_female</th>\n",
       "      <th>...</th>\n",
       "      <th>Embarked_S</th>\n",
       "      <th>Title_Col</th>\n",
       "      <th>Title_Dr</th>\n",
       "      <th>Title_Major</th>\n",
       "      <th>Title_Master</th>\n",
       "      <th>Title_Miss</th>\n",
       "      <th>Title_Mr</th>\n",
       "      <th>Title_Mrs</th>\n",
       "      <th>Title_Ms</th>\n",
       "      <th>Title_Rev</th>\n",
       "    </tr>\n",
       "  </thead>\n",
       "  <tbody>\n",
       "    <tr>\n",
       "      <th>0</th>\n",
       "      <td>22.0</td>\n",
       "      <td>1</td>\n",
       "      <td>0</td>\n",
       "      <td>2.110213</td>\n",
       "      <td>1</td>\n",
       "      <td>1</td>\n",
       "      <td>0</td>\n",
       "      <td>0</td>\n",
       "      <td>1</td>\n",
       "      <td>0</td>\n",
       "      <td>...</td>\n",
       "      <td>1</td>\n",
       "      <td>0</td>\n",
       "      <td>0</td>\n",
       "      <td>0</td>\n",
       "      <td>0</td>\n",
       "      <td>0</td>\n",
       "      <td>1</td>\n",
       "      <td>0</td>\n",
       "      <td>0</td>\n",
       "      <td>0</td>\n",
       "    </tr>\n",
       "    <tr>\n",
       "      <th>1</th>\n",
       "      <td>38.0</td>\n",
       "      <td>1</td>\n",
       "      <td>0</td>\n",
       "      <td>4.280593</td>\n",
       "      <td>0</td>\n",
       "      <td>1</td>\n",
       "      <td>1</td>\n",
       "      <td>0</td>\n",
       "      <td>0</td>\n",
       "      <td>1</td>\n",
       "      <td>...</td>\n",
       "      <td>0</td>\n",
       "      <td>0</td>\n",
       "      <td>0</td>\n",
       "      <td>0</td>\n",
       "      <td>0</td>\n",
       "      <td>0</td>\n",
       "      <td>0</td>\n",
       "      <td>1</td>\n",
       "      <td>0</td>\n",
       "      <td>0</td>\n",
       "    </tr>\n",
       "    <tr>\n",
       "      <th>2</th>\n",
       "      <td>26.0</td>\n",
       "      <td>0</td>\n",
       "      <td>0</td>\n",
       "      <td>2.188856</td>\n",
       "      <td>1</td>\n",
       "      <td>1</td>\n",
       "      <td>0</td>\n",
       "      <td>0</td>\n",
       "      <td>1</td>\n",
       "      <td>1</td>\n",
       "      <td>...</td>\n",
       "      <td>1</td>\n",
       "      <td>0</td>\n",
       "      <td>0</td>\n",
       "      <td>0</td>\n",
       "      <td>0</td>\n",
       "      <td>1</td>\n",
       "      <td>0</td>\n",
       "      <td>0</td>\n",
       "      <td>0</td>\n",
       "      <td>0</td>\n",
       "    </tr>\n",
       "    <tr>\n",
       "      <th>3</th>\n",
       "      <td>35.0</td>\n",
       "      <td>1</td>\n",
       "      <td>0</td>\n",
       "      <td>3.990834</td>\n",
       "      <td>0</td>\n",
       "      <td>1</td>\n",
       "      <td>1</td>\n",
       "      <td>0</td>\n",
       "      <td>0</td>\n",
       "      <td>1</td>\n",
       "      <td>...</td>\n",
       "      <td>1</td>\n",
       "      <td>0</td>\n",
       "      <td>0</td>\n",
       "      <td>0</td>\n",
       "      <td>0</td>\n",
       "      <td>0</td>\n",
       "      <td>0</td>\n",
       "      <td>1</td>\n",
       "      <td>0</td>\n",
       "      <td>0</td>\n",
       "    </tr>\n",
       "    <tr>\n",
       "      <th>4</th>\n",
       "      <td>35.0</td>\n",
       "      <td>0</td>\n",
       "      <td>0</td>\n",
       "      <td>2.202765</td>\n",
       "      <td>1</td>\n",
       "      <td>1</td>\n",
       "      <td>0</td>\n",
       "      <td>0</td>\n",
       "      <td>1</td>\n",
       "      <td>0</td>\n",
       "      <td>...</td>\n",
       "      <td>1</td>\n",
       "      <td>0</td>\n",
       "      <td>0</td>\n",
       "      <td>0</td>\n",
       "      <td>0</td>\n",
       "      <td>0</td>\n",
       "      <td>1</td>\n",
       "      <td>0</td>\n",
       "      <td>0</td>\n",
       "      <td>0</td>\n",
       "    </tr>\n",
       "  </tbody>\n",
       "</table>\n",
       "<p>5 rows × 23 columns</p>\n",
       "</div>"
      ],
      "text/plain": [
       "    Age  SibSp  Parch  norm_fare  nan_cabin  train_test  Pclass_1  Pclass_2  \\\n",
       "0  22.0      1      0   2.110213          1           1         0         0   \n",
       "1  38.0      1      0   4.280593          0           1         1         0   \n",
       "2  26.0      0      0   2.188856          1           1         0         0   \n",
       "3  35.0      1      0   3.990834          0           1         1         0   \n",
       "4  35.0      0      0   2.202765          1           1         0         0   \n",
       "\n",
       "   Pclass_3  Sex_female  ...  Embarked_S  Title_Col  Title_Dr  Title_Major  \\\n",
       "0         1           0  ...           1          0         0            0   \n",
       "1         0           1  ...           0          0         0            0   \n",
       "2         1           1  ...           1          0         0            0   \n",
       "3         0           1  ...           1          0         0            0   \n",
       "4         1           0  ...           1          0         0            0   \n",
       "\n",
       "   Title_Master  Title_Miss  Title_Mr  Title_Mrs  Title_Ms  Title_Rev  \n",
       "0             0           0         1          0         0          0  \n",
       "1             0           0         0          1         0          0  \n",
       "2             0           1         0          0         0          0  \n",
       "3             0           0         0          1         0          0  \n",
       "4             0           0         1          0         0          0  \n",
       "\n",
       "[5 rows x 23 columns]"
      ]
     },
     "execution_count": 168,
     "metadata": {},
     "output_type": "execute_result"
    }
   ],
   "source": [
    "all_dummies.head()"
   ]
  },
  {
   "cell_type": "code",
   "execution_count": 34,
   "metadata": {
    "ExecuteTime": {
     "end_time": "2021-01-20T16:18:50.997634Z",
     "start_time": "2021-01-20T16:18:50.967568Z"
    }
   },
   "outputs": [],
   "source": [
    "#Emb = pd.get_dummies(train_data_clean.Embarked, prefix = 'Emb')"
   ]
  },
  {
   "cell_type": "markdown",
   "metadata": {},
   "source": [
    "#### use OneHotEncoder"
   ]
  },
  {
   "cell_type": "code",
   "execution_count": 43,
   "metadata": {
    "ExecuteTime": {
     "end_time": "2021-01-20T16:29:39.368888Z",
     "start_time": "2021-01-20T16:29:33.794034Z"
    }
   },
   "outputs": [],
   "source": [
    "cat_variables = ['Pclass','Sex','Embarked','Title', ]\n",
    "train_data_cat_vars = train_data_clean.loc[:,cat_variables]\n",
    "#from sklearn.preprocessing import LabelEncoder\n",
    "from sklearn.preprocessing import OneHotEncoder\n",
    "# labelencode the cat variables\n",
    "#labelencoder_sex = LabelEncoder()\n",
    "#labelencoder_emb = LabelEncoder()\n",
    "#labelencoder_tit = LabelEncoder()\n",
    "sex_cat = train_data_cat_vars.Sex.unique().tolist()\n",
    "emb_cat = train_data_cat_vars.Embarked.unique().tolist()\n",
    "tit_cat = train_data_cat_vars.Title.unique().tolist()\n",
    "\n",
    "# creating instance of one-hot-encoder\n",
    "enc = OneHotEncoder(categories = [sex_cat, emb_cat, tit_cat],drop = 'if_binary', handle_unknown='error')"
   ]
  },
  {
   "cell_type": "code",
   "execution_count": 46,
   "metadata": {
    "ExecuteTime": {
     "end_time": "2021-01-20T16:30:35.966617Z",
     "start_time": "2021-01-20T16:30:35.947485Z"
    }
   },
   "outputs": [
    {
     "data": {
      "text/plain": [
       "OneHotEncoder(categories=[['male', 'female'], ['S', 'C', 'Q'],\n",
       "                          ['Mr', 'Mrs', 'Miss', 'Master', 'Rev', 'Dr', 'Ms',\n",
       "                           'Major', 'Col']],\n",
       "              drop='if_binary')"
      ]
     },
     "execution_count": 46,
     "metadata": {},
     "output_type": "execute_result"
    }
   ],
   "source": [
    "enc.fit(train_data_cat_vars)"
   ]
  },
  {
   "cell_type": "code",
   "execution_count": 47,
   "metadata": {
    "ExecuteTime": {
     "end_time": "2021-01-20T16:30:38.337308Z",
     "start_time": "2021-01-20T16:30:38.334309Z"
    }
   },
   "outputs": [],
   "source": [
    "enc_names = enc.get_feature_names()"
   ]
  },
  {
   "cell_type": "code",
   "execution_count": 49,
   "metadata": {
    "ExecuteTime": {
     "end_time": "2021-01-20T16:31:26.585970Z",
     "start_time": "2021-01-20T16:31:26.529656Z"
    }
   },
   "outputs": [],
   "source": [
    "train_data_enc_1hot = enc.transform(train_data_cat_vars).toarray()"
   ]
  },
  {
   "cell_type": "code",
   "execution_count": 50,
   "metadata": {
    "ExecuteTime": {
     "end_time": "2021-01-20T16:31:29.074970Z",
     "start_time": "2021-01-20T16:31:29.053961Z"
    }
   },
   "outputs": [],
   "source": [
    "train_data_enc_1hot_df = pd.DataFrame(train_data_enc_1hot, columns = enc_names)"
   ]
  },
  {
   "cell_type": "code",
   "execution_count": 229,
   "metadata": {
    "ExecuteTime": {
     "end_time": "2021-01-25T14:13:21.427306Z",
     "start_time": "2021-01-25T14:13:21.407160Z"
    }
   },
   "outputs": [],
   "source": [
    "#train_data_enc_1hot_df.head()"
   ]
  },
  {
   "cell_type": "code",
   "execution_count": 52,
   "metadata": {
    "ExecuteTime": {
     "end_time": "2021-01-20T16:31:40.840981Z",
     "start_time": "2021-01-20T16:31:40.807993Z"
    }
   },
   "outputs": [],
   "source": [
    "#join data with main dataset\n",
    "train_data_enc = train_data_clean.join(train_data_enc_1hot_df)"
   ]
  },
  {
   "cell_type": "code",
   "execution_count": 227,
   "metadata": {
    "ExecuteTime": {
     "end_time": "2021-01-25T14:13:08.597528Z",
     "start_time": "2021-01-25T14:13:08.590305Z"
    }
   },
   "outputs": [],
   "source": [
    "#train_data_enc.head()"
   ]
  },
  {
   "cell_type": "code",
   "execution_count": 228,
   "metadata": {
    "ExecuteTime": {
     "end_time": "2021-01-25T14:13:16.107148Z",
     "start_time": "2021-01-25T14:13:16.087147Z"
    }
   },
   "outputs": [],
   "source": [
    "#train_data_enc.columns"
   ]
  },
  {
   "cell_type": "markdown",
   "metadata": {},
   "source": [
    "### Feature scaling (train data)"
   ]
  },
  {
   "cell_type": "code",
   "execution_count": 57,
   "metadata": {
    "ExecuteTime": {
     "end_time": "2021-01-20T16:34:55.200031Z",
     "start_time": "2021-01-20T16:34:55.185687Z"
    }
   },
   "outputs": [],
   "source": [
    "from sklearn.preprocessing import StandardScaler\n",
    "sc = StandardScaler()"
   ]
  },
  {
   "cell_type": "code",
   "execution_count": 58,
   "metadata": {
    "ExecuteTime": {
     "end_time": "2021-01-20T17:03:43.735429Z",
     "start_time": "2021-01-20T17:03:43.709085Z"
    }
   },
   "outputs": [],
   "source": [
    "scale_variables = ['Age','Fare']\n",
    "train_data_scale_vars = train_data_clean.loc[:,scale_variables]"
   ]
  },
  {
   "cell_type": "code",
   "execution_count": 62,
   "metadata": {
    "ExecuteTime": {
     "end_time": "2021-01-21T05:48:44.328652Z",
     "start_time": "2021-01-21T05:48:44.284600Z"
    }
   },
   "outputs": [
    {
     "data": {
      "text/plain": [
       "StandardScaler()"
      ]
     },
     "execution_count": 62,
     "metadata": {},
     "output_type": "execute_result"
    }
   ],
   "source": [
    "sc.fit(train_data_scale_vars) "
   ]
  },
  {
   "cell_type": "code",
   "execution_count": 63,
   "metadata": {
    "ExecuteTime": {
     "end_time": "2021-01-21T05:49:55.125233Z",
     "start_time": "2021-01-21T05:49:55.112236Z"
    }
   },
   "outputs": [],
   "source": [
    "train_data_scaled_columns = sc.transform(train_data_scale_vars)"
   ]
  },
  {
   "cell_type": "code",
   "execution_count": 74,
   "metadata": {
    "ExecuteTime": {
     "end_time": "2021-01-21T06:39:46.567371Z",
     "start_time": "2021-01-21T06:39:46.552559Z"
    }
   },
   "outputs": [],
   "source": [
    "new_scale_variables = ['Age_sc', 'Fare_sc']\n",
    "train_data_scaled_columns_df = pd.DataFrame(train_data_scaled_columns, columns = new_scale_variables)"
   ]
  },
  {
   "cell_type": "code",
   "execution_count": 76,
   "metadata": {
    "ExecuteTime": {
     "end_time": "2021-01-21T06:56:00.794913Z",
     "start_time": "2021-01-21T06:56:00.772315Z"
    }
   },
   "outputs": [],
   "source": [
    "train_data_enc_scaled = train_data_enc.join(train_data_scaled_columns_df)"
   ]
  },
  {
   "cell_type": "code",
   "execution_count": 258,
   "metadata": {
    "ExecuteTime": {
     "end_time": "2021-01-25T16:41:24.009347Z",
     "start_time": "2021-01-25T16:41:23.995755Z"
    }
   },
   "outputs": [],
   "source": [
    "#train_data_enc_scaled.head()"
   ]
  },
  {
   "cell_type": "markdown",
   "metadata": {},
   "source": [
    "### Split Train Data"
   ]
  },
  {
   "cell_type": "markdown",
   "metadata": {},
   "source": [
    "#### All data split after preprocessing"
   ]
  },
  {
   "cell_type": "code",
   "execution_count": 169,
   "metadata": {
    "ExecuteTime": {
     "end_time": "2021-01-26T20:42:46.925002Z",
     "start_time": "2021-01-26T20:42:46.890461Z"
    }
   },
   "outputs": [
    {
     "data": {
      "text/plain": [
       "(888,)"
      ]
     },
     "execution_count": 169,
     "metadata": {},
     "output_type": "execute_result"
    }
   ],
   "source": [
    "#Split to train test again\n",
    "X_train = all_dummies[all_dummies.train_test == 1].drop(['train_test'], axis = 1)\n",
    "X_test = all_dummies[all_dummies.train_test == 0].drop(['train_test'], axis = 1)\n",
    "\n",
    "\n",
    "y_train = all_data[all_data.train_test==1].Survived\n",
    "y_train.shape"
   ]
  },
  {
   "cell_type": "markdown",
   "metadata": {},
   "source": [
    "#### Train data split for validation"
   ]
  },
  {
   "cell_type": "code",
   "execution_count": 80,
   "metadata": {
    "ExecuteTime": {
     "end_time": "2021-01-21T10:27:13.561703Z",
     "start_time": "2021-01-21T10:27:13.273733Z"
    }
   },
   "outputs": [],
   "source": [
    "from sklearn.model_selection import train_test_split\n",
    "from sklearn import preprocessing, metrics\n"
   ]
  },
  {
   "cell_type": "code",
   "execution_count": 81,
   "metadata": {
    "ExecuteTime": {
     "end_time": "2021-01-21T10:27:16.149343Z",
     "start_time": "2021-01-21T10:27:16.103297Z"
    }
   },
   "outputs": [],
   "source": [
    "# Split train data for model validation\n",
    "X = train_data_enc_scaled.drop(['Survived'], axis = 1)\n",
    "y = train_data_enc_scaled['Survived']\n",
    "X_train, X_val, y_train, y_val = train_test_split(X, y, test_size = 0.2, random_state = 0)"
   ]
  },
  {
   "cell_type": "markdown",
   "metadata": {},
   "source": [
    "### Scale full data set"
   ]
  },
  {
   "cell_type": "code",
   "execution_count": 170,
   "metadata": {
    "ExecuteTime": {
     "end_time": "2021-01-26T20:43:07.389799Z",
     "start_time": "2021-01-26T20:43:07.346428Z"
    }
   },
   "outputs": [],
   "source": [
    "# Scale data \n",
    "from sklearn.preprocessing import StandardScaler\n",
    "scale = StandardScaler()\n",
    "all_dummies_scaled = all_dummies.copy()\n",
    "all_dummies_scaled[['Age','SibSp','Parch','norm_fare']]= scale.fit_transform(all_dummies_scaled[['Age','SibSp','Parch','norm_fare']])\n",
    "\n",
    "X_train_scaled = all_dummies_scaled[all_dummies_scaled.train_test == 1].drop(['train_test'], axis =1)\n",
    "X_test_scaled = all_dummies_scaled[all_dummies_scaled.train_test == 0].drop(['train_test'], axis =1)\n",
    "\n",
    "y_train = all_data[all_data.train_test==1].Survived"
   ]
  },
  {
   "cell_type": "code",
   "execution_count": 171,
   "metadata": {
    "ExecuteTime": {
     "end_time": "2021-01-26T20:43:09.653686Z",
     "start_time": "2021-01-26T20:43:09.579127Z"
    }
   },
   "outputs": [
    {
     "data": {
      "text/html": [
       "<div>\n",
       "<style scoped>\n",
       "    .dataframe tbody tr th:only-of-type {\n",
       "        vertical-align: middle;\n",
       "    }\n",
       "\n",
       "    .dataframe tbody tr th {\n",
       "        vertical-align: top;\n",
       "    }\n",
       "\n",
       "    .dataframe thead th {\n",
       "        text-align: right;\n",
       "    }\n",
       "</style>\n",
       "<table border=\"1\" class=\"dataframe\">\n",
       "  <thead>\n",
       "    <tr style=\"text-align: right;\">\n",
       "      <th></th>\n",
       "      <th>Age</th>\n",
       "      <th>SibSp</th>\n",
       "      <th>Parch</th>\n",
       "      <th>norm_fare</th>\n",
       "      <th>nan_cabin</th>\n",
       "      <th>train_test</th>\n",
       "      <th>Pclass_1</th>\n",
       "      <th>Pclass_2</th>\n",
       "      <th>Pclass_3</th>\n",
       "      <th>Sex_female</th>\n",
       "      <th>...</th>\n",
       "      <th>Embarked_S</th>\n",
       "      <th>Title_Col</th>\n",
       "      <th>Title_Dr</th>\n",
       "      <th>Title_Major</th>\n",
       "      <th>Title_Master</th>\n",
       "      <th>Title_Miss</th>\n",
       "      <th>Title_Mr</th>\n",
       "      <th>Title_Mrs</th>\n",
       "      <th>Title_Ms</th>\n",
       "      <th>Title_Rev</th>\n",
       "    </tr>\n",
       "  </thead>\n",
       "  <tbody>\n",
       "    <tr>\n",
       "      <th>0</th>\n",
       "      <td>-0.596978</td>\n",
       "      <td>0.480498</td>\n",
       "      <td>-0.44478</td>\n",
       "      <td>-0.896048</td>\n",
       "      <td>1</td>\n",
       "      <td>1</td>\n",
       "      <td>0</td>\n",
       "      <td>0</td>\n",
       "      <td>1</td>\n",
       "      <td>0</td>\n",
       "      <td>...</td>\n",
       "      <td>1</td>\n",
       "      <td>0</td>\n",
       "      <td>0</td>\n",
       "      <td>0</td>\n",
       "      <td>0</td>\n",
       "      <td>0</td>\n",
       "      <td>1</td>\n",
       "      <td>0</td>\n",
       "      <td>0</td>\n",
       "      <td>0</td>\n",
       "    </tr>\n",
       "    <tr>\n",
       "      <th>1</th>\n",
       "      <td>0.622060</td>\n",
       "      <td>0.480498</td>\n",
       "      <td>-0.44478</td>\n",
       "      <td>1.349266</td>\n",
       "      <td>0</td>\n",
       "      <td>1</td>\n",
       "      <td>1</td>\n",
       "      <td>0</td>\n",
       "      <td>0</td>\n",
       "      <td>1</td>\n",
       "      <td>...</td>\n",
       "      <td>0</td>\n",
       "      <td>0</td>\n",
       "      <td>0</td>\n",
       "      <td>0</td>\n",
       "      <td>0</td>\n",
       "      <td>0</td>\n",
       "      <td>0</td>\n",
       "      <td>1</td>\n",
       "      <td>0</td>\n",
       "      <td>0</td>\n",
       "    </tr>\n",
       "    <tr>\n",
       "      <th>2</th>\n",
       "      <td>-0.292219</td>\n",
       "      <td>-0.479029</td>\n",
       "      <td>-0.44478</td>\n",
       "      <td>-0.814689</td>\n",
       "      <td>1</td>\n",
       "      <td>1</td>\n",
       "      <td>0</td>\n",
       "      <td>0</td>\n",
       "      <td>1</td>\n",
       "      <td>1</td>\n",
       "      <td>...</td>\n",
       "      <td>1</td>\n",
       "      <td>0</td>\n",
       "      <td>0</td>\n",
       "      <td>0</td>\n",
       "      <td>0</td>\n",
       "      <td>1</td>\n",
       "      <td>0</td>\n",
       "      <td>0</td>\n",
       "      <td>0</td>\n",
       "      <td>0</td>\n",
       "    </tr>\n",
       "    <tr>\n",
       "      <th>3</th>\n",
       "      <td>0.393490</td>\n",
       "      <td>0.480498</td>\n",
       "      <td>-0.44478</td>\n",
       "      <td>1.049503</td>\n",
       "      <td>0</td>\n",
       "      <td>1</td>\n",
       "      <td>1</td>\n",
       "      <td>0</td>\n",
       "      <td>0</td>\n",
       "      <td>1</td>\n",
       "      <td>...</td>\n",
       "      <td>1</td>\n",
       "      <td>0</td>\n",
       "      <td>0</td>\n",
       "      <td>0</td>\n",
       "      <td>0</td>\n",
       "      <td>0</td>\n",
       "      <td>0</td>\n",
       "      <td>1</td>\n",
       "      <td>0</td>\n",
       "      <td>0</td>\n",
       "    </tr>\n",
       "    <tr>\n",
       "      <th>4</th>\n",
       "      <td>0.393490</td>\n",
       "      <td>-0.479029</td>\n",
       "      <td>-0.44478</td>\n",
       "      <td>-0.800301</td>\n",
       "      <td>1</td>\n",
       "      <td>1</td>\n",
       "      <td>0</td>\n",
       "      <td>0</td>\n",
       "      <td>1</td>\n",
       "      <td>0</td>\n",
       "      <td>...</td>\n",
       "      <td>1</td>\n",
       "      <td>0</td>\n",
       "      <td>0</td>\n",
       "      <td>0</td>\n",
       "      <td>0</td>\n",
       "      <td>0</td>\n",
       "      <td>1</td>\n",
       "      <td>0</td>\n",
       "      <td>0</td>\n",
       "      <td>0</td>\n",
       "    </tr>\n",
       "  </tbody>\n",
       "</table>\n",
       "<p>5 rows × 23 columns</p>\n",
       "</div>"
      ],
      "text/plain": [
       "        Age     SibSp    Parch  norm_fare  nan_cabin  train_test  Pclass_1  \\\n",
       "0 -0.596978  0.480498 -0.44478  -0.896048          1           1         0   \n",
       "1  0.622060  0.480498 -0.44478   1.349266          0           1         1   \n",
       "2 -0.292219 -0.479029 -0.44478  -0.814689          1           1         0   \n",
       "3  0.393490  0.480498 -0.44478   1.049503          0           1         1   \n",
       "4  0.393490 -0.479029 -0.44478  -0.800301          1           1         0   \n",
       "\n",
       "   Pclass_2  Pclass_3  Sex_female  ...  Embarked_S  Title_Col  Title_Dr  \\\n",
       "0         0         1           0  ...           1          0         0   \n",
       "1         0         0           1  ...           0          0         0   \n",
       "2         0         1           1  ...           1          0         0   \n",
       "3         0         0           1  ...           1          0         0   \n",
       "4         0         1           0  ...           1          0         0   \n",
       "\n",
       "   Title_Major  Title_Master  Title_Miss  Title_Mr  Title_Mrs  Title_Ms  \\\n",
       "0            0             0           0         1          0         0   \n",
       "1            0             0           0         0          1         0   \n",
       "2            0             0           1         0          0         0   \n",
       "3            0             0           0         0          1         0   \n",
       "4            0             0           0         1          0         0   \n",
       "\n",
       "   Title_Rev  \n",
       "0          0  \n",
       "1          0  \n",
       "2          0  \n",
       "3          0  \n",
       "4          0  \n",
       "\n",
       "[5 rows x 23 columns]"
      ]
     },
     "execution_count": 171,
     "metadata": {},
     "output_type": "execute_result"
    }
   ],
   "source": [
    "all_dummies_scaled.head()"
   ]
  },
  {
   "cell_type": "markdown",
   "metadata": {},
   "source": [
    "## Model building"
=======
      "image/png": "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\n",
      "text/plain": [
       "<Figure size 1152x432 with 1 Axes>"
      ]
     },
     "metadata": {
      "needs_background": "light"
     },
     "output_type": "display_data"
    }
   ],
   "source": [
    "plt.figure(figsize=(16,6))\n",
    "\n",
    "# Line chart showing how FIFA rankings evolved over time \n",
    "sns.lineplot(data=Age_groups)"
>>>>>>> e5bdd1bbbd0afed153ef38f6cc0cd509f4e3d021
   ]
  },
  {
   "cell_type": "markdown",
   "metadata": {},
   "source": [
<<<<<<< HEAD
    "### Validate performance of diff methods"
=======
    "### Selection of others"
>>>>>>> e5bdd1bbbd0afed153ef38f6cc0cd509f4e3d021
   ]
  },
  {
   "cell_type": "code",
<<<<<<< HEAD
   "execution_count": 172,
   "metadata": {
    "ExecuteTime": {
     "end_time": "2021-01-26T20:43:14.873254Z",
     "start_time": "2021-01-26T20:43:14.854245Z"
    }
   },
   "outputs": [],
   "source": [
    "#import models to perform cross-validation tests\n",
    "from sklearn.model_selection import cross_val_score\n",
    "from sklearn.naive_bayes import GaussianNB\n",
    "from sklearn.linear_model import LogisticRegression\n",
    "from sklearn import tree\n",
    "from sklearn.neighbors import KNeighborsClassifier\n",
    "from sklearn.ensemble import RandomForestClassifier\n",
    "from sklearn.svm import SVC"
   ]
  },
  {
   "cell_type": "code",
   "execution_count": 225,
   "metadata": {
    "ExecuteTime": {
     "end_time": "2021-01-28T09:13:08.571239Z",
     "start_time": "2021-01-28T09:13:08.540201Z"
    }
   },
   "outputs": [],
   "source": [
    "#Function to fill cross_val_score for a set of estimators\n",
    "def cross_val_vector(estim_vector, X, Xname, y):\n",
    "    estim_name = []\n",
    "    res_vector = []\n",
    "    \n",
    "    for estim in estim_vector:\n",
    "        estim_name.append(str(estim))\n",
    "        cv = cross_val_score(estim,X,y,cv=5)\n",
    "        res_vector.append(cv.mean())\n",
    "    \n",
    "    #return pd.DataFrame(estim_name,res_vector)\n",
    "    return pd.DataFrame(res_vector, index=estim_name , columns=Xname)"
=======
   "execution_count": 74,
   "metadata": {
    "ExecuteTime": {
     "end_time": "2020-09-28T06:15:06.043638Z",
     "start_time": "2020-09-28T06:15:06.019080Z"
    }
   },
   "outputs": [
    {
     "data": {
      "text/plain": [
       "Embarked_label\n",
       "0     75\n",
       "1     27\n",
       "2    165\n",
       "Name: Survived, dtype: int64"
      ]
     },
     "execution_count": 74,
     "metadata": {},
     "output_type": "execute_result"
    }
   ],
   "source": [
    "Emb_Surv = Train_df.loc[:,['Embarked_label','Survived']]\n",
    "Emb_groups = Emb_Surv.groupby(['Embarked_label'])['Survived'].sum()\n",
    "Emb_groups"
>>>>>>> e5bdd1bbbd0afed153ef38f6cc0cd509f4e3d021
   ]
  },
  {
   "cell_type": "code",
<<<<<<< HEAD
   "execution_count": 229,
   "metadata": {
    "ExecuteTime": {
     "end_time": "2021-01-28T09:20:49.217386Z",
     "start_time": "2021-01-28T09:20:49.193063Z"
    }
   },
   "outputs": [],
   "source": [
    "#Naive Bayes\n",
    "gnb = GaussianNB()\n",
    "\n",
    "# Logistic Regression\n",
    "lr = LogisticRegression(max_iter = 2000)\n",
    "\n",
    "#Decision Tree. X_train_scaled\n",
    "dt = tree.DecisionTreeClassifier(random_state = 1)\n",
    "\n",
    "#Random Forest. X_train_scaled\n",
    "rf = RandomForestClassifier(random_state = 1)\n",
    "\n",
    "#KNeightbors. X_train_scaled\n",
    "knn = KNeighborsClassifier()\n",
    "\n",
    "#Support Vector Classifier\n",
    "svc = SVC(probability = True)\n",
    "\n",
    "#XGBoost\n",
    "from xgboost import XGBClassifier\n",
    "xgb = XGBClassifier(random_state =1)\n",
    "\n",
    "#Voting classifier \n",
    "from sklearn.ensemble import VotingClassifier\n",
    "voting_clf = VotingClassifier(estimators = [('lr',lr),('knn',knn),('rf',rf),('gnb',gnb),('svc',svc),('xgb',xgb)], \n",
    "                              voting = 'soft') "
   ]
  },
  {
   "cell_type": "code",
   "execution_count": 232,
   "metadata": {
    "ExecuteTime": {
     "end_time": "2021-01-28T09:26:28.674954Z",
     "start_time": "2021-01-28T09:26:19.199640Z"
    }
   },
   "outputs": [],
   "source": [
    "#Buils estim vector\n",
    "estimators = [gnb, lr, dt, rf, knn, svc, xgb, voting_clf]\n",
    "\n",
    "#Caclulate score for the vector of estimators\n",
    "cross_Xtrain = cross_val_vector(estimators, X_train, ['X_train'], y_train)"
   ]
  },
  {
   "cell_type": "code",
   "execution_count": null,
   "metadata": {},
   "outputs": [],
   "source": [
    "cross_Xtrain_scaled = cross_val_vector(estimators, X_train_scaled, ['X_train_scaled'], y_train)"
=======
   "execution_count": 78,
   "metadata": {
    "ExecuteTime": {
     "end_time": "2020-09-28T06:17:55.193630Z",
     "start_time": "2020-09-28T06:17:54.956952Z"
    }
   },
   "outputs": [
    {
     "data": {
      "text/plain": [
       "<AxesSubplot:xlabel='Embarked_label', ylabel='Survived'>"
      ]
     },
     "execution_count": 78,
     "metadata": {},
     "output_type": "execute_result"
    },
    {
     "data": {
      "image/png": "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\n",
      "text/plain": [
       "<Figure size 576x720 with 1 Axes>"
      ]
     },
     "metadata": {
      "needs_background": "light"
     },
     "output_type": "display_data"
    }
   ],
   "source": [
    "plt.figure(figsize=(8,10))\n",
    "\n",
    "# Line chart showing how FIFA rankings evolved over time \n",
    "sns.lineplot(data = Emb_groups)"
   ]
  },
  {
   "cell_type": "markdown",
   "metadata": {},
   "source": [
    "### Select K best"
>>>>>>> e5bdd1bbbd0afed153ef38f6cc0cd509f4e3d021
   ]
  },
  {
   "cell_type": "code",
<<<<<<< HEAD
   "execution_count": 236,
   "metadata": {
    "ExecuteTime": {
     "end_time": "2021-01-28T09:30:37.763961Z",
     "start_time": "2021-01-28T09:30:37.743995Z"
    }
   },
   "outputs": [],
   "source": [
    "cross_df = pd.concat([cross_Xtrain, cross_Xtrain_scaled], axis=1)"
=======
   "execution_count": 24,
   "metadata": {
    "ExecuteTime": {
     "end_time": "2020-09-27T13:29:14.407716Z",
     "start_time": "2020-09-27T13:29:14.372718Z"
    }
   },
   "outputs": [
    {
     "data": {
      "text/plain": [
       "array([[ 3.    ,  1.    ,  1.    , 15.5   ],\n",
       "       [ 1.    ,  0.    ,  0.    , 79.2   ],\n",
       "       [ 3.    ,  1.    ,  2.    ,  7.0458],\n",
       "       ...,\n",
       "       [ 1.    ,  1.    ,  2.    , 30.    ],\n",
       "       [ 3.    ,  1.    ,  1.    ,  7.75  ],\n",
       "       [ 2.    ,  1.    ,  0.    , 41.5792]])"
      ]
     },
     "execution_count": 24,
     "metadata": {},
     "output_type": "execute_result"
    }
   ],
   "source": [
    "from sklearn.feature_selection import SelectKBest, f_classif\n",
    "\n",
    "#test_data.head()\n",
    "\n",
    "'''\n",
    "SibSp - siblings and spouse\n",
    "Parch - parents and children\n",
    "'''\n",
    "\n",
    "feature_cols = ['Pclass','Sex_label','Embarked_label','Title_label','Age','Fare','SibSp','Parch']\n",
    "# Keep 5 features\n",
    "selector = SelectKBest(f_classif, k=4)\n",
    "\n",
    "X_new = selector.fit_transform(X_train_label[feature_cols], y_train)\n",
    "X_new"
>>>>>>> e5bdd1bbbd0afed153ef38f6cc0cd509f4e3d021
   ]
  },
  {
   "cell_type": "code",
<<<<<<< HEAD
   "execution_count": 237,
   "metadata": {
    "ExecuteTime": {
     "end_time": "2021-01-28T09:30:39.941158Z",
     "start_time": "2021-01-28T09:30:39.910526Z"
=======
   "execution_count": 25,
   "metadata": {
    "ExecuteTime": {
     "end_time": "2020-09-27T13:29:17.029232Z",
     "start_time": "2020-09-27T13:29:16.986037Z"
>>>>>>> e5bdd1bbbd0afed153ef38f6cc0cd509f4e3d021
    }
   },
   "outputs": [
    {
     "data": {
      "text/html": [
       "<div>\n",
       "<style scoped>\n",
       "    .dataframe tbody tr th:only-of-type {\n",
       "        vertical-align: middle;\n",
       "    }\n",
       "\n",
       "    .dataframe tbody tr th {\n",
       "        vertical-align: top;\n",
       "    }\n",
       "\n",
       "    .dataframe thead th {\n",
       "        text-align: right;\n",
       "    }\n",
       "</style>\n",
       "<table border=\"1\" class=\"dataframe\">\n",
       "  <thead>\n",
       "    <tr style=\"text-align: right;\">\n",
       "      <th></th>\n",
<<<<<<< HEAD
       "      <th>X_train</th>\n",
       "      <th>X_train_scaled</th>\n",
=======
       "      <th>Pclass</th>\n",
       "      <th>Sex_label</th>\n",
       "      <th>Embarked_label</th>\n",
       "      <th>Title_label</th>\n",
       "      <th>Age</th>\n",
       "      <th>Fare</th>\n",
       "      <th>SibSp</th>\n",
       "      <th>Parch</th>\n",
>>>>>>> e5bdd1bbbd0afed153ef38f6cc0cd509f4e3d021
       "    </tr>\n",
       "  </thead>\n",
       "  <tbody>\n",
       "    <tr>\n",
<<<<<<< HEAD
       "      <th>GaussianNB()</th>\n",
       "      <td>0.797347</td>\n",
       "      <td>0.781616</td>\n",
       "    </tr>\n",
       "    <tr>\n",
       "      <th>LogisticRegression(max_iter=2000)</th>\n",
       "      <td>0.832248</td>\n",
       "      <td>0.832248</td>\n",
       "    </tr>\n",
       "    <tr>\n",
       "      <th>DecisionTreeClassifier(random_state=1)</th>\n",
       "      <td>0.793893</td>\n",
       "      <td>0.797264</td>\n",
       "    </tr>\n",
       "    <tr>\n",
       "      <th>RandomForestClassifier(random_state=1)</th>\n",
       "      <td>0.810779</td>\n",
       "      <td>0.808525</td>\n",
       "    </tr>\n",
       "    <tr>\n",
       "      <th>KNeighborsClassifier()</th>\n",
       "      <td>0.811991</td>\n",
       "      <td>0.808589</td>\n",
       "    </tr>\n",
       "    <tr>\n",
       "      <th>SVC(probability=True)</th>\n",
       "      <td>0.722992</td>\n",
       "      <td>0.828826</td>\n",
       "    </tr>\n",
       "    <tr>\n",
       "      <th>XGBClassifier(base_score=None, booster=None, colsample_bylevel=None,\\n              colsample_bynode=None, colsample_bytree=None, gamma=None,\\n              gpu_id=None, importance_type='gain', interaction_constraints=None,\\n              learning_rate=None, max_delta_step=None, max_depth=None,\\n              min_child_weight=None, missing=nan, monotone_constraints=None,\\n              n_estimators=100, n_jobs=None, num_parallel_tree=None,\\n              random_state=1, reg_alpha=None, reg_lambda=None,\\n              scale_pos_weight=None, subsample=None, tree_method=None,\\n              validate_parameters=None, verbosity=None)</th>\n",
       "      <td>0.823183</td>\n",
       "      <td>0.823183</td>\n",
       "    </tr>\n",
       "    <tr>\n",
       "      <th>VotingClassifier(estimators=[('lr', LogisticRegression(max_iter=2000)),\\n                             ('knn', KNeighborsClassifier()),\\n                             ('rf', RandomForestClassifier(random_state=1)),\\n                             ('gnb', GaussianNB()),\\n                             ('svc', SVC(probability=True)),\\n                             ('xgb',\\n                              XGBClassifier(base_score=None, booster=None,\\n                                            colsample_bylevel=None,\\n                                            colsample_bynode=None,\\n                                            colsample_bytree=None, gamma=None,\\n                                            gpu_id=None, importance_t...\\n                                            interaction_constraints=None,\\n                                            learning_rate=None,\\n                                            max_delta_step=None, max_depth=None,\\n                                            min_child_weight=None, missing=nan,\\n                                            monotone_constraints=None,\\n                                            n_estimators=100, n_jobs=None,\\n                                            num_parallel_tree=None,\\n                                            random_state=1, reg_alpha=None,\\n                                            reg_lambda=None,\\n                                            scale_pos_weight=None,\\n                                            subsample=None, tree_method=None,\\n                                            validate_parameters=None,\\n                                            verbosity=None))],\\n                 voting='soft')</th>\n",
       "      <td>0.829963</td>\n",
       "      <td>0.833352</td>\n",
=======
       "      <th>364</th>\n",
       "      <td>3.0</td>\n",
       "      <td>1.0</td>\n",
       "      <td>1.0</td>\n",
       "      <td>0.0</td>\n",
       "      <td>0.0</td>\n",
       "      <td>15.5000</td>\n",
       "      <td>0.0</td>\n",
       "      <td>0.0</td>\n",
       "    </tr>\n",
       "    <tr>\n",
       "      <th>256</th>\n",
       "      <td>1.0</td>\n",
       "      <td>0.0</td>\n",
       "      <td>0.0</td>\n",
       "      <td>0.0</td>\n",
       "      <td>0.0</td>\n",
       "      <td>79.2000</td>\n",
       "      <td>0.0</td>\n",
       "      <td>0.0</td>\n",
       "    </tr>\n",
       "    <tr>\n",
       "      <th>477</th>\n",
       "      <td>3.0</td>\n",
       "      <td>1.0</td>\n",
       "      <td>2.0</td>\n",
       "      <td>0.0</td>\n",
       "      <td>0.0</td>\n",
       "      <td>7.0458</td>\n",
       "      <td>0.0</td>\n",
       "      <td>0.0</td>\n",
       "    </tr>\n",
       "    <tr>\n",
       "      <th>272</th>\n",
       "      <td>2.0</td>\n",
       "      <td>0.0</td>\n",
       "      <td>2.0</td>\n",
       "      <td>0.0</td>\n",
       "      <td>0.0</td>\n",
       "      <td>19.5000</td>\n",
       "      <td>0.0</td>\n",
       "      <td>0.0</td>\n",
       "    </tr>\n",
       "    <tr>\n",
       "      <th>554</th>\n",
       "      <td>3.0</td>\n",
       "      <td>0.0</td>\n",
       "      <td>2.0</td>\n",
       "      <td>0.0</td>\n",
       "      <td>0.0</td>\n",
       "      <td>7.7750</td>\n",
       "      <td>0.0</td>\n",
       "      <td>0.0</td>\n",
>>>>>>> e5bdd1bbbd0afed153ef38f6cc0cd509f4e3d021
       "    </tr>\n",
       "  </tbody>\n",
       "</table>\n",
       "</div>"
      ],
      "text/plain": [
<<<<<<< HEAD
       "                                                     X_train  X_train_scaled\n",
       "GaussianNB()                                        0.797347        0.781616\n",
       "LogisticRegression(max_iter=2000)                   0.832248        0.832248\n",
       "DecisionTreeClassifier(random_state=1)              0.793893        0.797264\n",
       "RandomForestClassifier(random_state=1)              0.810779        0.808525\n",
       "KNeighborsClassifier()                              0.811991        0.808589\n",
       "SVC(probability=True)                               0.722992        0.828826\n",
       "XGBClassifier(base_score=None, booster=None, co...  0.823183        0.823183\n",
       "VotingClassifier(estimators=[('lr', LogisticReg...  0.829963        0.833352"
      ]
     },
     "execution_count": 237,
=======
       "     Pclass  Sex_label  Embarked_label  Title_label  Age     Fare  SibSp  \\\n",
       "364     3.0        1.0             1.0          0.0  0.0  15.5000    0.0   \n",
       "256     1.0        0.0             0.0          0.0  0.0  79.2000    0.0   \n",
       "477     3.0        1.0             2.0          0.0  0.0   7.0458    0.0   \n",
       "272     2.0        0.0             2.0          0.0  0.0  19.5000    0.0   \n",
       "554     3.0        0.0             2.0          0.0  0.0   7.7750    0.0   \n",
       "\n",
       "     Parch  \n",
       "364    0.0  \n",
       "256    0.0  \n",
       "477    0.0  \n",
       "272    0.0  \n",
       "554    0.0  "
      ]
     },
     "execution_count": 25,
>>>>>>> e5bdd1bbbd0afed153ef38f6cc0cd509f4e3d021
     "metadata": {},
     "output_type": "execute_result"
    }
   ],
   "source": [
<<<<<<< HEAD
    "cross_df"
   ]
  },
  {
   "cell_type": "code",
   "execution_count": 182,
   "metadata": {
    "ExecuteTime": {
     "end_time": "2021-01-26T20:44:06.042000Z",
     "start_time": "2021-01-26T20:44:05.097246Z"
    }
   },
   "outputs": [],
   "source": [
    "#Predict the result and prepare submission\n",
    "voting_clf.fit(X_train_scaled,y_train)\n",
    "y_hat_base_vc = voting_clf.predict(X_test_scaled).astype(int)\n",
    "\n",
    "basic_submission = {'PassengerId': test_data.PassengerId, 'Survived': y_hat_base_vc}\n",
    "\n",
    "base_submission = pd.DataFrame(data=basic_submission)\n",
    "base_submission.to_csv('base_submission.csv', index=False)"
=======
    "# Get back the features we've kept, zero out all other features\n",
    "selected_features = pd.DataFrame(selector.inverse_transform(X_new), \n",
    "                                 index=X_train_label.index, \n",
    "                                 columns=feature_cols)\n",
    "selected_features.head()"
>>>>>>> e5bdd1bbbd0afed153ef38f6cc0cd509f4e3d021
   ]
  },
  {
   "cell_type": "markdown",
   "metadata": {},
   "source": [
<<<<<<< HEAD
    "### Model tuning"
   ]
  },
  {
   "cell_type": "code",
   "execution_count": 239,
   "metadata": {
    "ExecuteTime": {
     "end_time": "2021-01-28T10:58:51.703104Z",
     "start_time": "2021-01-28T10:58:51.694151Z"
    }
   },
   "outputs": [],
   "source": [
    "#Use gridSearch to fine tune the models\n",
    "from sklearn.model_selection import GridSearchCV \n",
    "from sklearn.model_selection import RandomizedSearchCV"
=======
    "## Model training"
>>>>>>> e5bdd1bbbd0afed153ef38f6cc0cd509f4e3d021
   ]
  },
  {
   "cell_type": "code",
<<<<<<< HEAD
   "execution_count": 240,
   "metadata": {
    "ExecuteTime": {
     "end_time": "2021-01-28T11:05:04.228270Z",
     "start_time": "2021-01-28T11:05:04.213600Z"
=======
   "execution_count": 158,
   "metadata": {
    "ExecuteTime": {
     "end_time": "2020-11-01T13:49:42.966313Z",
     "start_time": "2020-11-01T13:49:42.954735Z"
>>>>>>> e5bdd1bbbd0afed153ef38f6cc0cd509f4e3d021
    }
   },
   "outputs": [],
   "source": [
<<<<<<< HEAD
    "#simple performance reporting function\n",
    "def clf_performance(classifier, model_name):\n",
    "    print(model_name)\n",
    "    print('Best Score: ' + str(classifier.best_score_))\n",
    "    print('Best Parameters: ' + str(classifier.best_params_))"
   ]
  },
  {
   "cell_type": "code",
   "execution_count": 241,
   "metadata": {
    "ExecuteTime": {
     "end_time": "2021-01-28T11:08:54.048317Z",
     "start_time": "2021-01-28T11:08:40.575407Z"
    }
   },
   "outputs": [
    {
     "name": "stdout",
     "output_type": "stream",
     "text": [
      "Fitting 5 folds for each of 40 candidates, totalling 200 fits\n"
     ]
    },
    {
     "name": "stderr",
     "output_type": "stream",
     "text": [
      "[Parallel(n_jobs=-1)]: Using backend LokyBackend with 8 concurrent workers.\n",
      "[Parallel(n_jobs=-1)]: Done  34 tasks      | elapsed:   12.6s\n"
     ]
    },
    {
     "name": "stdout",
     "output_type": "stream",
     "text": [
      "Logistic Regression\n",
      "Best Score: 0.8333714213165747\n",
      "Best Parameters: {'C': 1.623776739188721, 'max_iter': 2000, 'penalty': 'l2', 'solver': 'liblinear'}\n"
     ]
    },
    {
     "name": "stderr",
     "output_type": "stream",
     "text": [
      "[Parallel(n_jobs=-1)]: Done 200 out of 200 | elapsed:   13.3s finished\n"
     ]
    }
   ],
   "source": [
    "lr = LogisticRegression()\n",
    "param_grid = {'max_iter' : [2000],\n",
    "              'penalty' : ['l1', 'l2'],\n",
    "              'C' : np.logspace(-4, 4, 20),\n",
    "              'solver' : ['liblinear']}\n",
    "\n",
    "clf_lr = GridSearchCV(lr, param_grid = param_grid, cv = 5, verbose = True, n_jobs = -1)\n",
    "best_clf_lr = clf_lr.fit(X_train_scaled,y_train)\n",
    "clf_performance(best_clf_lr,'Logistic Regression')"
   ]
  },
  {
   "cell_type": "code",
   "execution_count": null,
   "metadata": {},
   "outputs": [],
   "source": []
  },
  {
=======
    "feature_cols = ['Pclass','Sex_label','Embarked_label','Title_label','Age','Fare','SibSp','Parch']\n",
    "feature_cols_2 = ['Pclass','Sex_label','Embarked_label','Title_label','Age','Fare']\n",
    "fearure_cols_3 = ['Sex_label']"
   ]
  },
  {
>>>>>>> e5bdd1bbbd0afed153ef38f6cc0cd509f4e3d021
   "cell_type": "markdown",
   "metadata": {},
   "source": [
    "### LightGBM model train"
   ]
  },
  {
   "cell_type": "code",
<<<<<<< HEAD
   "execution_count": 88,
   "metadata": {
    "ExecuteTime": {
     "end_time": "2021-01-21T13:10:17.026054Z",
     "start_time": "2021-01-21T13:10:16.809186Z"
=======
   "execution_count": 21,
   "metadata": {
    "ExecuteTime": {
     "end_time": "2020-09-27T13:14:05.572190Z",
     "start_time": "2020-09-27T13:14:05.371605Z"
>>>>>>> e5bdd1bbbd0afed153ef38f6cc0cd509f4e3d021
    }
   },
   "outputs": [
    {
     "name": "stdout",
     "output_type": "stream",
     "text": [
      "[LightGBM] [Info] Number of positive: 267, number of negative: 444\n",
<<<<<<< HEAD
      "[LightGBM] [Warning] Auto-choosing row-wise multi-threading, the overhead of testing was 0.001981 seconds.\n",
      "You can set `force_row_wise=true` to remove the overhead.\n",
      "And if memory is not enough, you can set `force_col_wise=true`.\n",
      "[LightGBM] [Info] Total Bins 231\n",
      "[LightGBM] [Info] Number of data points in the train set: 711, number of used features: 15\n",
=======
      "[LightGBM] [Warning] Auto-choosing row-wise multi-threading, the overhead of testing was 0.000368 seconds.\n",
      "You can set `force_row_wise=true` to remove the overhead.\n",
      "And if memory is not enough, you can set `force_col_wise=true`.\n",
      "[LightGBM] [Info] Total Bins 212\n",
      "[LightGBM] [Info] Number of data points in the train set: 711, number of used features: 8\n",
>>>>>>> e5bdd1bbbd0afed153ef38f6cc0cd509f4e3d021
      "[LightGBM] [Info] [binary:BoostFromScore]: pavg=0.375527 -> initscore=-0.508576\n",
      "[LightGBM] [Info] Start training from score -0.508576\n",
      "[LightGBM] [Warning] No further splits with positive gain, best gain: -inf\n",
      "[LightGBM] [Warning] No further splits with positive gain, best gain: -inf\n",
      "[LightGBM] [Warning] No further splits with positive gain, best gain: -inf\n",
      "[LightGBM] [Warning] No further splits with positive gain, best gain: -inf\n",
      "[LightGBM] [Warning] No further splits with positive gain, best gain: -inf\n",
      "[LightGBM] [Warning] No further splits with positive gain, best gain: -inf\n",
      "[LightGBM] [Warning] No further splits with positive gain, best gain: -inf\n",
      "[LightGBM] [Warning] No further splits with positive gain, best gain: -inf\n",
      "[LightGBM] [Warning] No further splits with positive gain, best gain: -inf\n",
      "[LightGBM] [Warning] No further splits with positive gain, best gain: -inf\n",
      "[LightGBM] [Warning] No further splits with positive gain, best gain: -inf\n",
      "[LightGBM] [Warning] No further splits with positive gain, best gain: -inf\n",
      "[LightGBM] [Warning] No further splits with positive gain, best gain: -inf\n",
      "[LightGBM] [Warning] No further splits with positive gain, best gain: -inf\n",
      "[LightGBM] [Warning] No further splits with positive gain, best gain: -inf\n",
      "[LightGBM] [Warning] No further splits with positive gain, best gain: -inf\n",
      "[LightGBM] [Warning] No further splits with positive gain, best gain: -inf\n",
      "[LightGBM] [Warning] No further splits with positive gain, best gain: -inf\n",
      "[LightGBM] [Warning] No further splits with positive gain, best gain: -inf\n",
      "[LightGBM] [Warning] No further splits with positive gain, best gain: -inf\n",
      "[LightGBM] [Warning] No further splits with positive gain, best gain: -inf\n",
      "[LightGBM] [Warning] No further splits with positive gain, best gain: -inf\n",
      "[LightGBM] [Warning] No further splits with positive gain, best gain: -inf\n",
      "[LightGBM] [Warning] No further splits with positive gain, best gain: -inf\n",
<<<<<<< HEAD
=======
      "[LightGBM] [Warning] No further splits with positive gain, best gain: -inf\n",
      "[LightGBM] [Warning] No further splits with positive gain, best gain: -inf\n",
      "[LightGBM] [Warning] No further splits with positive gain, best gain: -inf\n",
      "[LightGBM] [Warning] No further splits with positive gain, best gain: -inf\n",
      "[LightGBM] [Warning] No further splits with positive gain, best gain: -inf\n",
      "[LightGBM] [Warning] No further splits with positive gain, best gain: -inf\n",
      "[LightGBM] [Warning] No further splits with positive gain, best gain: -inf\n",
      "[LightGBM] [Warning] No further splits with positive gain, best gain: -inf\n",
      "[LightGBM] [Warning] No further splits with positive gain, best gain: -inf\n",
      "[LightGBM] [Warning] No further splits with positive gain, best gain: -inf\n",
      "[LightGBM] [Warning] No further splits with positive gain, best gain: -inf\n",
      "[LightGBM] [Warning] No further splits with positive gain, best gain: -inf\n",
      "[LightGBM] [Warning] No further splits with positive gain, best gain: -inf\n",
      "[LightGBM] [Warning] No further splits with positive gain, best gain: -inf\n",
      "[LightGBM] [Warning] No further splits with positive gain, best gain: -inf\n",
      "[LightGBM] [Warning] No further splits with positive gain, best gain: -inf\n",
      "[LightGBM] [Warning] No further splits with positive gain, best gain: -inf\n",
      "[LightGBM] [Warning] No further splits with positive gain, best gain: -inf\n",
      "[LightGBM] [Warning] No further splits with positive gain, best gain: -inf\n",
      "[LightGBM] [Warning] No further splits with positive gain, best gain: -inf\n",
      "[LightGBM] [Warning] No further splits with positive gain, best gain: -inf\n",
      "[LightGBM] [Warning] No further splits with positive gain, best gain: -inf\n",
      "[LightGBM] [Warning] No further splits with positive gain, best gain: -inf\n",
      "[LightGBM] [Warning] No further splits with positive gain, best gain: -inf\n",
      "[LightGBM] [Warning] No further splits with positive gain, best gain: -inf\n",
      "[LightGBM] [Warning] No further splits with positive gain, best gain: -inf\n",
      "[LightGBM] [Warning] No further splits with positive gain, best gain: -inf\n",
      "[LightGBM] [Warning] No further splits with positive gain, best gain: -inf\n",
>>>>>>> e5bdd1bbbd0afed153ef38f6cc0cd509f4e3d021
      "[LightGBM] [Warning] No further splits with positive gain, best gain: -inf\n"
     ]
    }
   ],
   "source": [
    "import lightgbm as lgb\n",
    "\n",
    "\n",
<<<<<<< HEAD
    "dtrain = lgb.Dataset(X_train[feature_cols_1], label=y_train)\n",
    "dvalid = lgb.Dataset(X_val[feature_cols_1], label=y_val)\n",
=======
    "\n",
    "dtrain = lgb.Dataset(X_train_label[feature_cols], label=y_train)\n",
    "dvalid = lgb.Dataset(X_val_label[feature_cols], label=y_val)\n",
>>>>>>> e5bdd1bbbd0afed153ef38f6cc0cd509f4e3d021
    "\n",
    "param = {'num_leaves': 64, 'objective': 'binary'}\n",
    "param['metric'] = 'auc'\n",
    "num_round = 1000\n",
    "bst = lgb.train(param, dtrain, num_round, valid_sets=[dvalid], early_stopping_rounds=10, verbose_eval=False)\n"
   ]
  },
  {
   "cell_type": "markdown",
   "metadata": {},
   "source": [
    "### XGBoost model"
   ]
  },
  {
   "cell_type": "code",
<<<<<<< HEAD
   "execution_count": 89,
   "metadata": {
    "ExecuteTime": {
     "end_time": "2021-01-21T13:10:24.951597Z",
     "start_time": "2021-01-21T13:10:21.727533Z"
=======
   "execution_count": 151,
   "metadata": {
    "ExecuteTime": {
     "end_time": "2020-11-01T13:43:45.658490Z",
     "start_time": "2020-11-01T13:43:45.650951Z"
>>>>>>> e5bdd1bbbd0afed153ef38f6cc0cd509f4e3d021
    }
   },
   "outputs": [],
   "source": [
    "from xgboost import XGBClassifier"
   ]
  },
  {
   "cell_type": "code",
<<<<<<< HEAD
   "execution_count": 90,
   "metadata": {
    "ExecuteTime": {
     "end_time": "2021-01-21T13:10:32.023580Z",
     "start_time": "2021-01-21T13:10:30.113558Z"
=======
   "execution_count": 159,
   "metadata": {
    "ExecuteTime": {
     "end_time": "2020-11-01T13:49:49.633278Z",
     "start_time": "2020-11-01T13:49:49.607076Z"
>>>>>>> e5bdd1bbbd0afed153ef38f6cc0cd509f4e3d021
    }
   },
   "outputs": [
    {
<<<<<<< HEAD
     "data": {
      "text/plain": [
       "XGBClassifier(base_score=0.5, booster='gbtree', colsample_bylevel=1,\n",
       "              colsample_bynode=1, colsample_bytree=1, gamma=0, gpu_id=-1,\n",
       "              importance_type='gain', interaction_constraints='',\n",
       "              learning_rate=0.300000012, max_delta_step=0, max_depth=6,\n",
       "              min_child_weight=1, missing=nan, monotone_constraints='()',\n",
       "              n_estimators=100, n_jobs=0, num_parallel_tree=1, random_state=0,\n",
       "              reg_alpha=0, reg_lambda=1, scale_pos_weight=1, subsample=1,\n",
       "              tree_method='exact', validate_parameters=1, verbosity=None)"
      ]
     },
     "execution_count": 90,
     "metadata": {},
     "output_type": "execute_result"
=======
     "ename": "NameError",
     "evalue": "name 'feature_cols_3' is not defined",
     "output_type": "error",
     "traceback": [
      "\u001b[1;31m---------------------------------------------------------------------------\u001b[0m",
      "\u001b[1;31mNameError\u001b[0m                                 Traceback (most recent call last)",
      "\u001b[1;32m<ipython-input-159-eb193ef35b2c>\u001b[0m in \u001b[0;36m<module>\u001b[1;34m\u001b[0m\n\u001b[0;32m      1\u001b[0m \u001b[0mXGB_model\u001b[0m \u001b[1;33m=\u001b[0m \u001b[0mXGBClassifier\u001b[0m\u001b[1;33m(\u001b[0m\u001b[1;33m)\u001b[0m\u001b[1;33m\u001b[0m\u001b[1;33m\u001b[0m\u001b[0m\n\u001b[1;32m----> 2\u001b[1;33m \u001b[0mXGB_model\u001b[0m\u001b[1;33m.\u001b[0m\u001b[0mfit\u001b[0m\u001b[1;33m(\u001b[0m\u001b[0mX_train_label\u001b[0m\u001b[1;33m[\u001b[0m\u001b[0mfeature_cols_3\u001b[0m\u001b[1;33m]\u001b[0m\u001b[1;33m,\u001b[0m \u001b[0my_train\u001b[0m\u001b[1;33m)\u001b[0m\u001b[1;33m\u001b[0m\u001b[1;33m\u001b[0m\u001b[0m\n\u001b[0m",
      "\u001b[1;31mNameError\u001b[0m: name 'feature_cols_3' is not defined"
     ]
>>>>>>> e5bdd1bbbd0afed153ef38f6cc0cd509f4e3d021
    }
   ],
   "source": [
    "XGB_model = XGBClassifier()\n",
<<<<<<< HEAD
    "XGB_model.fit(X_train[feature_cols_1], y_train)"
=======
    "XGB_model.fit(X_train_label[feature_cols_3], y_train)"
>>>>>>> e5bdd1bbbd0afed153ef38f6cc0cd509f4e3d021
   ]
  },
  {
   "cell_type": "code",
<<<<<<< HEAD
   "execution_count": 92,
   "metadata": {
    "ExecuteTime": {
     "end_time": "2021-01-21T13:10:51.306803Z",
     "start_time": "2021-01-21T13:10:51.266296Z"
=======
   "execution_count": 153,
   "metadata": {
    "ExecuteTime": {
     "end_time": "2020-11-01T13:43:51.987150Z",
     "start_time": "2020-11-01T13:43:51.958518Z"
>>>>>>> e5bdd1bbbd0afed153ef38f6cc0cd509f4e3d021
    }
   },
   "outputs": [],
   "source": [
<<<<<<< HEAD
    "y_pred = XGB_model.predict(X_val[feature_cols_1])"
=======
    "y_pred = XGB_model.predict(X_val_label[feature_cols_2])"
>>>>>>> e5bdd1bbbd0afed153ef38f6cc0cd509f4e3d021
   ]
  },
  {
   "cell_type": "code",
<<<<<<< HEAD
   "execution_count": 94,
   "metadata": {
    "ExecuteTime": {
     "end_time": "2021-01-21T13:11:06.259126Z",
     "start_time": "2021-01-21T13:11:06.176449Z"
=======
   "execution_count": 157,
   "metadata": {
    "ExecuteTime": {
     "end_time": "2020-11-01T13:46:20.877370Z",
     "start_time": "2020-11-01T13:46:20.815785Z"
>>>>>>> e5bdd1bbbd0afed153ef38f6cc0cd509f4e3d021
    }
   },
   "outputs": [
    {
     "data": {
      "text/plain": [
<<<<<<< HEAD
       "array([[9.05129373e-01, 9.48706120e-02],\n",
       "       [9.15475845e-01, 8.45241696e-02],\n",
       "       [2.92412519e-01, 7.07587481e-01],\n",
       "       [8.81880522e-02, 9.11811948e-01],\n",
       "       [7.65760124e-01, 2.34239876e-01],\n",
       "       [2.22393870e-02, 9.77760613e-01],\n",
       "       [9.27843630e-01, 7.21563473e-02],\n",
       "       [8.16022873e-01, 1.83977127e-01],\n",
       "       [9.34283078e-01, 6.57169074e-02],\n",
       "       [2.05547214e-02, 9.79445279e-01],\n",
       "       [8.33933115e-01, 1.66066885e-01],\n",
       "       [8.36771727e-01, 1.63228288e-01],\n",
       "       [1.08978748e-02, 9.89102125e-01],\n",
       "       [1.88533068e-02, 9.81146693e-01],\n",
       "       [9.76648211e-01, 2.33517960e-02],\n",
       "       [8.64448249e-01, 1.35551736e-01],\n",
       "       [2.96606004e-01, 7.03393996e-01],\n",
       "       [5.76568961e-01, 4.23431009e-01],\n",
       "       [9.75218713e-01, 2.47812830e-02],\n",
       "       [6.42396212e-02, 9.35760379e-01],\n",
       "       [2.82080770e-01, 7.17919230e-01],\n",
       "       [2.98591256e-01, 7.01408744e-01],\n",
       "       [8.40427637e-01, 1.59572348e-01],\n",
       "       [3.40475917e-01, 6.59524083e-01],\n",
       "       [1.22498870e-02, 9.87750113e-01],\n",
       "       [5.47296643e-01, 4.52703327e-01],\n",
       "       [8.06104422e-01, 1.93895549e-01],\n",
       "       [2.17235744e-01, 7.82764256e-01],\n",
       "       [7.30322719e-01, 2.69677311e-01],\n",
       "       [9.58280742e-01, 4.17192578e-02],\n",
       "       [3.83246899e-01, 6.16753101e-01],\n",
       "       [6.86764181e-01, 3.13235819e-01],\n",
       "       [4.67464566e-01, 5.32535434e-01],\n",
       "       [9.59141493e-01, 4.08584774e-02],\n",
       "       [9.85650480e-01, 1.43495211e-02],\n",
       "       [9.32641923e-01, 6.73580766e-02],\n",
       "       [9.48517501e-01, 5.14825210e-02],\n",
       "       [8.70069623e-01, 1.29930347e-01],\n",
       "       [9.00168061e-01, 9.98319089e-02],\n",
       "       [9.54639077e-01, 4.53609452e-02],\n",
       "       [5.90142012e-02, 9.40985799e-01],\n",
       "       [5.49084187e-01, 4.50915784e-01],\n",
       "       [7.40158141e-01, 2.59841859e-01],\n",
       "       [9.83943582e-01, 1.60563961e-02],\n",
       "       [9.68312621e-02, 9.03168738e-01],\n",
       "       [9.72573817e-01, 2.74261814e-02],\n",
       "       [9.73493814e-01, 2.65061781e-02],\n",
       "       [9.41210866e-01, 5.87891117e-02],\n",
       "       [4.17296469e-01, 5.82703531e-01],\n",
       "       [8.78835976e-01, 1.21164024e-01],\n",
       "       [8.67197812e-01, 1.32802203e-01],\n",
       "       [1.77844882e-01, 8.22155118e-01],\n",
       "       [5.51446795e-01, 4.48553175e-01],\n",
       "       [8.96903098e-01, 1.03096887e-01],\n",
       "       [4.44140971e-01, 5.55859029e-01],\n",
       "       [8.87098074e-01, 1.12901956e-01],\n",
       "       [3.55566800e-01, 6.44433200e-01],\n",
       "       [3.89978290e-02, 9.61002171e-01],\n",
       "       [8.56733441e-01, 1.43266559e-01],\n",
       "       [7.84699619e-01, 2.15300366e-01],\n",
       "       [2.28968441e-01, 7.71031559e-01],\n",
       "       [9.73106146e-01, 2.68938299e-02],\n",
       "       [7.16881633e-01, 2.83118337e-01],\n",
       "       [8.08934331e-01, 1.91065669e-01],\n",
       "       [9.80131090e-01, 1.98689085e-02],\n",
       "       [8.93333197e-01, 1.06666826e-01],\n",
       "       [6.96520448e-01, 3.03479582e-01],\n",
       "       [3.90383601e-02, 9.60961640e-01],\n",
       "       [1.06022358e-02, 9.89397764e-01],\n",
       "       [9.40690160e-01, 5.93098328e-02],\n",
       "       [2.73233473e-01, 7.26766527e-01],\n",
       "       [5.08359432e-01, 4.91640538e-01],\n",
       "       [5.36729455e-01, 4.63270515e-01],\n",
       "       [7.34262705e-01, 2.65737265e-01],\n",
       "       [3.89118791e-02, 9.61088121e-01],\n",
       "       [8.90993476e-02, 9.10900652e-01],\n",
       "       [9.83139455e-01, 1.68605726e-02],\n",
       "       [9.82145667e-01, 1.78543404e-02],\n",
       "       [7.37316370e-01, 2.62683630e-01],\n",
       "       [4.72371101e-01, 5.27628899e-01],\n",
       "       [3.79692256e-01, 6.20307744e-01],\n",
       "       [7.07434535e-01, 2.92565495e-01],\n",
       "       [2.49264956e-01, 7.50735044e-01],\n",
       "       [7.52245784e-02, 9.24775422e-01],\n",
       "       [9.35446024e-01, 6.45539761e-02],\n",
       "       [9.18281078e-03, 9.90817189e-01],\n",
       "       [7.85022438e-01, 2.14977548e-01],\n",
       "       [9.17157710e-01, 8.28422755e-02],\n",
       "       [9.46567655e-01, 5.34323715e-02],\n",
       "       [8.79467666e-01, 1.20532349e-01],\n",
       "       [8.16103280e-01, 1.83896735e-01],\n",
       "       [2.25536942e-01, 7.74463058e-01],\n",
       "       [6.72454238e-02, 9.32754576e-01],\n",
       "       [8.56255412e-01, 1.43744603e-01],\n",
       "       [9.70534265e-01, 2.94657219e-02],\n",
       "       [9.78785753e-01, 2.12142523e-02],\n",
       "       [2.61638343e-01, 7.38361657e-01],\n",
       "       [5.61584115e-01, 4.38415915e-01],\n",
       "       [8.64415646e-01, 1.35584354e-01],\n",
       "       [1.84111357e-01, 8.15888643e-01],\n",
       "       [8.39233160e-01, 1.60766810e-01],\n",
       "       [3.24897170e-01, 6.75102830e-01],\n",
       "       [8.58757615e-01, 1.41242370e-01],\n",
       "       [6.63740039e-02, 9.33625996e-01],\n",
       "       [9.80455935e-01, 1.95440445e-02],\n",
       "       [1.15804255e-01, 8.84195745e-01],\n",
       "       [9.89085853e-01, 1.09141441e-02],\n",
       "       [1.52791381e-01, 8.47208619e-01],\n",
       "       [5.50340652e-01, 4.49659377e-01],\n",
       "       [5.05764008e-01, 4.94235992e-01],\n",
       "       [5.45198917e-02, 9.45480108e-01],\n",
       "       [8.57040107e-01, 1.42959878e-01],\n",
       "       [7.71177053e-01, 2.28822917e-01],\n",
       "       [8.84405136e-01, 1.15594871e-01],\n",
       "       [5.13234556e-01, 4.86765444e-01],\n",
       "       [4.62704897e-03, 9.95372951e-01],\n",
       "       [8.97997737e-01, 1.02002263e-01],\n",
       "       [7.84123719e-01, 2.15876266e-01],\n",
       "       [3.31804276e-01, 6.68195724e-01],\n",
       "       [7.41236746e-01, 2.58763254e-01],\n",
       "       [8.30893040e-01, 1.69106975e-01],\n",
       "       [9.54353929e-01, 4.56460938e-02],\n",
       "       [4.66712654e-01, 5.33287346e-01],\n",
       "       [1.48104966e-01, 8.51895034e-01],\n",
       "       [8.95888925e-01, 1.04111083e-01],\n",
       "       [5.66244125e-05, 9.99943376e-01],\n",
       "       [8.59517872e-01, 1.40482143e-01],\n",
       "       [5.25961995e-01, 4.74037975e-01],\n",
       "       [5.32706499e-01, 4.67293501e-01],\n",
       "       [9.61746275e-01, 3.82537246e-02],\n",
       "       [4.33181703e-01, 5.66818297e-01],\n",
       "       [7.05121398e-01, 2.94878632e-01],\n",
       "       [9.42114294e-01, 5.78856915e-02],\n",
       "       [9.71947134e-01, 2.80528907e-02],\n",
       "       [9.60927963e-01, 3.90720144e-02],\n",
       "       [2.23459065e-01, 7.76540935e-01],\n",
       "       [6.54459417e-01, 3.45540583e-01],\n",
       "       [6.02420330e-01, 3.97579700e-01],\n",
       "       [1.36336625e-01, 8.63663375e-01],\n",
       "       [9.86885965e-01, 1.31140482e-02],\n",
       "       [8.17730844e-01, 1.82269141e-01],\n",
       "       [6.31461024e-01, 3.68538976e-01],\n",
       "       [1.83504820e-03, 9.98164952e-01],\n",
       "       [3.25609446e-02, 9.67439055e-01],\n",
       "       [1.65371180e-01, 8.34628820e-01],\n",
       "       [9.37679887e-01, 6.23201095e-02],\n",
       "       [7.50911951e-01, 2.49088049e-01],\n",
       "       [8.93879235e-01, 1.06120765e-01],\n",
       "       [9.28538620e-01, 7.14613944e-02],\n",
       "       [9.62362766e-01, 3.76372524e-02],\n",
       "       [8.40761423e-01, 1.59238607e-01],\n",
       "       [9.62747335e-01, 3.72526459e-02],\n",
       "       [8.86148810e-01, 1.13851205e-01],\n",
       "       [7.80544043e-01, 2.19455928e-01],\n",
       "       [7.57676244e-01, 2.42323741e-01],\n",
       "       [9.76165533e-01, 2.38344800e-02],\n",
       "       [1.17883444e-01, 8.82116556e-01],\n",
       "       [7.98775077e-01, 2.01224938e-01],\n",
       "       [6.14067078e-01, 3.85932893e-01],\n",
       "       [9.85198975e-01, 1.48010515e-02],\n",
       "       [9.83054876e-01, 1.69451423e-02],\n",
       "       [7.00164616e-01, 2.99835384e-01],\n",
       "       [7.22332835e-01, 2.77667165e-01],\n",
       "       [8.94979715e-01, 1.05020307e-01],\n",
       "       [8.66379857e-01, 1.33620128e-01],\n",
       "       [6.09466314e-01, 3.90533656e-01],\n",
       "       [9.86350060e-01, 1.36499126e-02],\n",
       "       [1.10681653e-01, 8.89318347e-01],\n",
       "       [1.75690830e-01, 8.24309170e-01],\n",
       "       [7.02841282e-02, 9.29715872e-01],\n",
       "       [7.87794471e-01, 2.12205514e-01],\n",
       "       [5.23283005e-01, 4.76716995e-01],\n",
       "       [5.82532406e-01, 4.17467564e-01],\n",
       "       [9.14777339e-01, 8.52226466e-02],\n",
       "       [9.14525807e-01, 8.54742154e-02],\n",
       "       [9.92335856e-01, 7.66414450e-03],\n",
       "       [4.69095767e-01, 5.30904233e-01],\n",
       "       [6.59059167e-01, 3.40940803e-01]], dtype=float32)"
      ]
     },
     "execution_count": 94,
=======
       "array([[1.03409350e-01, 8.96590650e-01],\n",
       "       [7.02598095e-01, 2.97401905e-01],\n",
       "       [3.27110291e-04, 9.99672890e-01],\n",
       "       [1.57726407e-01, 8.42273593e-01],\n",
       "       [9.95955765e-01, 4.04423848e-03],\n",
       "       [7.12029219e-01, 2.87970811e-01],\n",
       "       [8.72687161e-01, 1.27312854e-01],\n",
       "       [1.17996693e-01, 8.82003307e-01],\n",
       "       [1.63463593e-01, 8.36536407e-01],\n",
       "       [3.99133086e-01, 6.00866914e-01],\n",
       "       [7.95371175e-01, 2.04628810e-01],\n",
       "       [4.69803810e-04, 9.99530196e-01],\n",
       "       [5.15037775e-02, 9.48496222e-01],\n",
       "       [9.80623960e-01, 1.93760339e-02],\n",
       "       [1.46029413e-01, 8.53970587e-01],\n",
       "       [9.89244878e-01, 1.07551385e-02],\n",
       "       [6.53564930e-04, 9.99346435e-01],\n",
       "       [9.77607429e-01, 2.23925933e-02],\n",
       "       [7.63679564e-01, 2.36320436e-01],\n",
       "       [1.24373436e-02, 9.87562656e-01],\n",
       "       [7.50908375e-01, 2.49091595e-01],\n",
       "       [7.89064169e-03, 9.92109358e-01],\n",
       "       [2.99387455e-01, 7.00612545e-01],\n",
       "       [9.97198939e-01, 2.80103344e-03],\n",
       "       [9.35410559e-01, 6.45894483e-02],\n",
       "       [2.64669538e-01, 7.35330462e-01],\n",
       "       [7.70274580e-01, 2.29725435e-01],\n",
       "       [8.85717034e-01, 1.14282995e-01],\n",
       "       [2.99387455e-01, 7.00612545e-01],\n",
       "       [2.35021114e-01, 7.64978886e-01],\n",
       "       [2.80120790e-01, 7.19879210e-01],\n",
       "       [9.90623116e-01, 9.37691145e-03],\n",
       "       [9.63238239e-01, 3.67617905e-02],\n",
       "       [4.08657789e-02, 9.59134221e-01],\n",
       "       [9.78652537e-01, 2.13474836e-02],\n",
       "       [9.92367148e-01, 7.63286743e-03],\n",
       "       [9.67840612e-01, 3.21593769e-02],\n",
       "       [9.95408058e-01, 4.59195813e-03],\n",
       "       [9.89873528e-01, 1.01264575e-02],\n",
       "       [9.88521457e-01, 1.14785209e-02],\n",
       "       [5.36651015e-02, 9.46334898e-01],\n",
       "       [9.75628853e-01, 2.43711378e-02],\n",
       "       [1.74279213e-01, 8.25720787e-01],\n",
       "       [9.88611817e-01, 1.13881556e-02],\n",
       "       [2.77972221e-03, 9.97220278e-01],\n",
       "       [9.86701429e-01, 1.32985609e-02],\n",
       "       [9.61474061e-01, 3.85259539e-02],\n",
       "       [9.97051418e-01, 2.94857565e-03],\n",
       "       [9.58252311e-01, 4.17476706e-02],\n",
       "       [9.60203826e-01, 3.97961698e-02],\n",
       "       [9.33720767e-01, 6.62792102e-02],\n",
       "       [9.15417016e-01, 8.45829621e-02],\n",
       "       [9.72112417e-01, 2.78876126e-02],\n",
       "       [8.29364538e-01, 1.70635462e-01],\n",
       "       [9.32255864e-01, 6.77441210e-02],\n",
       "       [4.17296290e-02, 9.58270371e-01],\n",
       "       [2.37733781e-01, 7.62266219e-01],\n",
       "       [8.29505920e-03, 9.91704941e-01],\n",
       "       [8.81635010e-01, 1.18365012e-01],\n",
       "       [9.65704560e-01, 3.42954658e-02],\n",
       "       [2.92801619e-01, 7.07198381e-01],\n",
       "       [9.89843488e-01, 1.01564862e-02],\n",
       "       [1.45903468e-01, 8.54096532e-01],\n",
       "       [9.95877206e-01, 4.12279367e-03],\n",
       "       [9.54957604e-01, 4.50423732e-02],\n",
       "       [7.46563792e-01, 2.53436208e-01],\n",
       "       [9.78745818e-02, 9.02125418e-01],\n",
       "       [4.29549217e-02, 9.57045078e-01],\n",
       "       [4.92095947e-03, 9.95079041e-01],\n",
       "       [5.81010103e-01, 4.18989867e-01],\n",
       "       [2.91105986e-01, 7.08894014e-01],\n",
       "       [9.79960561e-01, 2.00394578e-02],\n",
       "       [9.92113531e-01, 7.88649078e-03],\n",
       "       [1.41671896e-02, 9.85832810e-01],\n",
       "       [9.36525881e-01, 6.34741113e-02],\n",
       "       [7.01813817e-01, 2.98186183e-01],\n",
       "       [9.52802956e-01, 4.71970215e-02],\n",
       "       [9.88611817e-01, 1.13881556e-02],\n",
       "       [2.64520645e-02, 9.73547935e-01],\n",
       "       [7.74002910e-01, 2.25997075e-01],\n",
       "       [9.29646015e-01, 7.03540146e-02],\n",
       "       [4.10652161e-03, 9.95893478e-01],\n",
       "       [1.62603259e-02, 9.83739674e-01],\n",
       "       [3.72291207e-02, 9.62770879e-01],\n",
       "       [4.75795269e-02, 9.52420473e-01],\n",
       "       [8.51402998e-01, 1.48596987e-01],\n",
       "       [9.89673316e-01, 1.03266751e-02],\n",
       "       [9.96099889e-01, 3.90013005e-03],\n",
       "       [9.17784274e-01, 8.22157487e-02],\n",
       "       [9.96255100e-01, 3.74487066e-03],\n",
       "       [9.13886726e-01, 8.61132517e-02],\n",
       "       [8.77615809e-02, 9.12238419e-01],\n",
       "       [5.48345447e-02, 9.45165455e-01],\n",
       "       [9.40696716e-01, 5.93033098e-02],\n",
       "       [2.70978272e-01, 7.29021728e-01],\n",
       "       [1.46029413e-01, 8.53970587e-01],\n",
       "       [7.56901503e-03, 9.92430985e-01],\n",
       "       [3.36144924e-01, 6.63855076e-01],\n",
       "       [6.48216605e-01, 3.51783395e-01],\n",
       "       [2.17711926e-03, 9.97822881e-01],\n",
       "       [9.67258036e-01, 3.27419639e-02],\n",
       "       [1.62398815e-03, 9.98376012e-01],\n",
       "       [9.98062074e-01, 1.93790335e-03],\n",
       "       [1.05169415e-02, 9.89483058e-01],\n",
       "       [9.80698586e-01, 1.93014145e-02],\n",
       "       [3.75950336e-03, 9.96240497e-01],\n",
       "       [9.95408058e-01, 4.59195813e-03],\n",
       "       [9.44051027e-01, 5.59489876e-02],\n",
       "       [9.23030853e-01, 7.69691542e-02],\n",
       "       [1.62750483e-03, 9.98372495e-01],\n",
       "       [1.58512592e-03, 9.98414874e-01],\n",
       "       [1.07676148e-01, 8.92323852e-01],\n",
       "       [9.97198939e-01, 2.80103344e-03],\n",
       "       [1.91558957e-01, 8.08441043e-01],\n",
       "       [5.21545112e-01, 4.78454888e-01],\n",
       "       [9.81101990e-01, 1.88980326e-02],\n",
       "       [9.88075316e-01, 1.19246766e-02],\n",
       "       [7.63679564e-01, 2.36320436e-01],\n",
       "       [9.24998641e-01, 7.50013515e-02],\n",
       "       [9.89989400e-01, 1.00106122e-02],\n",
       "       [9.90427256e-01, 9.57274530e-03],\n",
       "       [9.22313392e-01, 7.76865929e-02],\n",
       "       [9.80670214e-01, 1.93297584e-02],\n",
       "       [8.85326266e-01, 1.14673719e-01],\n",
       "       [9.85892177e-01, 1.41078420e-02],\n",
       "       [6.75345540e-01, 3.24654430e-01],\n",
       "       [9.54759657e-01, 4.52403538e-02],\n",
       "       [9.90043223e-01, 9.95679386e-03],\n",
       "       [9.91525769e-01, 8.47422983e-03],\n",
       "       [5.83838105e-01, 4.16161865e-01],\n",
       "       [9.95128572e-01, 4.87144478e-03],\n",
       "       [9.33542073e-01, 6.64579421e-02],\n",
       "       [7.65681446e-01, 2.34318554e-01],\n",
       "       [7.47853994e-01, 2.52146035e-01],\n",
       "       [9.92367148e-01, 7.63286743e-03],\n",
       "       [5.59208632e-01, 4.40791368e-01],\n",
       "       [9.83420908e-01, 1.65790766e-02],\n",
       "       [7.44243443e-01, 2.55756557e-01],\n",
       "       [9.49436426e-03, 9.90505636e-01],\n",
       "       [9.99542952e-01, 4.57028305e-04],\n",
       "       [7.84084499e-01, 2.15915501e-01],\n",
       "       [9.40696716e-01, 5.93033098e-02],\n",
       "       [6.20269775e-03, 9.93797302e-01],\n",
       "       [1.68824077e-01, 8.31175923e-01],\n",
       "       [4.92322445e-02, 9.50767756e-01],\n",
       "       [9.94626582e-01, 5.37339877e-03],\n",
       "       [9.76762295e-01, 2.32376810e-02],\n",
       "       [2.07552075e-01, 7.92447925e-01],\n",
       "       [9.50204134e-01, 4.97958809e-02],\n",
       "       [9.52258468e-01, 4.77415547e-02],\n",
       "       [9.96500254e-01, 3.49973142e-03],\n",
       "       [9.94897127e-01, 5.10285795e-03],\n",
       "       [7.44529963e-02, 9.25547004e-01],\n",
       "       [9.88452792e-01, 1.15472097e-02],\n",
       "       [9.91275370e-01, 8.72463733e-03],\n",
       "       [7.53652453e-01, 2.46347517e-01],\n",
       "       [2.19036579e-01, 7.80963421e-01],\n",
       "       [8.03649426e-04, 9.99196351e-01],\n",
       "       [2.48268843e-02, 9.75173116e-01],\n",
       "       [9.65688765e-01, 3.43112275e-02],\n",
       "       [9.08254802e-01, 9.17451978e-02],\n",
       "       [9.88722801e-01, 1.12771904e-02],\n",
       "       [3.70988250e-02, 9.62901175e-01],\n",
       "       [9.80670214e-01, 1.93297584e-02],\n",
       "       [9.95342314e-01, 4.65768017e-03],\n",
       "       [2.73001909e-01, 7.26998091e-01],\n",
       "       [9.97088075e-01, 2.91193998e-03],\n",
       "       [1.86866522e-03, 9.98131335e-01],\n",
       "       [9.13796365e-01, 8.62036198e-02],\n",
       "       [5.20765781e-04, 9.99479234e-01],\n",
       "       [8.55183601e-01, 1.44816428e-01],\n",
       "       [9.94711220e-01, 5.28877648e-03],\n",
       "       [9.78547871e-01, 2.14521512e-02],\n",
       "       [9.35703278e-01, 6.42967373e-02],\n",
       "       [7.76057005e-01, 2.23942965e-01],\n",
       "       [7.23183692e-01, 2.76816308e-01],\n",
       "       [2.66073704e-01, 7.33926296e-01],\n",
       "       [1.97273850e-01, 8.02726150e-01]], dtype=float32)"
      ]
     },
     "execution_count": 157,
>>>>>>> e5bdd1bbbd0afed153ef38f6cc0cd509f4e3d021
     "metadata": {},
     "output_type": "execute_result"
    }
   ],
   "source": [
<<<<<<< HEAD
    "y_pred_ = XGB_model.predict_proba(X_val[feature_cols_1])\n",
=======
    "y_pred_ = XGB_model.predict_proba(X_val_label[feature_cols_2])\n",
>>>>>>> e5bdd1bbbd0afed153ef38f6cc0cd509f4e3d021
    "y_pred_"
   ]
  },
  {
   "cell_type": "code",
<<<<<<< HEAD
   "execution_count": 95,
   "metadata": {
    "ExecuteTime": {
     "end_time": "2021-01-21T13:11:11.151772Z",
     "start_time": "2021-01-21T13:11:11.127383Z"
=======
   "execution_count": 154,
   "metadata": {
    "ExecuteTime": {
     "end_time": "2020-11-01T13:43:54.166200Z",
     "start_time": "2020-11-01T13:43:54.159056Z"
>>>>>>> e5bdd1bbbd0afed153ef38f6cc0cd509f4e3d021
    }
   },
   "outputs": [
    {
     "data": {
      "text/plain": [
<<<<<<< HEAD
       "array([0, 0, 1, 1, 0, 1, 0, 0, 0, 1, 0, 0, 1, 1, 0, 0, 1, 0, 0, 1, 1, 1,\n",
       "       0, 1, 1, 0, 0, 1, 0, 0, 1, 0, 1, 0, 0, 0, 0, 0, 0, 0, 1, 0, 0, 0,\n",
       "       1, 0, 0, 0, 1, 0, 0, 1, 0, 0, 1, 0, 1, 1, 0, 0, 1, 0, 0, 0, 0, 0,\n",
       "       0, 1, 1, 0, 1, 0, 0, 0, 1, 1, 0, 0, 0, 1, 1, 0, 1, 1, 0, 1, 0, 0,\n",
       "       0, 0, 0, 1, 1, 0, 0, 0, 1, 0, 0, 1, 0, 1, 0, 1, 0, 1, 0, 1, 0, 0,\n",
       "       1, 0, 0, 0, 0, 1, 0, 0, 1, 0, 0, 0, 1, 1, 0, 1, 0, 0, 0, 0, 1, 0,\n",
       "       0, 0, 0, 1, 0, 0, 1, 0, 0, 0, 1, 1, 1, 0, 0, 0, 0, 0, 0, 0, 0, 0,\n",
       "       0, 0, 1, 0, 0, 0, 0, 0, 0, 0, 0, 0, 0, 1, 1, 1, 0, 0, 0, 0, 0, 0,\n",
       "       1, 0], dtype=int64)"
      ]
     },
     "execution_count": 95,
=======
       "array([1, 0, 1, 1, 0, 0, 0, 1, 1, 1, 0, 1, 1, 0, 1, 0, 1, 0, 0, 1, 0, 1,\n",
       "       1, 0, 0, 1, 0, 0, 1, 1, 1, 0, 0, 1, 0, 0, 0, 0, 0, 0, 1, 0, 1, 0,\n",
       "       1, 0, 0, 0, 0, 0, 0, 0, 0, 0, 0, 1, 1, 1, 0, 0, 1, 0, 1, 0, 0, 0,\n",
       "       1, 1, 1, 0, 1, 0, 0, 1, 0, 0, 0, 0, 1, 0, 0, 1, 1, 1, 1, 0, 0, 0,\n",
       "       0, 0, 0, 1, 1, 0, 1, 1, 1, 1, 0, 1, 0, 1, 0, 1, 0, 1, 0, 0, 0, 1,\n",
       "       1, 1, 0, 1, 0, 0, 0, 0, 0, 0, 0, 0, 0, 0, 0, 0, 0, 0, 0, 0, 0, 0,\n",
       "       0, 0, 0, 0, 0, 0, 1, 0, 0, 0, 1, 1, 1, 0, 0, 1, 0, 0, 0, 0, 1, 0,\n",
       "       0, 0, 1, 1, 1, 0, 0, 0, 1, 0, 0, 1, 0, 1, 0, 1, 0, 0, 0, 0, 0, 0,\n",
       "       1, 1], dtype=int64)"
      ]
     },
     "execution_count": 154,
>>>>>>> e5bdd1bbbd0afed153ef38f6cc0cd509f4e3d021
     "metadata": {},
     "output_type": "execute_result"
    }
   ],
   "source": [
    "y_pred"
   ]
  },
  {
   "cell_type": "code",
<<<<<<< HEAD
   "execution_count": 96,
   "metadata": {
    "ExecuteTime": {
     "end_time": "2021-01-21T13:11:14.791550Z",
     "start_time": "2021-01-21T13:11:14.728816Z"
=======
   "execution_count": 155,
   "metadata": {
    "ExecuteTime": {
     "end_time": "2020-11-01T13:43:56.548845Z",
     "start_time": "2020-11-01T13:43:56.453233Z"
>>>>>>> e5bdd1bbbd0afed153ef38f6cc0cd509f4e3d021
    }
   },
   "outputs": [
    {
     "data": {
      "text/plain": [
<<<<<<< HEAD
       "array([[81, 24],\n",
       "       [39, 34]], dtype=int64)"
      ]
     },
     "execution_count": 96,
=======
       "array([[89, 16],\n",
       "       [24, 49]], dtype=int64)"
      ]
     },
     "execution_count": 155,
>>>>>>> e5bdd1bbbd0afed153ef38f6cc0cd509f4e3d021
     "metadata": {},
     "output_type": "execute_result"
    }
   ],
   "source": [
    "from sklearn.metrics import mean_absolute_error\n",
    "from sklearn.metrics import confusion_matrix\n",
    "\n",
    "confusion_matrix(y_val, y_pred)"
   ]
  },
  {
   "cell_type": "code",
<<<<<<< HEAD
   "execution_count": 97,
   "metadata": {
    "ExecuteTime": {
     "end_time": "2021-01-21T13:11:21.260318Z",
     "start_time": "2021-01-21T13:11:21.240305Z"
=======
   "execution_count": 156,
   "metadata": {
    "ExecuteTime": {
     "end_time": "2020-11-01T13:44:01.938153Z",
     "start_time": "2020-11-01T13:44:01.918159Z"
>>>>>>> e5bdd1bbbd0afed153ef38f6cc0cd509f4e3d021
    }
   },
   "outputs": [
    {
     "name": "stdout",
     "output_type": "stream",
     "text": [
<<<<<<< HEAD
      "Mean Absolute Error: 0.3539325842696629\n"
=======
      "Mean Absolute Error: 0.2247191011235955\n"
>>>>>>> e5bdd1bbbd0afed153ef38f6cc0cd509f4e3d021
     ]
    }
   ],
   "source": [
    "print(\"Mean Absolute Error: \" + str(mean_absolute_error(y_pred, y_val)))"
   ]
  },
  {
   "cell_type": "markdown",
   "metadata": {},
   "source": [
    "### Make predictions"
   ]
  },
  {
   "cell_type": "code",
   "execution_count": null,
   "metadata": {},
   "outputs": [],
   "source": [
    "from sklearn import metrics\n",
    "ypred = bst.predict(test[feature_cols])\n",
    "score = metrics.roc_auc_score(test['outcome'], ypred)"
   ]
  },
  {
   "cell_type": "markdown",
   "metadata": {},
   "source": [
    "## Get result on test dataset"
   ]
  },
  {
   "cell_type": "markdown",
   "metadata": {},
   "source": [
    "Plan:\n",
    "1. Overview and recap\n",
    "2. Fill missing\n",
    "3. Drop data and Encoding\n",
    "4. Select feature vector and learn\n",
    "5. Predict"
   ]
  },
  {
   "cell_type": "markdown",
   "metadata": {},
   "source": [
    "### General overview of the test_data"
   ]
  },
  {
   "cell_type": "code",
   "execution_count": 32,
   "metadata": {
    "ExecuteTime": {
     "end_time": "2020-10-29T18:26:39.528352Z",
     "start_time": "2020-10-29T18:26:39.496194Z"
    }
   },
   "outputs": [
    {
     "name": "stdout",
     "output_type": "stream",
     "text": [
      "<class 'pandas.core.frame.DataFrame'>\n",
      "RangeIndex: 418 entries, 0 to 417\n",
      "Data columns (total 11 columns):\n",
      " #   Column       Non-Null Count  Dtype  \n",
      "---  ------       --------------  -----  \n",
      " 0   PassengerId  418 non-null    int64  \n",
      " 1   Pclass       418 non-null    int64  \n",
      " 2   Name         418 non-null    object \n",
      " 3   Sex          418 non-null    object \n",
      " 4   Age          332 non-null    float64\n",
      " 5   SibSp        418 non-null    int64  \n",
      " 6   Parch        418 non-null    int64  \n",
      " 7   Ticket       418 non-null    object \n",
      " 8   Fare         417 non-null    float64\n",
      " 9   Cabin        91 non-null     object \n",
      " 10  Embarked     418 non-null    object \n",
      "dtypes: float64(2), int64(4), object(5)\n",
      "memory usage: 36.0+ KB\n"
     ]
    }
   ],
   "source": [
    "test_data.info()"
   ]
  },
  {
   "cell_type": "code",
   "execution_count": 34,
   "metadata": {
    "ExecuteTime": {
     "end_time": "2020-10-29T18:27:02.965099Z",
     "start_time": "2020-10-29T18:27:02.906821Z"
    }
   },
   "outputs": [
    {
     "data": {
      "text/html": [
       "<div>\n",
       "<style scoped>\n",
       "    .dataframe tbody tr th:only-of-type {\n",
       "        vertical-align: middle;\n",
       "    }\n",
       "\n",
       "    .dataframe tbody tr th {\n",
       "        vertical-align: top;\n",
       "    }\n",
       "\n",
       "    .dataframe thead th {\n",
       "        text-align: right;\n",
       "    }\n",
       "</style>\n",
       "<table border=\"1\" class=\"dataframe\">\n",
       "  <thead>\n",
       "    <tr style=\"text-align: right;\">\n",
       "      <th></th>\n",
       "      <th>PassengerId</th>\n",
       "      <th>Pclass</th>\n",
       "      <th>Name</th>\n",
       "      <th>Sex</th>\n",
       "      <th>Age</th>\n",
       "      <th>SibSp</th>\n",
       "      <th>Parch</th>\n",
       "      <th>Ticket</th>\n",
       "      <th>Fare</th>\n",
       "      <th>Cabin</th>\n",
       "      <th>Embarked</th>\n",
       "    </tr>\n",
       "  </thead>\n",
       "  <tbody>\n",
       "    <tr>\n",
       "      <th>0</th>\n",
       "      <td>892</td>\n",
       "      <td>3</td>\n",
       "      <td>Kelly, Mr. James</td>\n",
       "      <td>male</td>\n",
       "      <td>34.5</td>\n",
       "      <td>0</td>\n",
       "      <td>0</td>\n",
       "      <td>330911</td>\n",
       "      <td>7.8292</td>\n",
       "      <td>NaN</td>\n",
       "      <td>Q</td>\n",
       "    </tr>\n",
       "    <tr>\n",
       "      <th>1</th>\n",
       "      <td>893</td>\n",
       "      <td>3</td>\n",
       "      <td>Wilkes, Mrs. James (Ellen Needs)</td>\n",
       "      <td>female</td>\n",
       "      <td>47.0</td>\n",
       "      <td>1</td>\n",
       "      <td>0</td>\n",
       "      <td>363272</td>\n",
       "      <td>7.0000</td>\n",
       "      <td>NaN</td>\n",
       "      <td>S</td>\n",
       "    </tr>\n",
       "    <tr>\n",
       "      <th>2</th>\n",
       "      <td>894</td>\n",
       "      <td>2</td>\n",
       "      <td>Myles, Mr. Thomas Francis</td>\n",
       "      <td>male</td>\n",
       "      <td>62.0</td>\n",
       "      <td>0</td>\n",
       "      <td>0</td>\n",
       "      <td>240276</td>\n",
       "      <td>9.6875</td>\n",
       "      <td>NaN</td>\n",
       "      <td>Q</td>\n",
       "    </tr>\n",
       "    <tr>\n",
       "      <th>3</th>\n",
       "      <td>895</td>\n",
       "      <td>3</td>\n",
       "      <td>Wirz, Mr. Albert</td>\n",
       "      <td>male</td>\n",
       "      <td>27.0</td>\n",
       "      <td>0</td>\n",
       "      <td>0</td>\n",
       "      <td>315154</td>\n",
       "      <td>8.6625</td>\n",
       "      <td>NaN</td>\n",
       "      <td>S</td>\n",
       "    </tr>\n",
       "    <tr>\n",
       "      <th>4</th>\n",
       "      <td>896</td>\n",
       "      <td>3</td>\n",
       "      <td>Hirvonen, Mrs. Alexander (Helga E Lindqvist)</td>\n",
       "      <td>female</td>\n",
       "      <td>22.0</td>\n",
       "      <td>1</td>\n",
       "      <td>1</td>\n",
       "      <td>3101298</td>\n",
       "      <td>12.2875</td>\n",
       "      <td>NaN</td>\n",
       "      <td>S</td>\n",
       "    </tr>\n",
       "  </tbody>\n",
       "</table>\n",
       "</div>"
      ],
      "text/plain": [
       "   PassengerId  Pclass                                          Name     Sex  \\\n",
       "0          892       3                              Kelly, Mr. James    male   \n",
       "1          893       3              Wilkes, Mrs. James (Ellen Needs)  female   \n",
       "2          894       2                     Myles, Mr. Thomas Francis    male   \n",
       "3          895       3                              Wirz, Mr. Albert    male   \n",
       "4          896       3  Hirvonen, Mrs. Alexander (Helga E Lindqvist)  female   \n",
       "\n",
       "    Age  SibSp  Parch   Ticket     Fare Cabin Embarked  \n",
       "0  34.5      0      0   330911   7.8292   NaN        Q  \n",
       "1  47.0      1      0   363272   7.0000   NaN        S  \n",
       "2  62.0      0      0   240276   9.6875   NaN        Q  \n",
       "3  27.0      0      0   315154   8.6625   NaN        S  \n",
       "4  22.0      1      1  3101298  12.2875   NaN        S  "
      ]
     },
     "execution_count": 34,
     "metadata": {},
     "output_type": "execute_result"
    }
   ],
   "source": [
    "test_data.head()"
   ]
  },
  {
   "cell_type": "markdown",
   "metadata": {},
   "source": [
    "### Fill missing test data"
   ]
  },
  {
   "cell_type": "markdown",
   "metadata": {},
   "source": [
    "#### Fill age"
   ]
  },
  {
   "cell_type": "code",
   "execution_count": 28,
   "metadata": {
    "ExecuteTime": {
     "end_time": "2020-10-29T18:23:01.218352Z",
     "start_time": "2020-10-29T18:23:01.167695Z"
    }
   },
   "outputs": [],
   "source": [
    "#create separated title column\n",
    "test_data_title_column = fill_title(test_data)"
   ]
  },
  {
   "cell_type": "code",
   "execution_count": 35,
   "metadata": {
    "ExecuteTime": {
     "end_time": "2020-10-29T18:35:25.866031Z",
     "start_time": "2020-10-29T18:35:25.839090Z"
    }
   },
   "outputs": [
    {
     "data": {
      "text/plain": [
       "(418,)"
      ]
     },
     "execution_count": 35,
     "metadata": {},
     "output_type": "execute_result"
    }
   ],
   "source": [
    "test_data_title_column.shape"
   ]
  },
  {
   "cell_type": "code",
   "execution_count": 36,
   "metadata": {
    "ExecuteTime": {
     "end_time": "2020-10-29T18:48:20.219001Z",
     "start_time": "2020-10-29T18:48:20.146761Z"
    }
   },
   "outputs": [],
   "source": [
    "#join the title column and fill missing age lines\n",
    "test_data = test_data.join(test_data_title_column)\n",
    "test_data = fill_age(test_data, mean_age_by_title)"
   ]
  },
  {
   "cell_type": "code",
   "execution_count": 38,
   "metadata": {
    "ExecuteTime": {
     "end_time": "2020-10-29T18:54:35.561515Z",
     "start_time": "2020-10-29T18:54:35.531884Z"
    }
   },
   "outputs": [
    {
     "name": "stdout",
     "output_type": "stream",
     "text": [
      "<class 'pandas.core.frame.DataFrame'>\n",
      "RangeIndex: 418 entries, 0 to 417\n",
      "Data columns (total 12 columns):\n",
      " #   Column       Non-Null Count  Dtype  \n",
      "---  ------       --------------  -----  \n",
      " 0   PassengerId  418 non-null    int64  \n",
      " 1   Pclass       418 non-null    int64  \n",
      " 2   Name         418 non-null    object \n",
      " 3   Sex          418 non-null    object \n",
      " 4   Age          418 non-null    float64\n",
      " 5   SibSp        418 non-null    int64  \n",
      " 6   Parch        418 non-null    int64  \n",
      " 7   Ticket       418 non-null    object \n",
      " 8   Fare         417 non-null    float64\n",
      " 9   Cabin        91 non-null     object \n",
      " 10  Embarked     418 non-null    object \n",
      " 11  Title        418 non-null    object \n",
      "dtypes: float64(2), int64(4), object(6)\n",
      "memory usage: 39.3+ KB\n"
     ]
    }
   ],
   "source": [
    "test_data.info()"
   ]
  },
  {
   "cell_type": "markdown",
   "metadata": {},
   "source": [
    "#### Fill Fare\n",
    "We have 1 missing 'Fare' value  \n",
    "!!! This code is temporary for unique case of 1 missing value"
   ]
  },
  {
   "cell_type": "code",
   "execution_count": 103,
   "metadata": {
    "ExecuteTime": {
     "end_time": "2020-10-31T09:01:42.610891Z",
     "start_time": "2020-10-31T09:01:42.594378Z"
    }
   },
   "outputs": [],
   "source": [
    "nofare_lines = test_data.loc[test_data.Fare.isna()]"
   ]
  },
  {
   "cell_type": "code",
   "execution_count": 104,
   "metadata": {
    "ExecuteTime": {
     "end_time": "2020-10-31T09:02:10.282760Z",
     "start_time": "2020-10-31T09:02:10.268796Z"
<<<<<<< HEAD
    },
    "scrolled": true
=======
    }
>>>>>>> e5bdd1bbbd0afed153ef38f6cc0cd509f4e3d021
   },
   "outputs": [
    {
     "name": "stderr",
     "output_type": "stream",
     "text": [
      "C:\\Users\\mikhe\\miniconda3\\lib\\site-packages\\pandas\\core\\generic.py:5303: SettingWithCopyWarning: \n",
      "A value is trying to be set on a copy of a slice from a DataFrame.\n",
      "Try using .loc[row_indexer,col_indexer] = value instead\n",
      "\n",
      "See the caveats in the documentation: https://pandas.pydata.org/pandas-docs/stable/user_guide/indexing.html#returning-a-view-versus-a-copy\n",
      "  self[name] = value\n"
     ]
    }
   ],
   "source": [
    "#bad way to treat df\n",
    "nofare_lines.Fare = fare_dic[fare_line.Pclass.item()]"
   ]
  },
  {
   "cell_type": "code",
   "execution_count": 102,
   "metadata": {
    "ExecuteTime": {
     "end_time": "2020-10-31T09:01:11.228344Z",
     "start_time": "2020-10-31T09:01:11.214111Z"
    }
   },
   "outputs": [
    {
     "name": "stdout",
     "output_type": "stream",
     "text": [
      "missing_fare: 13.675550101832997  index: 152\n"
     ]
    }
   ],
   "source": [
    "missing_fare = fare_dic[fare_line.Pclass.item()]\n",
    "ind = fare_line.index.item()\n",
    "print('missing_fare: ' +  str(missing_fare) + '  index: ' + str(ind))"
   ]
  },
  {
   "cell_type": "code",
   "execution_count": 120,
   "metadata": {
    "ExecuteTime": {
     "end_time": "2020-10-31T10:55:17.287104Z",
     "start_time": "2020-10-31T10:55:17.264146Z"
    }
   },
   "outputs": [],
   "source": [
    "test_data.at[ind, 'Fare'] = missing_fare"
   ]
  },
  {
   "cell_type": "markdown",
   "metadata": {
    "ExecuteTime": {
     "end_time": "2020-10-29T18:57:35.225565Z",
     "start_time": "2020-10-29T18:57:35.211129Z"
    }
   },
   "source": [
    "### Drop not usable data and encode variables"
   ]
  },
  {
   "cell_type": "markdown",
   "metadata": {},
   "source": [
    "#### Drop cols"
   ]
  },
  {
   "cell_type": "code",
   "execution_count": 123,
   "metadata": {
    "ExecuteTime": {
     "end_time": "2020-10-31T10:58:46.214595Z",
     "start_time": "2020-10-31T10:58:46.195950Z"
    }
   },
   "outputs": [],
   "source": [
    "#drop_not_usable_cols\n",
    "cols_to_drop = ['Cabin','Name','Ticket','PassengerId']\n",
    "\n",
    "test_data_clean = test_data.drop(cols_to_drop, axis=1)"
   ]
  },
  {
   "cell_type": "code",
   "execution_count": 124,
   "metadata": {
    "ExecuteTime": {
     "end_time": "2020-10-31T10:58:53.456735Z",
     "start_time": "2020-10-31T10:58:53.419319Z"
    }
   },
   "outputs": [
    {
     "data": {
      "text/html": [
       "<div>\n",
       "<style scoped>\n",
       "    .dataframe tbody tr th:only-of-type {\n",
       "        vertical-align: middle;\n",
       "    }\n",
       "\n",
       "    .dataframe tbody tr th {\n",
       "        vertical-align: top;\n",
       "    }\n",
       "\n",
       "    .dataframe thead th {\n",
       "        text-align: right;\n",
       "    }\n",
       "</style>\n",
       "<table border=\"1\" class=\"dataframe\">\n",
       "  <thead>\n",
       "    <tr style=\"text-align: right;\">\n",
       "      <th></th>\n",
       "      <th>Pclass</th>\n",
       "      <th>Sex</th>\n",
       "      <th>Age</th>\n",
       "      <th>SibSp</th>\n",
       "      <th>Parch</th>\n",
       "      <th>Fare</th>\n",
       "      <th>Embarked</th>\n",
       "      <th>Title</th>\n",
       "    </tr>\n",
       "  </thead>\n",
       "  <tbody>\n",
       "    <tr>\n",
       "      <th>0</th>\n",
       "      <td>3</td>\n",
       "      <td>male</td>\n",
       "      <td>34.5</td>\n",
       "      <td>0</td>\n",
       "      <td>0</td>\n",
       "      <td>7.8292</td>\n",
       "      <td>Q</td>\n",
       "      <td>Mr</td>\n",
       "    </tr>\n",
       "    <tr>\n",
       "      <th>1</th>\n",
       "      <td>3</td>\n",
       "      <td>female</td>\n",
       "      <td>47.0</td>\n",
       "      <td>1</td>\n",
       "      <td>0</td>\n",
       "      <td>7.0000</td>\n",
       "      <td>S</td>\n",
       "      <td>Mrs</td>\n",
       "    </tr>\n",
       "    <tr>\n",
       "      <th>2</th>\n",
       "      <td>2</td>\n",
       "      <td>male</td>\n",
       "      <td>62.0</td>\n",
       "      <td>0</td>\n",
       "      <td>0</td>\n",
       "      <td>9.6875</td>\n",
       "      <td>Q</td>\n",
       "      <td>Mr</td>\n",
       "    </tr>\n",
       "    <tr>\n",
       "      <th>3</th>\n",
       "      <td>3</td>\n",
       "      <td>male</td>\n",
       "      <td>27.0</td>\n",
       "      <td>0</td>\n",
       "      <td>0</td>\n",
       "      <td>8.6625</td>\n",
       "      <td>S</td>\n",
       "      <td>Mr</td>\n",
       "    </tr>\n",
       "    <tr>\n",
       "      <th>4</th>\n",
       "      <td>3</td>\n",
       "      <td>female</td>\n",
       "      <td>22.0</td>\n",
       "      <td>1</td>\n",
       "      <td>1</td>\n",
       "      <td>12.2875</td>\n",
       "      <td>S</td>\n",
       "      <td>Mrs</td>\n",
       "    </tr>\n",
       "  </tbody>\n",
       "</table>\n",
       "</div>"
      ],
      "text/plain": [
       "   Pclass     Sex   Age  SibSp  Parch     Fare Embarked Title\n",
       "0       3    male  34.5      0      0   7.8292        Q    Mr\n",
       "1       3  female  47.0      1      0   7.0000        S   Mrs\n",
       "2       2    male  62.0      0      0   9.6875        Q    Mr\n",
       "3       3    male  27.0      0      0   8.6625        S    Mr\n",
       "4       3  female  22.0      1      1  12.2875        S   Mrs"
      ]
     },
     "execution_count": 124,
     "metadata": {},
     "output_type": "execute_result"
    }
   ],
   "source": [
    "test_data_clean.head()"
   ]
  },
  {
   "cell_type": "markdown",
   "metadata": {},
   "source": [
    "#### Encode full train dataset and test data"
   ]
  },
  {
   "cell_type": "code",
   "execution_count": 125,
   "metadata": {
    "ExecuteTime": {
     "end_time": "2020-10-31T11:01:32.054378Z",
     "start_time": "2020-10-31T11:01:32.034902Z"
    }
   },
   "outputs": [
    {
     "name": "stdout",
     "output_type": "stream",
     "text": [
      "Categorical variables: ['Sex', 'Embarked', 'Title']\n"
     ]
    }
   ],
   "source": [
    "print(\"Categorical variables:\", object_cols )"
   ]
  },
  {
   "cell_type": "code",
   "execution_count": 128,
   "metadata": {
    "ExecuteTime": {
     "end_time": "2020-10-31T17:16:53.198284Z",
     "start_time": "2020-10-31T17:16:53.154050Z"
    }
   },
   "outputs": [],
   "source": [
    "#copy data to a new df to form data w encoded categorical variables\n",
    "X_label = X.copy()\n",
    "test_data_label = test_data_clean.copy()\n",
    "\n",
    "#iterate through categorical variables\n",
    "for feature in object_cols:\n",
    "    label_encoder = preprocessing.LabelEncoder()\n",
    "    label_encoder.fit(X[feature])\n",
    "    labeled_fulltrain = label_encoder.transform(X[feature])  \n",
    "    labeled_test = label_encoder.transform(test_data_clean[feature])\n",
    "    X_label[feature + '_label'] = labeled_fulltrain \n",
    "    test_data_label[feature + '_label'] = labeled_test"
   ]
  },
  {
   "cell_type": "code",
   "execution_count": 131,
   "metadata": {
    "ExecuteTime": {
     "end_time": "2020-10-31T17:33:55.969793Z",
     "start_time": "2020-10-31T17:33:55.919947Z"
    }
   },
   "outputs": [
    {
     "data": {
      "text/html": [
       "<div>\n",
       "<style scoped>\n",
       "    .dataframe tbody tr th:only-of-type {\n",
       "        vertical-align: middle;\n",
       "    }\n",
       "\n",
       "    .dataframe tbody tr th {\n",
       "        vertical-align: top;\n",
       "    }\n",
       "\n",
       "    .dataframe thead th {\n",
       "        text-align: right;\n",
       "    }\n",
       "</style>\n",
       "<table border=\"1\" class=\"dataframe\">\n",
       "  <thead>\n",
       "    <tr style=\"text-align: right;\">\n",
       "      <th></th>\n",
       "      <th>Pclass</th>\n",
       "      <th>Sex</th>\n",
       "      <th>Age</th>\n",
       "      <th>SibSp</th>\n",
       "      <th>Parch</th>\n",
       "      <th>Fare</th>\n",
       "      <th>Embarked</th>\n",
       "      <th>Title</th>\n",
       "      <th>Sex_label</th>\n",
       "      <th>Embarked_label</th>\n",
       "      <th>Title_label</th>\n",
       "    </tr>\n",
       "  </thead>\n",
       "  <tbody>\n",
       "    <tr>\n",
       "      <th>0</th>\n",
       "      <td>3</td>\n",
       "      <td>male</td>\n",
       "      <td>22.0</td>\n",
       "      <td>1</td>\n",
       "      <td>0</td>\n",
       "      <td>7.2500</td>\n",
       "      <td>S</td>\n",
       "      <td>Mr</td>\n",
       "      <td>1</td>\n",
       "      <td>2</td>\n",
       "      <td>5</td>\n",
       "    </tr>\n",
       "    <tr>\n",
       "      <th>1</th>\n",
       "      <td>1</td>\n",
       "      <td>female</td>\n",
       "      <td>38.0</td>\n",
       "      <td>1</td>\n",
       "      <td>0</td>\n",
       "      <td>71.2833</td>\n",
       "      <td>C</td>\n",
       "      <td>Mrs</td>\n",
       "      <td>0</td>\n",
       "      <td>0</td>\n",
       "      <td>6</td>\n",
       "    </tr>\n",
       "    <tr>\n",
       "      <th>2</th>\n",
       "      <td>3</td>\n",
       "      <td>female</td>\n",
       "      <td>26.0</td>\n",
       "      <td>0</td>\n",
       "      <td>0</td>\n",
       "      <td>7.9250</td>\n",
       "      <td>S</td>\n",
       "      <td>Miss</td>\n",
       "      <td>0</td>\n",
       "      <td>2</td>\n",
       "      <td>4</td>\n",
       "    </tr>\n",
       "    <tr>\n",
       "      <th>3</th>\n",
       "      <td>1</td>\n",
       "      <td>female</td>\n",
       "      <td>35.0</td>\n",
       "      <td>1</td>\n",
       "      <td>0</td>\n",
       "      <td>53.1000</td>\n",
       "      <td>S</td>\n",
       "      <td>Mrs</td>\n",
       "      <td>0</td>\n",
       "      <td>2</td>\n",
       "      <td>6</td>\n",
       "    </tr>\n",
       "    <tr>\n",
       "      <th>4</th>\n",
       "      <td>3</td>\n",
       "      <td>male</td>\n",
       "      <td>35.0</td>\n",
       "      <td>0</td>\n",
       "      <td>0</td>\n",
       "      <td>8.0500</td>\n",
       "      <td>S</td>\n",
       "      <td>Mr</td>\n",
       "      <td>1</td>\n",
       "      <td>2</td>\n",
       "      <td>5</td>\n",
       "    </tr>\n",
       "  </tbody>\n",
       "</table>\n",
       "</div>"
      ],
      "text/plain": [
       "   Pclass     Sex   Age  SibSp  Parch     Fare Embarked Title  Sex_label  \\\n",
       "0       3    male  22.0      1      0   7.2500        S    Mr          1   \n",
       "1       1  female  38.0      1      0  71.2833        C   Mrs          0   \n",
       "2       3  female  26.0      0      0   7.9250        S  Miss          0   \n",
       "3       1  female  35.0      1      0  53.1000        S   Mrs          0   \n",
       "4       3    male  35.0      0      0   8.0500        S    Mr          1   \n",
       "\n",
       "   Embarked_label  Title_label  \n",
       "0               2            5  \n",
       "1               0            6  \n",
       "2               2            4  \n",
       "3               2            6  \n",
       "4               2            5  "
      ]
     },
     "execution_count": 131,
     "metadata": {},
     "output_type": "execute_result"
    }
   ],
   "source": [
    "X_label.head()"
   ]
  },
  {
   "cell_type": "code",
   "execution_count": 132,
   "metadata": {
    "ExecuteTime": {
     "end_time": "2020-10-31T17:34:38.031915Z",
     "start_time": "2020-10-31T17:34:38.011864Z"
    }
   },
   "outputs": [
    {
     "name": "stdout",
     "output_type": "stream",
     "text": [
      "(889, 11) (418, 11)\n"
     ]
    }
   ],
   "source": [
    "print(X_label.shape, test_data_label.shape)"
   ]
  },
  {
   "cell_type": "markdown",
   "metadata": {},
   "source": [
    "### Learn the model on full train dataset"
   ]
  },
  {
   "cell_type": "code",
   "execution_count": 130,
   "metadata": {
    "ExecuteTime": {
     "end_time": "2020-10-31T17:30:10.368448Z",
     "start_time": "2020-10-31T17:30:10.352969Z"
    }
   },
   "outputs": [],
   "source": [
    "#select feature vector\n",
    "feature_cols_v1 = ['Pclass','Sex_label','Embarked_label','Title_label','Age','Fare','SibSp','Parch']"
   ]
  },
  {
   "cell_type": "markdown",
   "metadata": {},
   "source": [
    "#### XGBoost model"
   ]
  },
  {
   "cell_type": "code",
   "execution_count": 135,
   "metadata": {
    "ExecuteTime": {
     "end_time": "2020-10-31T17:35:40.060959Z",
     "start_time": "2020-10-31T17:35:37.262425Z"
    }
   },
   "outputs": [
    {
     "data": {
      "text/plain": [
       "XGBClassifier(base_score=0.5, booster='gbtree', colsample_bylevel=1,\n",
       "              colsample_bynode=1, colsample_bytree=1, gamma=0, gpu_id=-1,\n",
       "              importance_type='gain', interaction_constraints='',\n",
       "              learning_rate=0.300000012, max_delta_step=0, max_depth=6,\n",
       "              min_child_weight=1, missing=nan, monotone_constraints='()',\n",
       "              n_estimators=100, n_jobs=0, num_parallel_tree=1, random_state=0,\n",
       "              reg_alpha=0, reg_lambda=1, scale_pos_weight=1, subsample=1,\n",
       "              tree_method='exact', validate_parameters=1, verbosity=None)"
      ]
     },
     "execution_count": 135,
     "metadata": {},
     "output_type": "execute_result"
    }
   ],
   "source": [
    "#from xgboost import XGBClassifier - already done\n",
    "#train\n",
    "XGB_model_full = XGBClassifier()\n",
    "XGB_model_full.fit(X_label[feature_cols_v1], y)"
   ]
  },
  {
   "cell_type": "markdown",
   "metadata": {},
   "source": [
    "### Prediction"
   ]
  },
  {
   "cell_type": "code",
   "execution_count": null,
   "metadata": {},
   "outputs": [],
   "source": []
  },
  {
   "cell_type": "code",
   "execution_count": 139,
   "metadata": {
    "ExecuteTime": {
     "end_time": "2020-10-31T19:21:19.562003Z",
     "start_time": "2020-10-31T19:21:19.524807Z"
    }
   },
   "outputs": [],
   "source": [
    "#XGB prediction\n",
    "y_test_pred = XGB_model_full.predict(test_data_label[feature_cols_v1])"
   ]
  },
  {
   "cell_type": "code",
   "execution_count": 141,
   "metadata": {
    "ExecuteTime": {
     "end_time": "2020-10-31T19:21:41.161800Z",
     "start_time": "2020-10-31T19:21:41.143297Z"
    }
   },
   "outputs": [
    {
     "data": {
      "text/plain": [
       "numpy.ndarray"
      ]
     },
     "execution_count": 141,
     "metadata": {},
     "output_type": "execute_result"
    }
   ],
   "source": [
    "type(y_test_pred)"
   ]
  },
  {
   "cell_type": "code",
   "execution_count": 143,
   "metadata": {
    "ExecuteTime": {
     "end_time": "2020-10-31T19:53:07.667643Z",
     "start_time": "2020-10-31T19:53:07.639353Z"
    }
   },
   "outputs": [
    {
     "name": "stdout",
     "output_type": "stream",
     "text": [
      "Submission was successfully saved!\n"
     ]
    }
   ],
   "source": [
    "#save the submission\n",
    "output = pd.DataFrame({'PassengerId': test_data.PassengerId, 'Survived': y_test_pred})\n",
    "output.to_csv('../titanic/submissions/XGB_submission.csv', index=False)\n",
    "print(\"Submission was successfully saved!\")"
   ]
  }
 ],
 "metadata": {
  "kernelspec": {
   "display_name": "Python 3",
   "language": "python",
   "name": "python3"
  },
  "language_info": {
   "codemirror_mode": {
    "name": "ipython",
    "version": 3
   },
   "file_extension": ".py",
   "mimetype": "text/x-python",
   "name": "python",
   "nbconvert_exporter": "python",
   "pygments_lexer": "ipython3",
   "version": "3.8.3"
  },
  "toc": {
   "base_numbering": 1,
   "nav_menu": {},
   "number_sections": true,
   "sideBar": true,
   "skip_h1_title": false,
   "title_cell": "Table of Contents",
   "title_sidebar": "Contents",
   "toc_cell": false,
   "toc_position": {},
   "toc_section_display": true,
   "toc_window_display": false
  },
  "varInspector": {
   "cols": {
    "lenName": 16,
    "lenType": 16,
    "lenVar": 40
   },
   "kernels_config": {
    "python": {
     "delete_cmd_postfix": "",
     "delete_cmd_prefix": "del ",
     "library": "var_list.py",
     "varRefreshCmd": "print(var_dic_list())"
    },
    "r": {
     "delete_cmd_postfix": ") ",
     "delete_cmd_prefix": "rm(",
     "library": "var_list.r",
     "varRefreshCmd": "cat(var_dic_list()) "
    }
   },
   "position": {
    "height": "471.839px",
    "left": "1003.13px",
    "right": "20px",
    "top": "119px",
    "width": "374px"
   },
   "types_to_exclude": [
    "module",
    "function",
    "builtin_function_or_method",
    "instance",
    "_Feature"
   ],
   "window_display": false
  }
 },
 "nbformat": 4,
 "nbformat_minor": 4
}
